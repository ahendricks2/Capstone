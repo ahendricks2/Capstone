{
 "cells": [
  {
   "cell_type": "markdown",
   "metadata": {},
   "source": [
    "# Data Ingestion Notebook"
   ]
  },
  {
   "cell_type": "markdown",
   "metadata": {},
   "source": [
    "The goal of this project is to build a model to predict how many points a player will score in an NBA game. In this notebook,\n",
    "I start by creating a function to collect player and team data from NBA.com. I begin with player box score records from the 2010-11 season to the 2022-23 season. I use the 2010-11 season as a cut off because, while the league has changed significantly since then, the 2010-11 Finals represent a series that would at least look somewhat recognizable to modern fans, whereas during the prior year’s Finals, the Lakers and the Celtics failed to reach 100 points in all games but one. \n",
    "\n",
    "In this notebook, I gather all of the data to train and test my models by web scraping nba.com.  First, I start with box score data because that is the data set that contains the target variable. After gathering the box score data, I collect additional player and team data to use as features in my model."
   ]
  },
  {
   "cell_type": "markdown",
   "metadata": {},
   "source": [
    "## Data Collection"
   ]
  },
  {
   "cell_type": "markdown",
   "metadata": {},
   "source": [
    "The goal of this part of the notebook is to build functions to pull statistics from all of the seasons that are relevant to my project. The first function takes a list of URLs from nba.com, iterates through each season, collects the data as dataframes, and then concatenates the dataframes for each season into a final dataframe. The second function merges related dataframes into a single dataframe which it exports to a CSV."
   ]
  },
  {
   "cell_type": "code",
   "execution_count": 1,
   "metadata": {},
   "outputs": [],
   "source": [
    "import pandas as pd\n",
    "import requests\n",
    "import re\n",
    "from collections import defaultdict"
   ]
  },
  {
   "cell_type": "markdown",
   "metadata": {},
   "source": [
    "These headers come from the [Stack Overflow](https://stackoverflow.com/questions/59886998/what-headers-am-i-missing-to-scrape-the-nba-stats-data)."
   ]
  },
  {
   "cell_type": "code",
   "execution_count": 2,
   "metadata": {},
   "outputs": [],
   "source": [
    "headers= {'user-agent': 'Mozilla/5.0 (Windows NT 10.0; Win64; x64) AppleWebKit/537.36 (KHTML, like Gecko) Chrome/96.0.4664.110 Safari/537.36',\n",
    "          'Referer': 'https://www.nba.com/'}"
   ]
  },
  {
   "cell_type": "code",
   "execution_count": 3,
   "metadata": {},
   "outputs": [],
   "source": [
    "# These are the seasons that I use for my project; they could adjusted to look at other periods of NBA history.\n",
    "season_list = [\n",
    "    '2010-11',\n",
    "    '2011-12',\n",
    "    '2012-13',\n",
    "    '2013-14',\n",
    "    '2014-15',\n",
    "    '2015-16',\n",
    "    '2016-17',\n",
    "    '2017-18',\n",
    "    '2018-19',\n",
    "    '2019-20',\n",
    "    '2020-21',\n",
    "    '2021-22',\n",
    "    '2022-23'\n",
    "    ]"
   ]
  },
  {
   "cell_type": "markdown",
   "metadata": {},
   "source": [
    "### Player Box Scores"
   ]
  },
  {
   "cell_type": "markdown",
   "metadata": {},
   "source": [
    "The data I use comes from nba.com. I begin with a variety of player box score statistics, and I format the URLs as a list of dictionaries to stay organized."
   ]
  },
  {
   "cell_type": "code",
   "execution_count": null,
   "metadata": {},
   "outputs": [],
   "source": [
    "# These are the URLs for the box score data I need. The function I create will adjust the season using the above list.\n",
    "player_box_score_urls = [\n",
    "    {'player_box_scores_traditional':'https://stats.nba.com/stats/leaguegamelog?Counter=1000&DateFrom=&DateTo=&Direction=DESC&ISTRound=&LeagueID=00&PlayerOrTeam=P&Season=2022-23&SeasonType=Regular%20Season&Sorter=DATE'},\n",
    "    {'player_box_scores_advanced':'https://stats.nba.com/stats/playergamelogs?DateFrom=&DateTo=&GameSegment=&ISTRound=&LastNGames=0&LeagueID=00&Location=&MeasureType=Advanced&Month=0&OpponentTeamID=0&Outcome=&PORound=0&PaceAdjust=N&PerMode=Totals&Period=0&PlusMinus=N&Rank=N&Season=2023-24&SeasonSegment=&SeasonType=Regular%20Season&ShotClockRange=&VsConference=&VsDivision='},\n",
    "    {'player_box_scores_misc':'https://stats.nba.com/stats/playergamelogs?DateFrom=&DateTo=&GameSegment=&ISTRound=&LastNGames=0&LeagueID=00&Location=&MeasureType=Misc&Month=0&OpponentTeamID=0&Outcome=&PORound=0&PaceAdjust=N&PerMode=Totals&Period=0&PlusMinus=N&Rank=N&Season=2023-24&SeasonSegment=&SeasonType=Regular%20Season&ShotClockRange=&VsConference=&VsDivision='},\n",
    "    {'player_box_scores_scoring':'https://stats.nba.com/stats/playergamelogs?DateFrom=&DateTo=&GameSegment=&ISTRound=&LastNGames=0&LeagueID=00&Location=&MeasureType=Scoring&Month=0&OpponentTeamID=0&Outcome=&PORound=0&PaceAdjust=N&PerMode=Totals&Period=0&PlusMinus=N&Rank=N&Season=2023-24&SeasonSegment=&SeasonType=Regular%20Season&ShotClockRange=&VsConference=&VsDivision='},\n",
    "    {'player_box_scores_usage':'https://stats.nba.com/stats/playergamelogs?DateFrom=&DateTo=&GameSegment=&ISTRound=&LastNGames=0&LeagueID=00&Location=&MeasureType=Usage&Month=0&OpponentTeamID=0&Outcome=&PORound=0&PaceAdjust=N&PerMode=Totals&Period=0&PlusMinus=N&Rank=N&Season=2023-24&SeasonSegment=&SeasonType=Regular%20Season&ShotClockRange=&VsConference=&VsDivision='}\n",
    "]"
   ]
  },
  {
   "cell_type": "markdown",
   "metadata": {},
   "source": [
    "This function iterates through a list of URLs, iterates through each season from the season list to collect data from each one, concatenates the results, and then returns a dictionary with they names and dataframes as key-value pairs."
   ]
  },
  {
   "cell_type": "code",
   "execution_count": null,
   "metadata": {},
   "outputs": [],
   "source": [
    "def collect_player_box_scores(url_list):\n",
    "    \n",
    "    default_dict = defaultdict(pd.DataFrame)\n",
    "    #This pattern allows the for loop to modify the URLs by season.\n",
    "    pattern = r'(Season=\\d{4}-\\d{2})'\n",
    "    \n",
    "    for dictionary in url_list:\n",
    "        for name, url in dictionary.items():\n",
    "            dfs = []\n",
    "            for season_id in season_list:\n",
    "                modified_url = re.sub(pattern, f'Season={season_id}', url)\n",
    "                response = requests.get(modified_url, headers=headers).json()\n",
    "                rows = response['resultSets'][0]['rowSet']\n",
    "                columns = response['resultSets'][0]['headers']\n",
    "                df = pd.DataFrame(rows, columns=columns)\n",
    "                df['PLAYER_GAME_ID'] = df['PLAYER_ID'].astype(str)+df['GAME_ID'].astype(str)\n",
    "                dfs.append(df)\n",
    "        \n",
    "        final_df = pd.concat(dfs, sort=False)\n",
    "        default_dict[name] = final_df\n",
    "        print(name + ' complete')\n",
    "    return default_dict"
   ]
  },
  {
   "cell_type": "code",
   "execution_count": null,
   "metadata": {},
   "outputs": [],
   "source": [
    "player_box_scores_dict = collect_player_box_scores(player_box_score_urls)"
   ]
  },
  {
   "cell_type": "markdown",
   "metadata": {},
   "source": [
    "This second function merges the related dataframes together into a single dataframe and then exports them into a CSV. Because the data for different statistics is stored in different formats on nba.com, I need to alter the function as I collect more data. Having this function available allows me to make minor tweaks as needed rather than rewriting the code from scratch each time."
   ]
  },
  {
   "cell_type": "code",
   "execution_count": 4,
   "metadata": {},
   "outputs": [],
   "source": [
    "def merge_dfs(df_dict,identifier,csv_name):\n",
    "    \n",
    "    merged_df = pd.DataFrame()\n",
    "    \n",
    "    for name, df in df_dict.items():\n",
    "        if merged_df.empty:\n",
    "            merged_df = df\n",
    "            print(name + ' merge complete')\n",
    "        else:    \n",
    "            cols_to_use = df.columns.difference(merged_df.columns)\n",
    "            cols_to_use = cols_to_use.tolist()\n",
    "            cols_to_use.append(identifier)\n",
    "            merged_df = pd.merge(merged_df,df[cols_to_use],on=identifier)\n",
    "            merged_df.to_csv('./Data/'+csv_name+'.csv',index=False)\n",
    "            print(name + ' merge complete')\n",
    "    \n",
    "    return"
   ]
  },
  {
   "cell_type": "code",
   "execution_count": null,
   "metadata": {},
   "outputs": [],
   "source": [
    "merge_dfs(player_box_scores_dict,'PLAYER_GAME_ID','player_box_scores')"
   ]
  },
  {
   "cell_type": "markdown",
   "metadata": {},
   "source": [
    "The CSV looks good. Moving forward, I continue to use this basic process with minor adjustments as needed. I no longer need the dictionary storing all of that data, so I delete it."
   ]
  },
  {
   "cell_type": "code",
   "execution_count": null,
   "metadata": {},
   "outputs": [],
   "source": [
    "del player_box_scores_dict"
   ]
  },
  {
   "cell_type": "markdown",
   "metadata": {},
   "source": [
    "## Team Box Scores"
   ]
  },
  {
   "cell_type": "code",
   "execution_count": null,
   "metadata": {},
   "outputs": [],
   "source": [
    "team_box_score_urls = [\n",
    "    {'team_box_scores_traditional':'https://stats.nba.com/stats/teamgamelogs?DateFrom=&DateTo=&GameSegment=&ISTRound=&LastNGames=0&LeagueID=00&Location=&MeasureType=Base&Month=0&OpponentTeamID=0&Outcome=&PORound=0&PaceAdjust=N&PerMode=Totals&Period=0&PlusMinus=N&Rank=N&Season=2023-24&SeasonSegment=&SeasonType=Regular%20Season&ShotClockRange=&VsConference=&VsDivision='},\n",
    "    {'team_box_scores_advanced':'https://stats.nba.com/stats/teamgamelogs?DateFrom=&DateTo=&GameSegment=&ISTRound=&LastNGames=0&LeagueID=00&Location=&MeasureType=Advanced&Month=0&OpponentTeamID=0&Outcome=&PORound=0&PaceAdjust=N&PerMode=Totals&Period=0&PlusMinus=N&Rank=N&Season=2023-24&SeasonSegment=&SeasonType=Regular%20Season&ShotClockRange=&VsConference=&VsDivision='},\n",
    "    {'team_box_scores_four_factors':'https://stats.nba.com/stats/teamgamelogs?DateFrom=&DateTo=&GameSegment=&ISTRound=&LastNGames=0&LeagueID=00&Location=&MeasureType=Four%20Factors&Month=0&OpponentTeamID=0&Outcome=&PORound=0&PaceAdjust=N&PerMode=Totals&Period=0&PlusMinus=N&Rank=N&Season=2023-24&SeasonSegment=&SeasonType=Regular%20Season&ShotClockRange=&VsConference=&VsDivision='},\n",
    "    {'team_box_scores_misc':'https://stats.nba.com/stats/teamgamelogs?DateFrom=&DateTo=&GameSegment=&ISTRound=&LastNGames=0&LeagueID=00&Location=&MeasureType=Misc&Month=0&OpponentTeamID=0&Outcome=&PORound=0&PaceAdjust=N&PerMode=Totals&Period=0&PlusMinus=N&Rank=N&Season=2023-24&SeasonSegment=&SeasonType=Regular%20Season&ShotClockRange=&VsConference=&VsDivision='},\n",
    "    {'team_box_scores_scoring':'https://stats.nba.com/stats/teamgamelogs?DateFrom=&DateTo=&GameSegment=&ISTRound=&LastNGames=0&LeagueID=00&Location=&MeasureType=Scoring&Month=0&OpponentTeamID=0&Outcome=&PORound=0&PaceAdjust=N&PerMode=Totals&Period=0&PlusMinus=N&Rank=N&Season=2023-24&SeasonSegment=&SeasonType=Regular%20Season&ShotClockRange=&VsConference=&VsDivision='}\n",
    "]"
   ]
  },
  {
   "cell_type": "code",
   "execution_count": null,
   "metadata": {},
   "outputs": [],
   "source": [
    "def collect_team_box_scores(url_list):\n",
    "    \n",
    "    default_dict = defaultdict(pd.DataFrame)\n",
    "    #This pattern allows the for loop to modify the URLs by season.\n",
    "    pattern = r'(Season=\\d{4}-\\d{2})'\n",
    "    \n",
    "    for dictionary in url_list:\n",
    "        for name, url in dictionary.items():\n",
    "            dfs = []\n",
    "            for season_id in season_list:\n",
    "                modified_url = re.sub(pattern, f'Season={season_id}', url)\n",
    "                response = requests.get(modified_url, headers=headers).json()\n",
    "                rows = response['resultSets'][0]['rowSet']\n",
    "                columns = response['resultSets'][0]['headers']\n",
    "                df = pd.DataFrame(rows, columns=columns)\n",
    "                #I adjust the code slightly to reference team id instead of player id\n",
    "                df['TEAM_GAME_ID'] = df['TEAM_ID'].astype(str)+df['GAME_ID'].astype(str)\n",
    "                dfs.append(df)\n",
    "        \n",
    "        final_df = pd.concat(dfs, sort=False)\n",
    "        default_dict[name] = final_df\n",
    "        print(name + ' complete')\n",
    "    return default_dict"
   ]
  },
  {
   "cell_type": "code",
   "execution_count": null,
   "metadata": {},
   "outputs": [],
   "source": [
    "team_box_scores_dict = collect_team_box_scores(team_box_score_urls)"
   ]
  },
  {
   "cell_type": "code",
   "execution_count": null,
   "metadata": {},
   "outputs": [],
   "source": [
    "merge_dfs(team_box_scores_dict,'TEAM_GAME_ID','team_box_scores')"
   ]
  },
  {
   "cell_type": "code",
   "execution_count": null,
   "metadata": {},
   "outputs": [],
   "source": [
    "del team_box_scores_dict"
   ]
  },
  {
   "cell_type": "markdown",
   "metadata": {},
   "source": [
    "### Draft Data"
   ]
  },
  {
   "cell_type": "code",
   "execution_count": null,
   "metadata": {},
   "outputs": [],
   "source": [
    "draft_urls = [\n",
    "    {'draft_basics':'https://stats.nba.com/stats/drafthistory?College=&LeagueID=00&OverallPick=&RoundNum=&RoundPick=&Season=&TeamID=0&TopX='},\n",
    "    {'combine_stats':'https://stats.nba.com/stats/draftcombinedrillresults?LeagueID=00&SeasonYear=2022-23&default=2022-23&initial=2022-23&seasonRange=1947%2C2023'},\n",
    "    {'draft_measurements':'https://stats.nba.com/stats/draftcombineplayeranthro?LeagueID=00&SeasonYear=2022-23'},\n",
    "    {'draft_strength_agility':'https://stats.nba.com/stats/draftcombinedrillresults?LeagueID=00&SeasonYear=2022-23'}\n",
    "]"
   ]
  },
  {
   "cell_type": "code",
   "execution_count": 5,
   "metadata": {},
   "outputs": [],
   "source": [
    "def collect_data(url_list):\n",
    "    \n",
    "    default_dict = defaultdict(pd.DataFrame)\n",
    "    #This pattern allows the for loop to modify the URLs by season.\n",
    "    pattern = r'(Season=\\d{4}-\\d{2})'\n",
    "    \n",
    "    for dictionary in url_list:\n",
    "        for name, url in dictionary.items():\n",
    "            dfs = []\n",
    "            for season_id in season_list:\n",
    "                modified_url = re.sub(pattern, f'Season={season_id}', url)\n",
    "                response = requests.get(modified_url, headers=headers).json()\n",
    "                rows = response['resultSets'][0]['rowSet']\n",
    "                columns = response['resultSets'][0]['headers']\n",
    "                df = pd.DataFrame(rows, columns=columns)\n",
    "                dfs.append(df)\n",
    "        \n",
    "        final_df = pd.concat(dfs, sort=False)\n",
    "        default_dict[name] = final_df\n",
    "        print(name + ' complete')\n",
    "    return default_dict"
   ]
  },
  {
   "cell_type": "code",
   "execution_count": null,
   "metadata": {},
   "outputs": [],
   "source": [
    "draft_dict = collect_data(draft_urls)"
   ]
  },
  {
   "cell_type": "code",
   "execution_count": null,
   "metadata": {},
   "outputs": [],
   "source": [
    "draft_dict['draft_basics']['PLAYER_ID'] = draft_dict['draft_basics']['PERSON_ID']"
   ]
  },
  {
   "cell_type": "code",
   "execution_count": null,
   "metadata": {},
   "outputs": [],
   "source": [
    "merge_dfs(draft_dict,'PLAYER_ID','draft_data')"
   ]
  },
  {
   "cell_type": "code",
   "execution_count": null,
   "metadata": {},
   "outputs": [],
   "source": [
    "del draft_dict"
   ]
  },
  {
   "cell_type": "markdown",
   "metadata": {},
   "source": [
    "### Player Season Stats"
   ]
  },
  {
   "cell_type": "code",
   "execution_count": 21,
   "metadata": {},
   "outputs": [],
   "source": [
    "player_season_urls = [\n",
    "    {'traditional_player_stats':'https://stats.nba.com/stats/leaguedashplayerstats?College=&Conference=&Country=&DateFrom=&DateTo=&Division=&DraftPick=&DraftYear=&GameScope=&GameSegment=&Height=&ISTRound=&LastNGames=0&LeagueID=00&Location=&MeasureType=Scoring&Month=0&OpponentTeamID=0&Outcome=&PORound=0&PaceAdjust=N&PerMode=PerGame&Period=0&PlayerExperience=&PlayerPosition=&PlusMinus=N&Rank=N&Season=2022-23&SeasonSegment=&SeasonType=Regular%20Season&ShotClockRange=&StarterBench=&TeamID=0&VsConference=&VsDivision=&Weight='},\n",
    "    {'advanced_player_stats':'https://stats.nba.com/stats/leaguedashplayerstats?College=&Conference=&Country=&DateFrom=&DateTo=&Division=&DraftPick=&DraftYear=&GameScope=&GameSegment=&Height=&ISTRound=&LastNGames=0&LeagueID=00&Location=&MeasureType=Advanced&Month=0&OpponentTeamID=0&Outcome=&PORound=0&PaceAdjust=N&PerMode=PerGame&Period=0&PlayerExperience=&PlayerPosition=&PlusMinus=N&Rank=N&Season=2022-23&SeasonSegment=&SeasonType=Regular%20Season&ShotClockRange=&StarterBench=&TeamID=0&VsConference=&VsDivision=&Weight='},\n",
    "]"
   ]
  },
  {
   "cell_type": "code",
   "execution_count": 22,
   "metadata": {},
   "outputs": [
    {
     "name": "stdout",
     "output_type": "stream",
     "text": [
      "traditional_player_stats complete\n",
      "advanced_player_stats complete\n"
     ]
    }
   ],
   "source": [
    "player_season_dict = collect_data(player_season_urls)"
   ]
  },
  {
   "cell_type": "code",
   "execution_count": 23,
   "metadata": {},
   "outputs": [
    {
     "name": "stdout",
     "output_type": "stream",
     "text": [
      "traditional_player_stats merge complete\n",
      "advanced_player_stats merge complete\n"
     ]
    }
   ],
   "source": [
    "merge_dfs(player_season_dict,'PLAYER_ID','player_season_data')"
   ]
  },
  {
   "cell_type": "code",
   "execution_count": 24,
   "metadata": {},
   "outputs": [],
   "source": [
    "del player_season_dict"
   ]
  },
  {
   "cell_type": "markdown",
   "metadata": {},
   "source": [
    "### Team Offense Season Stats"
   ]
  },
  {
   "cell_type": "code",
   "execution_count": 25,
   "metadata": {},
   "outputs": [],
   "source": [
    "team_offense_urls = [\n",
    "    {'traditional_team_stats':'https://stats.nba.com/stats/leaguedashteamstats?Conference=&DateFrom=&DateTo=&Division=&GameScope=&GameSegment=&Height=&ISTRound=&LastNGames=0&LeagueID=00&Location=&MeasureType=Base&Month=0&OpponentTeamID=0&Outcome=&PORound=0&PaceAdjust=N&PerMode=PerGame&Period=0&PlayerExperience=&PlayerPosition=&PlusMinus=N&Rank=N&Season=2022-23&SeasonSegment=&SeasonType=Regular%20Season&ShotClockRange=&StarterBench=&TeamID=0&TwoWay=0&VsConference=&VsDivision='},\n",
    "    {'advanced_team_stats':'https://stats.nba.com/stats/leaguedashteamstats?Conference=&DateFrom=&DateTo=&Division=&GameScope=&GameSegment=&Height=&ISTRound=&LastNGames=0&LeagueID=00&Location=&MeasureType=Advanced&Month=0&OpponentTeamID=0&Outcome=&PORound=0&PaceAdjust=N&PerMode=PerGame&Period=0&PlayerExperience=&PlayerPosition=&PlusMinus=N&Rank=N&Season=2022-23&SeasonSegment=&SeasonType=Regular%20Season&ShotClockRange=&StarterBench=&TeamID=0&TwoWay=0&VsConference=&VsDivision'},\n",
    "    {'team_scoring_stats':'https://stats.nba.com/stats/leaguedashteamstats?Conference=&DateFrom=&DateTo=&Division=&GameScope=&GameSegment=&Height=&ISTRound=&LastNGames=0&LeagueID=00&Location=&MeasureType=Scoring&Month=0&OpponentTeamID=0&Outcome=&PORound=0&PaceAdjust=N&PerMode=PerGame&Period=0&PlayerExperience=&PlayerPosition=&PlusMinus=N&Rank=N&Season=2022-23&SeasonSegment=&SeasonType=Regular%20Season&ShotClockRange=&StarterBench=&TeamID=0&TwoWay=0&VsConference=&VsDivision='},\n",
    "]"
   ]
  },
  {
   "cell_type": "code",
   "execution_count": 26,
   "metadata": {},
   "outputs": [
    {
     "name": "stdout",
     "output_type": "stream",
     "text": [
      "traditional_team_stats complete\n",
      "advanced_team_stats complete\n",
      "team_scoring_stats complete\n"
     ]
    }
   ],
   "source": [
    "team_offense_dict = collect_data(team_offense_urls)"
   ]
  },
  {
   "cell_type": "code",
   "execution_count": 27,
   "metadata": {},
   "outputs": [
    {
     "name": "stdout",
     "output_type": "stream",
     "text": [
      "traditional_team_stats merge complete\n",
      "advanced_team_stats merge complete\n",
      "team_scoring_stats merge complete\n"
     ]
    }
   ],
   "source": [
    "merge_dfs(team_offense_dict,'TEAM_ID','team_season_data')"
   ]
  },
  {
   "cell_type": "code",
   "execution_count": 29,
   "metadata": {},
   "outputs": [],
   "source": [
    "del team_offense_dict"
   ]
  },
  {
   "cell_type": "markdown",
   "metadata": {},
   "source": [
    "### Team Defense Season Stats"
   ]
  },
  {
   "cell_type": "code",
   "execution_count": 30,
   "metadata": {},
   "outputs": [],
   "source": [
    "team_defense_urls = [   \n",
    "    {'opponent_scoring_stats':'https://stats.nba.com/stats/leaguedashteamstats?Conference=&DateFrom=&DateTo=&Division=&GameScope=&GameSegment=&Height=&ISTRound=&LastNGames=0&LeagueID=00&Location=&MeasureType=Opponent&Month=0&OpponentTeamID=0&Outcome=&PORound=0&PaceAdjust=N&PerMode=PerGame&Period=0&PlayerExperience=&PlayerPosition=&PlusMinus=N&Rank=N&Season=2022-23&SeasonSegment=&SeasonType=Regular%20Season&ShotClockRange=&StarterBench=&TeamID=0&TwoWay=0&VsConference=&VsDivision'},\n",
    "    {'team_defense_stats':'https://stats.nba.com/stats/leaguedashteamstats?Conference=&DateFrom=&DateTo=&Division=&GameScope=&GameSegment=&Height=&ISTRound=&LastNGames=0&LeagueID=00&Location=&MeasureType=Defense&Month=0&OpponentTeamID=0&Outcome=&PORound=0&PaceAdjust=N&PerMode=PerGame&Period=0&PlayerExperience=&PlayerPosition=&PlusMinus=N&Rank=N&Season=2022-23&SeasonSegment=&SeasonType=Regular%20Season&ShotClockRange=&StarterBench=&TeamID=0&TwoWay=0&VsConference=&VsDivision='}\n",
    "]"
   ]
  },
  {
   "cell_type": "code",
   "execution_count": 31,
   "metadata": {},
   "outputs": [
    {
     "name": "stdout",
     "output_type": "stream",
     "text": [
      "opponent_scoring_stats complete\n",
      "team_defense_stats complete\n"
     ]
    }
   ],
   "source": [
    "team_defense_dict = collect_data(team_defense_urls)"
   ]
  },
  {
   "cell_type": "code",
   "execution_count": 32,
   "metadata": {},
   "outputs": [
    {
     "name": "stdout",
     "output_type": "stream",
     "text": [
      "opponent_scoring_stats merge complete\n",
      "team_defense_stats merge complete\n"
     ]
    }
   ],
   "source": [
    "merge_dfs(team_defense_dict,'TEAM_ID','team_season_data')"
   ]
  },
  {
   "cell_type": "code",
   "execution_count": 33,
   "metadata": {},
   "outputs": [],
   "source": [
    "del team_defense_dict"
   ]
  },
  {
   "cell_type": "markdown",
   "metadata": {},
   "source": [
    "### Team Shooting Distributions"
   ]
  },
  {
   "cell_type": "markdown",
   "metadata": {},
   "source": [
    "The following statistical sets don't work with the collect_data formula because their headers are dictionaries instead of lists. Also, there are two header rows instead of one. I am adjust the formula for these special cases to get the data I want. "
   ]
  },
  {
   "cell_type": "code",
   "execution_count": 16,
   "metadata": {},
   "outputs": [],
   "source": [
    "team_shooting_urls = [\n",
    "    {'team_opponent_shot_dist':'https://stats.nba.com/stats/leaguedashteamshotlocations?Conference=&DateFrom=&DateTo=&DistanceRange=5ft%20Range&Division=&GameScope=&GameSegment=&ISTRound=&LastNGames=0&Location=&MeasureType=Opponent&Month=0&OpponentTeamID=0&Outcome=&PORound=0&PaceAdjust=N&PerMode=PerGame&Period=0&PlayerExperience=&PlayerPosition=&PlusMinus=N&Rank=N&Season=2023-24&SeasonSegment=&SeasonType=Regular%20Season&ShotClockRange=&StarterBench=&TeamID=0&VsConference=&VsDivision='},\n",
    "    {'team_shot_locations':'https://stats.nba.com/stats/leaguedashteamshotlocations?Conference=&DateFrom=&DateTo=&DistanceRange=5ft%20Range&Division=&GameScope=&GameSegment=&ISTRound=&LastNGames=0&Location=&MeasureType=Base&Month=0&OpponentTeamID=0&Outcome=&PORound=0&PaceAdjust=N&PerMode=PerGame&Period=0&PlayerExperience=&PlayerPosition=&PlusMinus=N&Rank=N&Season=2023-24&SeasonSegment=&SeasonType=Regular%20Season&ShotClockRange=&StarterBench=&TeamID=0&VsConference=&VsDivision='}\n",
    "]"
   ]
  },
  {
   "cell_type": "code",
   "execution_count": 17,
   "metadata": {},
   "outputs": [],
   "source": [
    "def collect_team_shooting_data(url_list):\n",
    "    \n",
    "    default_dict = defaultdict(pd.DataFrame)\n",
    "    #This pattern allows the for loop to modify the URLs by season.\n",
    "    pattern = r'(Season=\\d{4}-\\d{2})'\n",
    "    \n",
    "    for dictionary in url_list:\n",
    "        for name, url in dictionary.items():\n",
    "            dfs = []\n",
    "            for season_id in season_list:\n",
    "                modified_url = re.sub(pattern, f'Season={season_id}', url)\n",
    "                response = requests.get(modified_url, headers=headers).json()\n",
    "                \n",
    "                #This part of the function concatenates the two header rows into a single row.\n",
    "                headers1 = response['resultSets']['headers'][0]['columnNames']\n",
    "                headers2 = response['resultSets']['headers'][1]['columnNames']\n",
    "                concatenated_headers = []\n",
    "                \n",
    "                for i in headers1:\n",
    "                    for z in range(2, 5):\n",
    "                        new_header = i + headers2[z]\n",
    "                        concatenated_headers.append(new_header)\n",
    "            \n",
    "                final_headers = headers2[:2] + concatenated_headers\n",
    "                \n",
    "                #This adjustment correctly names the rows and columns\n",
    "                rows = response['resultSets']['rowSet']\n",
    "                columns = final_headers\n",
    "                df = pd.DataFrame(rows, columns=columns)\n",
    "                dfs.append(df)\n",
    "        \n",
    "        final_df = pd.concat(dfs, sort=False)\n",
    "        default_dict[name] = final_df\n",
    "        print(name + ' complete')\n",
    "    return default_dict"
   ]
  },
  {
   "cell_type": "code",
   "execution_count": 18,
   "metadata": {},
   "outputs": [
    {
     "name": "stdout",
     "output_type": "stream",
     "text": [
      "team_opponent_shot_dist complete\n",
      "team_shot_locations complete\n"
     ]
    }
   ],
   "source": [
    "team_shooting_dict = collect_team_shooting_data(team_shooting_urls)"
   ]
  },
  {
   "cell_type": "code",
   "execution_count": 19,
   "metadata": {},
   "outputs": [
    {
     "name": "stdout",
     "output_type": "stream",
     "text": [
      "team_opponent_shot_dist merge complete\n",
      "team_shot_locations merge complete\n"
     ]
    }
   ],
   "source": [
    "merge_dfs(team_shooting_dict,'TEAM_ID','team_shooting_data')"
   ]
  },
  {
   "cell_type": "code",
   "execution_count": 20,
   "metadata": {},
   "outputs": [],
   "source": [
    "del team_shooting_dict"
   ]
  },
  {
   "cell_type": "markdown",
   "metadata": {},
   "source": [
    "### Player Shooting Distributions"
   ]
  },
  {
   "cell_type": "markdown",
   "metadata": {},
   "source": [
    "This is the final data I want to use. Unfortunately, the player shooting distributions are formatted differently than the team shooting distributions, so it is necessary to adjust the function once again."
   ]
  },
  {
   "cell_type": "code",
   "execution_count": 10,
   "metadata": {},
   "outputs": [],
   "source": [
    "player_shooting_urls = [\n",
    "    {'player_shooting_distribution':'https://stats.nba.com/stats/leaguedashplayershotlocations?College=&Conference=&Country=&DateFrom=&DateTo=&DistanceRange=5ft%20Range&Division=&DraftPick=&DraftYear=&GameScope=&GameSegment=&Height=&ISTRound=&LastNGames=0&Location=&MeasureType=Base&Month=0&OpponentTeamID=0&Outcome=&PORound=0&PaceAdjust=N&PerMode=PerGame&Period=0&PlayerExperience=&PlayerPosition=&PlusMinus=N&Rank=N&Season=2022-23&SeasonSegment=&SeasonType=Regular%20Season&ShotClockRange=&StarterBench=&TeamID=0&VsConference=&VsDivision=&Weight='},\n",
    "    {'player_opponent_shooting':'https://stats.nba.com/stats/leaguedashplayershotlocations?College=&Conference=&Country=&DateFrom=&DateTo=&DistanceRange=5ft%20Range&Division=&DraftPick=&DraftYear=&GameScope=&GameSegment=&Height=&ISTRound=&LastNGames=0&Location=&MeasureType=Opponent&Month=0&OpponentTeamID=0&Outcome=&PORound=0&PaceAdjust=N&PerMode=PerGame&Period=0&PlayerExperience=&PlayerPosition=&PlusMinus=N&Rank=N&Season=2023-24&SeasonSegment=&SeasonType=Regular%20Season&ShotClockRange=&StarterBench=&TeamID=0&VsConference=&VsDivision=&Weight='}\n",
    "]"
   ]
  },
  {
   "cell_type": "code",
   "execution_count": 11,
   "metadata": {},
   "outputs": [],
   "source": [
    "def collect_player_shooting_data(url_list):\n",
    "    \n",
    "    default_dict = defaultdict(pd.DataFrame)\n",
    "    #This pattern allows the for loop to modify the URLs by season.\n",
    "    pattern = r'(Season=\\d{4}-\\d{2})'\n",
    "    \n",
    "    for dictionary in url_list:\n",
    "        for name, url in dictionary.items():\n",
    "            dfs = []\n",
    "            for season_id in season_list:\n",
    "                modified_url = re.sub(pattern, f'Season={season_id}', url)\n",
    "                response = requests.get(modified_url, headers=headers).json()\n",
    "                \n",
    "                #This part of the function concatenates the two header rows into a single row.\n",
    "                headers1 = response['resultSets']['headers'][0]['columnNames']\n",
    "                headers2 = response['resultSets']['headers'][1]['columnNames']\n",
    "                concatenated_headers = []\n",
    "          \n",
    "                for i in headers1:\n",
    "                    for z in range(6, 9):\n",
    "                        new_header = i + headers2[z]\n",
    "                        concatenated_headers.append(new_header)\n",
    "            \n",
    "                final_headers = headers2[:6] + concatenated_headers\n",
    "                \n",
    "                #This adjustment correctly names the rows and columns\n",
    "                rows = response['resultSets']['rowSet']\n",
    "                columns = final_headers\n",
    "                df = pd.DataFrame(rows, columns=columns)\n",
    "                dfs.append(df)\n",
    "        \n",
    "        final_df = pd.concat(dfs, sort=False)\n",
    "        default_dict[name] = final_df\n",
    "        print(name + ' complete')\n",
    "    return default_dict"
   ]
  },
  {
   "cell_type": "code",
   "execution_count": 12,
   "metadata": {},
   "outputs": [
    {
     "name": "stdout",
     "output_type": "stream",
     "text": [
      "player_shooting_distribution complete\n",
      "player_opponent_shooting complete\n"
     ]
    }
   ],
   "source": [
    "player_shooting_dict = collect_player_shooting_data(player_shooting_urls)"
   ]
  },
  {
   "cell_type": "code",
   "execution_count": 14,
   "metadata": {},
   "outputs": [
    {
     "name": "stdout",
     "output_type": "stream",
     "text": [
      "player_shooting_distribution merge complete\n",
      "player_opponent_shooting merge complete\n"
     ]
    }
   ],
   "source": [
    "merge_dfs(player_shooting_dict,'PLAYER_ID','player_shooting_data')"
   ]
  },
  {
   "cell_type": "code",
   "execution_count": 15,
   "metadata": {},
   "outputs": [],
   "source": [
    "del player_shooting_dict"
   ]
  },
  {
   "cell_type": "markdown",
   "metadata": {},
   "source": [
    "With all the data collected, it's time to move on to preprocessing."
   ]
  }
 ],
 "metadata": {
  "kernelspec": {
   "display_name": "Python 3",
   "language": "python",
   "name": "python3"
  },
  "language_info": {
   "codemirror_mode": {
    "name": "ipython",
    "version": 3
   },
   "file_extension": ".py",
   "mimetype": "text/x-python",
   "name": "python",
   "nbconvert_exporter": "python",
   "pygments_lexer": "ipython3",
   "version": "3.8.5"
  }
 },
 "nbformat": 4,
 "nbformat_minor": 4
}
