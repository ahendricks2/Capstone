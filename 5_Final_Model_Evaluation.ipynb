{
 "cells": [
  {
   "cell_type": "markdown",
   "metadata": {},
   "source": [
    "# Final Model Evaluation Notebook"
   ]
  },
  {
   "cell_type": "markdown",
   "metadata": {},
   "source": [
    "After collecting and cleaning the data, adding features and performing feature selection, and iterating through a variety of models, I now have my final model: a gradient boost regressor with optimized hyperparameters fit to all of the features with non-zero coefficients after Lasso regression. \n",
    "\n",
    "My selection is based on my two major metrics, r-squared and mean absolute error. The business problem that this project addresses is to help sports gamblers make more analytical decisions about their wagers, and these metrics fit that problem in different ways. R-squared shows how well the features in the model capture the variance in the the target, offering a single metric to describe how well the model fits the data. Because mean absolute error presents in the same units as the target, it is highly interpretable even for a non-technical audience and would be easily usable in the context of a betting line. Considering many sports gamblers do not have data science backgrounds, pairing these metrics offers a good blend of robustness and interpretability.\n",
    "\n",
    "My final model has a mean absolute error of 4.562665 and an r-squared of 0.514145 for the validation data and has a mean absolute error of 4.623410 and an r-squared of 0.544485 for the test data. This suggests that the model explains just over half of the variance in the target and on average is off by just over four and a half points. \n",
    "\n",
    "For sports gamblers who want to use this model to inform their bets, knowing the mean absolute error would help because the predictions from this model would need to be 4.62 points above or below the betting line to place the bet with confidence. These numbers may shift slightly when I run the model on all the data, and I provide updates in markdown as the notebook progresses.\n",
    "\n",
    "I would also advise gamblers who want to use this model that the metrics of the best model tell us to respect the inherent uncertainty in predicting game to game scoring outcomes. Looking at the line plot for a single player provides a simple visualization of how much fluctuation there is on a night to night basis. Further, the best model explains just over half the variance in the target. This shows that there are factors that the model does not consider that play a significant role, factors that could include: injuries to teammates that affect playing time and usage, injuries to opposing players that affect defensive assignments, and chance, among many others.\n",
    "\n",
    "While respecting the healthy amount of uncertainty inherent in the project, in this notebook, I see how the model performs with the whole data set and further evaluate its performance on subsets of the data. Along the way, I interpret what the findings mean for gamblers who may want to use the model to improve their bets and try to gain as much insight as possible about what the model can and can't say about where to place our bets."
   ]
  },
  {
   "cell_type": "markdown",
   "metadata": {},
   "source": [
    "## 1. Imports and Data Preparation"
   ]
  },
  {
   "cell_type": "markdown",
   "metadata": {},
   "source": [
    "In this section, I use a similar process to the one I used in my modeling notebook to get the data ready to run the final model with all of the data."
   ]
  },
  {
   "cell_type": "code",
   "execution_count": 1,
   "metadata": {},
   "outputs": [],
   "source": [
    "import matplotlib.pyplot as plt\n",
    "%matplotlib inline\n",
    "\n",
    "import pandas as pd\n",
    "\n",
    "import seaborn as sns\n",
    "\n",
    "from sklearn.ensemble import GradientBoostingRegressor\n",
    "from sklearn.linear_model import Lasso\n",
    "from sklearn.metrics import explained_variance_score\n",
    "from sklearn.metrics import max_error\n",
    "from sklearn.metrics import mean_absolute_error\n",
    "from sklearn.metrics import mean_squared_error\n",
    "from sklearn.metrics import r2_score\n",
    "from sklearn.preprocessing import StandardScaler"
   ]
  },
  {
   "cell_type": "code",
   "execution_count": 2,
   "metadata": {},
   "outputs": [],
   "source": [
    "df = pd.read_csv('./Data/all_features_clean.csv')"
   ]
  },
  {
   "cell_type": "code",
   "execution_count": 3,
   "metadata": {},
   "outputs": [
    {
     "data": {
      "text/html": [
       "<div>\n",
       "<style scoped>\n",
       "    .dataframe tbody tr th:only-of-type {\n",
       "        vertical-align: middle;\n",
       "    }\n",
       "\n",
       "    .dataframe tbody tr th {\n",
       "        vertical-align: top;\n",
       "    }\n",
       "\n",
       "    .dataframe thead th {\n",
       "        text-align: right;\n",
       "    }\n",
       "</style>\n",
       "<table border=\"1\" class=\"dataframe\">\n",
       "  <thead>\n",
       "    <tr style=\"text-align: right;\">\n",
       "      <th></th>\n",
       "      <th>key_0</th>\n",
       "      <th>SEASON_ID</th>\n",
       "      <th>PLAYER_ID</th>\n",
       "      <th>PLAYER_NAME</th>\n",
       "      <th>TEAM_ID</th>\n",
       "      <th>TEAM_NAME</th>\n",
       "      <th>GAME_ID</th>\n",
       "      <th>GAME_DATE</th>\n",
       "      <th>MATCHUP</th>\n",
       "      <th>MIN</th>\n",
       "      <th>...</th>\n",
       "      <th>UPCOMING_OPPONENT_TEAM_PCT_PTS_2PT_MR_ROLLING</th>\n",
       "      <th>UPCOMING_OPPONENT_TEAM_PCT_PTS_3PT_ROLLING</th>\n",
       "      <th>UPCOMING_OPPONENT_TEAM_PCT_PTS_FB_ROLLING</th>\n",
       "      <th>UPCOMING_OPPONENT_TEAM_PCT_PTS_FT_ROLLING</th>\n",
       "      <th>UPCOMING_OPPONENT_TEAM_PCT_PTS_OFF_TOV_ROLLING</th>\n",
       "      <th>UPCOMING_OPPONENT_TEAM_PCT_PTS_PAINT_ROLLING</th>\n",
       "      <th>UPCOMING_OPPONENT_TEAM_PCT_UAST_2PM_ROLLING</th>\n",
       "      <th>UPCOMING_OPPONENT_TEAM_PCT_UAST_3PM_ROLLING</th>\n",
       "      <th>UPCOMING_OPPONENT_TEAM_PCT_UAST_FGM_ROLLING</th>\n",
       "      <th>UPCOMING_OPPONENT_TEAM_ABBREVIATION</th>\n",
       "    </tr>\n",
       "  </thead>\n",
       "  <tbody>\n",
       "    <tr>\n",
       "      <th>0</th>\n",
       "      <td>LAL</td>\n",
       "      <td>22015</td>\n",
       "      <td>203952</td>\n",
       "      <td>Andrew Wiggins</td>\n",
       "      <td>1610612750</td>\n",
       "      <td>Minnesota Timberwolves</td>\n",
       "      <td>21500017</td>\n",
       "      <td>2015-10-28</td>\n",
       "      <td>MIN @ LAL</td>\n",
       "      <td>29</td>\n",
       "      <td>...</td>\n",
       "      <td>0.114</td>\n",
       "      <td>0.371</td>\n",
       "      <td>0.086</td>\n",
       "      <td>0.114</td>\n",
       "      <td>0.143</td>\n",
       "      <td>0.400</td>\n",
       "      <td>0.370</td>\n",
       "      <td>0.308</td>\n",
       "      <td>0.350</td>\n",
       "      <td>DEN</td>\n",
       "    </tr>\n",
       "    <tr>\n",
       "      <th>1</th>\n",
       "      <td>SAS</td>\n",
       "      <td>22015</td>\n",
       "      <td>201142</td>\n",
       "      <td>Kevin Durant</td>\n",
       "      <td>1610612760</td>\n",
       "      <td>Oklahoma City Thunder</td>\n",
       "      <td>21500013</td>\n",
       "      <td>2015-10-28</td>\n",
       "      <td>OKC vs. SAS</td>\n",
       "      <td>35</td>\n",
       "      <td>...</td>\n",
       "      <td>0.207</td>\n",
       "      <td>0.172</td>\n",
       "      <td>0.138</td>\n",
       "      <td>0.092</td>\n",
       "      <td>0.172</td>\n",
       "      <td>0.529</td>\n",
       "      <td>0.500</td>\n",
       "      <td>0.200</td>\n",
       "      <td>0.459</td>\n",
       "      <td>ORL</td>\n",
       "    </tr>\n",
       "    <tr>\n",
       "      <th>2</th>\n",
       "      <td>PHX</td>\n",
       "      <td>22015</td>\n",
       "      <td>1626257</td>\n",
       "      <td>Salah Mejri</td>\n",
       "      <td>1610612742</td>\n",
       "      <td>Dallas Mavericks</td>\n",
       "      <td>21500014</td>\n",
       "      <td>2015-10-28</td>\n",
       "      <td>DAL @ PHX</td>\n",
       "      <td>2</td>\n",
       "      <td>...</td>\n",
       "      <td>0.324</td>\n",
       "      <td>0.162</td>\n",
       "      <td>0.072</td>\n",
       "      <td>0.189</td>\n",
       "      <td>0.198</td>\n",
       "      <td>0.324</td>\n",
       "      <td>0.583</td>\n",
       "      <td>0.167</td>\n",
       "      <td>0.524</td>\n",
       "      <td>LAC</td>\n",
       "    </tr>\n",
       "    <tr>\n",
       "      <th>3</th>\n",
       "      <td>NYK</td>\n",
       "      <td>22015</td>\n",
       "      <td>203948</td>\n",
       "      <td>Johnny O'Bryant III</td>\n",
       "      <td>1610612749</td>\n",
       "      <td>Milwaukee Bucks</td>\n",
       "      <td>21500012</td>\n",
       "      <td>2015-10-28</td>\n",
       "      <td>MIL vs. NYK</td>\n",
       "      <td>17</td>\n",
       "      <td>...</td>\n",
       "      <td>0.250</td>\n",
       "      <td>0.239</td>\n",
       "      <td>0.193</td>\n",
       "      <td>0.170</td>\n",
       "      <td>0.159</td>\n",
       "      <td>0.341</td>\n",
       "      <td>0.538</td>\n",
       "      <td>0.286</td>\n",
       "      <td>0.485</td>\n",
       "      <td>WAS</td>\n",
       "    </tr>\n",
       "    <tr>\n",
       "      <th>4</th>\n",
       "      <td>OKC</td>\n",
       "      <td>22015</td>\n",
       "      <td>2225</td>\n",
       "      <td>Tony Parker</td>\n",
       "      <td>1610612759</td>\n",
       "      <td>San Antonio Spurs</td>\n",
       "      <td>21500013</td>\n",
       "      <td>2015-10-28</td>\n",
       "      <td>SAS @ OKC</td>\n",
       "      <td>26</td>\n",
       "      <td>...</td>\n",
       "      <td>0.320</td>\n",
       "      <td>0.000</td>\n",
       "      <td>0.080</td>\n",
       "      <td>0.220</td>\n",
       "      <td>0.220</td>\n",
       "      <td>0.460</td>\n",
       "      <td>0.513</td>\n",
       "      <td>0.000</td>\n",
       "      <td>0.513</td>\n",
       "      <td>BKN</td>\n",
       "    </tr>\n",
       "  </tbody>\n",
       "</table>\n",
       "<p>5 rows × 741 columns</p>\n",
       "</div>"
      ],
      "text/plain": [
       "  key_0  SEASON_ID  PLAYER_ID          PLAYER_NAME     TEAM_ID  \\\n",
       "0   LAL      22015     203952       Andrew Wiggins  1610612750   \n",
       "1   SAS      22015     201142         Kevin Durant  1610612760   \n",
       "2   PHX      22015    1626257          Salah Mejri  1610612742   \n",
       "3   NYK      22015     203948  Johnny O'Bryant III  1610612749   \n",
       "4   OKC      22015       2225          Tony Parker  1610612759   \n",
       "\n",
       "                TEAM_NAME   GAME_ID   GAME_DATE      MATCHUP  MIN  ...  \\\n",
       "0  Minnesota Timberwolves  21500017  2015-10-28    MIN @ LAL   29  ...   \n",
       "1   Oklahoma City Thunder  21500013  2015-10-28  OKC vs. SAS   35  ...   \n",
       "2        Dallas Mavericks  21500014  2015-10-28    DAL @ PHX    2  ...   \n",
       "3         Milwaukee Bucks  21500012  2015-10-28  MIL vs. NYK   17  ...   \n",
       "4       San Antonio Spurs  21500013  2015-10-28    SAS @ OKC   26  ...   \n",
       "\n",
       "   UPCOMING_OPPONENT_TEAM_PCT_PTS_2PT_MR_ROLLING  \\\n",
       "0                                          0.114   \n",
       "1                                          0.207   \n",
       "2                                          0.324   \n",
       "3                                          0.250   \n",
       "4                                          0.320   \n",
       "\n",
       "   UPCOMING_OPPONENT_TEAM_PCT_PTS_3PT_ROLLING  \\\n",
       "0                                       0.371   \n",
       "1                                       0.172   \n",
       "2                                       0.162   \n",
       "3                                       0.239   \n",
       "4                                       0.000   \n",
       "\n",
       "   UPCOMING_OPPONENT_TEAM_PCT_PTS_FB_ROLLING  \\\n",
       "0                                      0.086   \n",
       "1                                      0.138   \n",
       "2                                      0.072   \n",
       "3                                      0.193   \n",
       "4                                      0.080   \n",
       "\n",
       "   UPCOMING_OPPONENT_TEAM_PCT_PTS_FT_ROLLING  \\\n",
       "0                                      0.114   \n",
       "1                                      0.092   \n",
       "2                                      0.189   \n",
       "3                                      0.170   \n",
       "4                                      0.220   \n",
       "\n",
       "   UPCOMING_OPPONENT_TEAM_PCT_PTS_OFF_TOV_ROLLING  \\\n",
       "0                                           0.143   \n",
       "1                                           0.172   \n",
       "2                                           0.198   \n",
       "3                                           0.159   \n",
       "4                                           0.220   \n",
       "\n",
       "   UPCOMING_OPPONENT_TEAM_PCT_PTS_PAINT_ROLLING  \\\n",
       "0                                         0.400   \n",
       "1                                         0.529   \n",
       "2                                         0.324   \n",
       "3                                         0.341   \n",
       "4                                         0.460   \n",
       "\n",
       "   UPCOMING_OPPONENT_TEAM_PCT_UAST_2PM_ROLLING  \\\n",
       "0                                        0.370   \n",
       "1                                        0.500   \n",
       "2                                        0.583   \n",
       "3                                        0.538   \n",
       "4                                        0.513   \n",
       "\n",
       "   UPCOMING_OPPONENT_TEAM_PCT_UAST_3PM_ROLLING  \\\n",
       "0                                        0.308   \n",
       "1                                        0.200   \n",
       "2                                        0.167   \n",
       "3                                        0.286   \n",
       "4                                        0.000   \n",
       "\n",
       "   UPCOMING_OPPONENT_TEAM_PCT_UAST_FGM_ROLLING  \\\n",
       "0                                        0.350   \n",
       "1                                        0.459   \n",
       "2                                        0.524   \n",
       "3                                        0.485   \n",
       "4                                        0.513   \n",
       "\n",
       "   UPCOMING_OPPONENT_TEAM_ABBREVIATION  \n",
       "0                                  DEN  \n",
       "1                                  ORL  \n",
       "2                                  LAC  \n",
       "3                                  WAS  \n",
       "4                                  BKN  \n",
       "\n",
       "[5 rows x 741 columns]"
      ]
     },
     "execution_count": 3,
     "metadata": {},
     "output_type": "execute_result"
    }
   ],
   "source": [
    "df.head()"
   ]
  },
  {
   "cell_type": "code",
   "execution_count": 4,
   "metadata": {},
   "outputs": [],
   "source": [
    "numeric_columns = df.select_dtypes(['float', 'int'])"
   ]
  },
  {
   "cell_type": "code",
   "execution_count": 5,
   "metadata": {},
   "outputs": [],
   "source": [
    "cols_to_remove = ['key_0','SEASON_ID','PLAYER_ID','TEAM_ID','GAME_ID','SEASON_ID_EXPANDING','PLAYER_ID_EXPANDING',\n",
    "                  'SEASON_ID_ROLLING','PLAYER_ID_ROLLING','UPCOMING_opponent_id', 'UPCOMING_home',\n",
    "                  'TEAM_GAME_ID','TEAM_ID','opponent_id','opponent_game_id','opponent_id', 'OPPONENT_TEAM_ID',\n",
    "                  'PLAYER_GAME_ID','target','UPCOMING_OPPONENT_TEAM_ID','UPCOMING_OPPONENT_TEAM_GAME_ID',\n",
    "                 'UPCOMING_OPPONENT_TEAM_PACE', 'TEAM_PCT_UAST_2PM_ROLLING','TEAM_PACE_EXPANDING',\n",
    "                 'FGA_PG','FGA_PG_EXPANDING', 'FGA_PG_ROLLING','sp_work_DEF_RATING_ROLLING', \n",
    "                  'UPCOMING_OPPONENT_TEAM_PCT_AST_FGM_ROLLING', 'FGM_PG_ROLLING', 'FGM_PG_EXPANDING',\n",
    "                 'UPCOMING_OPPONENT_TEAM_MIN_ROLLING','UPCOMING_OPPONENT_TEAM_MIN_EXPANDING',\n",
    "                 'PCT_FGA_2PT_EXPANDING','PCT_FGA_2PT_ROLLING','PCT_FGA_2PT']"
   ]
  },
  {
   "cell_type": "code",
   "execution_count": 6,
   "metadata": {},
   "outputs": [],
   "source": [
    "selected_cols = [item for item in numeric_columns if item not in cols_to_remove]"
   ]
  },
  {
   "cell_type": "markdown",
   "metadata": {},
   "source": [
    "I split the data into independent and dependent variables and scale the data in the independent variables."
   ]
  },
  {
   "cell_type": "code",
   "execution_count": 7,
   "metadata": {},
   "outputs": [],
   "source": [
    "X = df[selected_cols]\n",
    "y = df['target']"
   ]
  },
  {
   "cell_type": "code",
   "execution_count": 8,
   "metadata": {},
   "outputs": [],
   "source": [
    "ss = StandardScaler()"
   ]
  },
  {
   "cell_type": "code",
   "execution_count": 9,
   "metadata": {},
   "outputs": [],
   "source": [
    "X_scaled = ss.fit_transform(X)"
   ]
  },
  {
   "cell_type": "markdown",
   "metadata": {},
   "source": [
    "I use lasso to select the features to include."
   ]
  },
  {
   "cell_type": "code",
   "execution_count": 10,
   "metadata": {},
   "outputs": [],
   "source": [
    "lasso_model = Lasso(alpha=0.01)"
   ]
  },
  {
   "cell_type": "code",
   "execution_count": 11,
   "metadata": {},
   "outputs": [
    {
     "name": "stderr",
     "output_type": "stream",
     "text": [
      "C:\\Users\\Hendricks\\anaconda3\\envs\\capstone-env\\lib\\site-packages\\sklearn\\linear_model\\_coordinate_descent.py:628: ConvergenceWarning: Objective did not converge. You might want to increase the number of iterations, check the scale of the features or consider increasing regularisation. Duality gap: 1.682e+03, tolerance: 1.395e+03\n",
      "  model = cd_fast.enet_coordinate_descent(\n"
     ]
    },
    {
     "data": {
      "text/html": [
       "<style>#sk-container-id-1 {color: black;}#sk-container-id-1 pre{padding: 0;}#sk-container-id-1 div.sk-toggleable {background-color: white;}#sk-container-id-1 label.sk-toggleable__label {cursor: pointer;display: block;width: 100%;margin-bottom: 0;padding: 0.3em;box-sizing: border-box;text-align: center;}#sk-container-id-1 label.sk-toggleable__label-arrow:before {content: \"▸\";float: left;margin-right: 0.25em;color: #696969;}#sk-container-id-1 label.sk-toggleable__label-arrow:hover:before {color: black;}#sk-container-id-1 div.sk-estimator:hover label.sk-toggleable__label-arrow:before {color: black;}#sk-container-id-1 div.sk-toggleable__content {max-height: 0;max-width: 0;overflow: hidden;text-align: left;background-color: #f0f8ff;}#sk-container-id-1 div.sk-toggleable__content pre {margin: 0.2em;color: black;border-radius: 0.25em;background-color: #f0f8ff;}#sk-container-id-1 input.sk-toggleable__control:checked~div.sk-toggleable__content {max-height: 200px;max-width: 100%;overflow: auto;}#sk-container-id-1 input.sk-toggleable__control:checked~label.sk-toggleable__label-arrow:before {content: \"▾\";}#sk-container-id-1 div.sk-estimator input.sk-toggleable__control:checked~label.sk-toggleable__label {background-color: #d4ebff;}#sk-container-id-1 div.sk-label input.sk-toggleable__control:checked~label.sk-toggleable__label {background-color: #d4ebff;}#sk-container-id-1 input.sk-hidden--visually {border: 0;clip: rect(1px 1px 1px 1px);clip: rect(1px, 1px, 1px, 1px);height: 1px;margin: -1px;overflow: hidden;padding: 0;position: absolute;width: 1px;}#sk-container-id-1 div.sk-estimator {font-family: monospace;background-color: #f0f8ff;border: 1px dotted black;border-radius: 0.25em;box-sizing: border-box;margin-bottom: 0.5em;}#sk-container-id-1 div.sk-estimator:hover {background-color: #d4ebff;}#sk-container-id-1 div.sk-parallel-item::after {content: \"\";width: 100%;border-bottom: 1px solid gray;flex-grow: 1;}#sk-container-id-1 div.sk-label:hover label.sk-toggleable__label {background-color: #d4ebff;}#sk-container-id-1 div.sk-serial::before {content: \"\";position: absolute;border-left: 1px solid gray;box-sizing: border-box;top: 0;bottom: 0;left: 50%;z-index: 0;}#sk-container-id-1 div.sk-serial {display: flex;flex-direction: column;align-items: center;background-color: white;padding-right: 0.2em;padding-left: 0.2em;position: relative;}#sk-container-id-1 div.sk-item {position: relative;z-index: 1;}#sk-container-id-1 div.sk-parallel {display: flex;align-items: stretch;justify-content: center;background-color: white;position: relative;}#sk-container-id-1 div.sk-item::before, #sk-container-id-1 div.sk-parallel-item::before {content: \"\";position: absolute;border-left: 1px solid gray;box-sizing: border-box;top: 0;bottom: 0;left: 50%;z-index: -1;}#sk-container-id-1 div.sk-parallel-item {display: flex;flex-direction: column;z-index: 1;position: relative;background-color: white;}#sk-container-id-1 div.sk-parallel-item:first-child::after {align-self: flex-end;width: 50%;}#sk-container-id-1 div.sk-parallel-item:last-child::after {align-self: flex-start;width: 50%;}#sk-container-id-1 div.sk-parallel-item:only-child::after {width: 0;}#sk-container-id-1 div.sk-dashed-wrapped {border: 1px dashed gray;margin: 0 0.4em 0.5em 0.4em;box-sizing: border-box;padding-bottom: 0.4em;background-color: white;}#sk-container-id-1 div.sk-label label {font-family: monospace;font-weight: bold;display: inline-block;line-height: 1.2em;}#sk-container-id-1 div.sk-label-container {text-align: center;}#sk-container-id-1 div.sk-container {/* jupyter's `normalize.less` sets `[hidden] { display: none; }` but bootstrap.min.css set `[hidden] { display: none !important; }` so we also need the `!important` here to be able to override the default hidden behavior on the sphinx rendered scikit-learn.org. See: https://github.com/scikit-learn/scikit-learn/issues/21755 */display: inline-block !important;position: relative;}#sk-container-id-1 div.sk-text-repr-fallback {display: none;}</style><div id=\"sk-container-id-1\" class=\"sk-top-container\"><div class=\"sk-text-repr-fallback\"><pre>Lasso(alpha=0.01)</pre><b>In a Jupyter environment, please rerun this cell to show the HTML representation or trust the notebook. <br />On GitHub, the HTML representation is unable to render, please try loading this page with nbviewer.org.</b></div><div class=\"sk-container\" hidden><div class=\"sk-item\"><div class=\"sk-estimator sk-toggleable\"><input class=\"sk-toggleable__control sk-hidden--visually\" id=\"sk-estimator-id-1\" type=\"checkbox\" checked><label for=\"sk-estimator-id-1\" class=\"sk-toggleable__label sk-toggleable__label-arrow\">Lasso</label><div class=\"sk-toggleable__content\"><pre>Lasso(alpha=0.01)</pre></div></div></div></div></div>"
      ],
      "text/plain": [
       "Lasso(alpha=0.01)"
      ]
     },
     "execution_count": 11,
     "metadata": {},
     "output_type": "execute_result"
    }
   ],
   "source": [
    "lasso_model.fit(X, y)"
   ]
  },
  {
   "cell_type": "code",
   "execution_count": 12,
   "metadata": {},
   "outputs": [],
   "source": [
    "coefficients = lasso_model.coef_"
   ]
  },
  {
   "cell_type": "code",
   "execution_count": 13,
   "metadata": {},
   "outputs": [],
   "source": [
    "feature_names = X.columns"
   ]
  },
  {
   "cell_type": "code",
   "execution_count": 14,
   "metadata": {},
   "outputs": [],
   "source": [
    "lasso_coefficients_df = pd.DataFrame({'Feature': feature_names, 'Coefficient': coefficients})"
   ]
  },
  {
   "cell_type": "code",
   "execution_count": 15,
   "metadata": {},
   "outputs": [
    {
     "data": {
      "text/plain": [
       "(232, 2)"
      ]
     },
     "execution_count": 15,
     "metadata": {},
     "output_type": "execute_result"
    }
   ],
   "source": [
    "selected_features = lasso_coefficients_df[lasso_coefficients_df['Coefficient'] != 0]\n",
    "selected_features.shape"
   ]
  },
  {
   "cell_type": "code",
   "execution_count": 16,
   "metadata": {},
   "outputs": [],
   "source": [
    "X_scaled_df = pd.DataFrame(X_scaled, columns = X.columns)"
   ]
  },
  {
   "cell_type": "code",
   "execution_count": 17,
   "metadata": {},
   "outputs": [],
   "source": [
    "selected_feature_names = selected_features['Feature'].tolist()"
   ]
  },
  {
   "cell_type": "code",
   "execution_count": 18,
   "metadata": {},
   "outputs": [],
   "source": [
    "X_lasso = X_scaled_df[selected_feature_names]"
   ]
  },
  {
   "cell_type": "markdown",
   "metadata": {},
   "source": [
    "With the data prepared, I use my class from the previous notebook to evaluate the final model on all of the data."
   ]
  },
  {
   "cell_type": "markdown",
   "metadata": {},
   "source": [
    "## 2. Final Model Performance on All Data"
   ]
  },
  {
   "cell_type": "code",
   "execution_count": 19,
   "metadata": {},
   "outputs": [],
   "source": [
    "# I adapted this code from code written by David Hartsman for our Flatiron School phase 4 project\n",
    "\n",
    "class Model():\n",
    "    model_list = []\n",
    "    model_df = pd.DataFrame(columns=['Name', 'MSE', 'MAE', 'R2', 'Max Error', 'Explained Variance'])\n",
    "    \n",
    "    \n",
    "    def __init__(self, name, model, X_val, y_val):\n",
    "        self.name = name\n",
    "        self.model = model\n",
    "        self.X_val = X_val\n",
    "        self.y_val = y_val\n",
    "        \n",
    "       # Test metrics\n",
    "        self.y_pred = self.model.predict(self.X_val)\n",
    "        \n",
    "        mse = mean_squared_error(self.y_val, self.y_pred)\n",
    "        mae = mean_absolute_error(self.y_val, self.y_pred)\n",
    "        r2 = r2_score(self.y_val, self.y_pred)\n",
    "        max_err = max_error(self.y_val, self.y_pred)\n",
    "        evs = explained_variance_score(self.y_val, self.y_pred)\n",
    "        \n",
    "        Model.model_list.append(self)\n",
    "        \n",
    "        self.attributes = {\n",
    "            'Name': name,\n",
    "            'MSE': mse,\n",
    "            'MAE': mae,\n",
    "            'R2': r2,\n",
    "            'Max Error': max_err,\n",
    "            'Explained Variance': evs\n",
    "        }\n",
    "        \n",
    "        Model.model_df.loc[len(Model.model_df)] = self.attributes\n",
    "        \n",
    "    def __repr__(self):\n",
    "        return f\"Model name: {self.name}\"\n",
    "    \n",
    "    \n",
    "    @classmethod\n",
    "    def get_model_list(cls):\n",
    "        return cls.model_list"
   ]
  },
  {
   "cell_type": "code",
   "execution_count": 20,
   "metadata": {},
   "outputs": [],
   "source": [
    "final_model = GradientBoostingRegressor(max_depth=5,\n",
    "                                        max_features='sqrt', \n",
    "                                        n_estimators=150,\n",
    "                                        random_state=42)"
   ]
  },
  {
   "cell_type": "code",
   "execution_count": 21,
   "metadata": {},
   "outputs": [
    {
     "data": {
      "text/html": [
       "<style>#sk-container-id-2 {color: black;}#sk-container-id-2 pre{padding: 0;}#sk-container-id-2 div.sk-toggleable {background-color: white;}#sk-container-id-2 label.sk-toggleable__label {cursor: pointer;display: block;width: 100%;margin-bottom: 0;padding: 0.3em;box-sizing: border-box;text-align: center;}#sk-container-id-2 label.sk-toggleable__label-arrow:before {content: \"▸\";float: left;margin-right: 0.25em;color: #696969;}#sk-container-id-2 label.sk-toggleable__label-arrow:hover:before {color: black;}#sk-container-id-2 div.sk-estimator:hover label.sk-toggleable__label-arrow:before {color: black;}#sk-container-id-2 div.sk-toggleable__content {max-height: 0;max-width: 0;overflow: hidden;text-align: left;background-color: #f0f8ff;}#sk-container-id-2 div.sk-toggleable__content pre {margin: 0.2em;color: black;border-radius: 0.25em;background-color: #f0f8ff;}#sk-container-id-2 input.sk-toggleable__control:checked~div.sk-toggleable__content {max-height: 200px;max-width: 100%;overflow: auto;}#sk-container-id-2 input.sk-toggleable__control:checked~label.sk-toggleable__label-arrow:before {content: \"▾\";}#sk-container-id-2 div.sk-estimator input.sk-toggleable__control:checked~label.sk-toggleable__label {background-color: #d4ebff;}#sk-container-id-2 div.sk-label input.sk-toggleable__control:checked~label.sk-toggleable__label {background-color: #d4ebff;}#sk-container-id-2 input.sk-hidden--visually {border: 0;clip: rect(1px 1px 1px 1px);clip: rect(1px, 1px, 1px, 1px);height: 1px;margin: -1px;overflow: hidden;padding: 0;position: absolute;width: 1px;}#sk-container-id-2 div.sk-estimator {font-family: monospace;background-color: #f0f8ff;border: 1px dotted black;border-radius: 0.25em;box-sizing: border-box;margin-bottom: 0.5em;}#sk-container-id-2 div.sk-estimator:hover {background-color: #d4ebff;}#sk-container-id-2 div.sk-parallel-item::after {content: \"\";width: 100%;border-bottom: 1px solid gray;flex-grow: 1;}#sk-container-id-2 div.sk-label:hover label.sk-toggleable__label {background-color: #d4ebff;}#sk-container-id-2 div.sk-serial::before {content: \"\";position: absolute;border-left: 1px solid gray;box-sizing: border-box;top: 0;bottom: 0;left: 50%;z-index: 0;}#sk-container-id-2 div.sk-serial {display: flex;flex-direction: column;align-items: center;background-color: white;padding-right: 0.2em;padding-left: 0.2em;position: relative;}#sk-container-id-2 div.sk-item {position: relative;z-index: 1;}#sk-container-id-2 div.sk-parallel {display: flex;align-items: stretch;justify-content: center;background-color: white;position: relative;}#sk-container-id-2 div.sk-item::before, #sk-container-id-2 div.sk-parallel-item::before {content: \"\";position: absolute;border-left: 1px solid gray;box-sizing: border-box;top: 0;bottom: 0;left: 50%;z-index: -1;}#sk-container-id-2 div.sk-parallel-item {display: flex;flex-direction: column;z-index: 1;position: relative;background-color: white;}#sk-container-id-2 div.sk-parallel-item:first-child::after {align-self: flex-end;width: 50%;}#sk-container-id-2 div.sk-parallel-item:last-child::after {align-self: flex-start;width: 50%;}#sk-container-id-2 div.sk-parallel-item:only-child::after {width: 0;}#sk-container-id-2 div.sk-dashed-wrapped {border: 1px dashed gray;margin: 0 0.4em 0.5em 0.4em;box-sizing: border-box;padding-bottom: 0.4em;background-color: white;}#sk-container-id-2 div.sk-label label {font-family: monospace;font-weight: bold;display: inline-block;line-height: 1.2em;}#sk-container-id-2 div.sk-label-container {text-align: center;}#sk-container-id-2 div.sk-container {/* jupyter's `normalize.less` sets `[hidden] { display: none; }` but bootstrap.min.css set `[hidden] { display: none !important; }` so we also need the `!important` here to be able to override the default hidden behavior on the sphinx rendered scikit-learn.org. See: https://github.com/scikit-learn/scikit-learn/issues/21755 */display: inline-block !important;position: relative;}#sk-container-id-2 div.sk-text-repr-fallback {display: none;}</style><div id=\"sk-container-id-2\" class=\"sk-top-container\"><div class=\"sk-text-repr-fallback\"><pre>GradientBoostingRegressor(max_depth=5, max_features=&#x27;sqrt&#x27;, n_estimators=150,\n",
       "                          random_state=42)</pre><b>In a Jupyter environment, please rerun this cell to show the HTML representation or trust the notebook. <br />On GitHub, the HTML representation is unable to render, please try loading this page with nbviewer.org.</b></div><div class=\"sk-container\" hidden><div class=\"sk-item\"><div class=\"sk-estimator sk-toggleable\"><input class=\"sk-toggleable__control sk-hidden--visually\" id=\"sk-estimator-id-2\" type=\"checkbox\" checked><label for=\"sk-estimator-id-2\" class=\"sk-toggleable__label sk-toggleable__label-arrow\">GradientBoostingRegressor</label><div class=\"sk-toggleable__content\"><pre>GradientBoostingRegressor(max_depth=5, max_features=&#x27;sqrt&#x27;, n_estimators=150,\n",
       "                          random_state=42)</pre></div></div></div></div></div>"
      ],
      "text/plain": [
       "GradientBoostingRegressor(max_depth=5, max_features='sqrt', n_estimators=150,\n",
       "                          random_state=42)"
      ]
     },
     "execution_count": 21,
     "metadata": {},
     "output_type": "execute_result"
    }
   ],
   "source": [
    "final_model.fit(X_lasso,y)"
   ]
  },
  {
   "cell_type": "code",
   "execution_count": 22,
   "metadata": {},
   "outputs": [
    {
     "data": {
      "text/html": [
       "<div>\n",
       "<style scoped>\n",
       "    .dataframe tbody tr th:only-of-type {\n",
       "        vertical-align: middle;\n",
       "    }\n",
       "\n",
       "    .dataframe tbody tr th {\n",
       "        vertical-align: top;\n",
       "    }\n",
       "\n",
       "    .dataframe thead th {\n",
       "        text-align: right;\n",
       "    }\n",
       "</style>\n",
       "<table border=\"1\" class=\"dataframe\">\n",
       "  <thead>\n",
       "    <tr style=\"text-align: right;\">\n",
       "      <th></th>\n",
       "      <th>Name</th>\n",
       "      <th>MSE</th>\n",
       "      <th>MAE</th>\n",
       "      <th>R2</th>\n",
       "      <th>Max Error</th>\n",
       "      <th>Explained Variance</th>\n",
       "    </tr>\n",
       "  </thead>\n",
       "  <tbody>\n",
       "    <tr>\n",
       "      <th>0</th>\n",
       "      <td>final_model_all_data</td>\n",
       "      <td>32.16799</td>\n",
       "      <td>4.37597</td>\n",
       "      <td>0.545674</td>\n",
       "      <td>43.481792</td>\n",
       "      <td>0.545674</td>\n",
       "    </tr>\n",
       "  </tbody>\n",
       "</table>\n",
       "</div>"
      ],
      "text/plain": [
       "                   Name       MSE      MAE        R2  Max Error  \\\n",
       "0  final_model_all_data  32.16799  4.37597  0.545674  43.481792   \n",
       "\n",
       "   Explained Variance  \n",
       "0            0.545674  "
      ]
     },
     "execution_count": 22,
     "metadata": {},
     "output_type": "execute_result"
    }
   ],
   "source": [
    "Model('final_model_all_data', final_model, X_lasso, y)\n",
    "Model.model_df"
   ]
  },
  {
   "cell_type": "markdown",
   "metadata": {},
   "source": [
    "Working with all of the data, the model has its best performance in terms of mean absolute error at 4.38. The r-squared improves marginally as well at .546. For sports gamblers who would want to use this model to inform their bets, this would mean that a prediction would need to be 4.38 above or below the line to make it outside the range of typical error in the model.\n",
    "\n",
    "For my final evaluation, I look into how the model performs on different subsets of the data to see if there are certain types of players that the model could help bet on with greater or lesser amounts of confidence."
   ]
  },
  {
   "cell_type": "markdown",
   "metadata": {},
   "source": [
    "## 3. Evaluating Model Performance on Subsets of the Data"
   ]
  },
  {
   "cell_type": "markdown",
   "metadata": {},
   "source": [
    "With my final model finished, I want to see how it performs on certain subsets of the data to see whether it is more or less accurate. I explore in this section."
   ]
  },
  {
   "cell_type": "markdown",
   "metadata": {},
   "source": [
    "### 3a. Performance on High Points Outcomes"
   ]
  },
  {
   "cell_type": "markdown",
   "metadata": {},
   "source": [
    "The first area I look into is how the model performs differently on high points values. I use the top 20th percentile of points outcomes as a cutoff."
   ]
  },
  {
   "cell_type": "code",
   "execution_count": 37,
   "metadata": {},
   "outputs": [],
   "source": [
    "percentile_80 = X_lasso['PTS'].quantile(0.80)\n",
    "percentile_100 = X_lasso['PTS'].quantile(1.0)"
   ]
  },
  {
   "cell_type": "code",
   "execution_count": 38,
   "metadata": {},
   "outputs": [],
   "source": [
    "high_pts = X_lasso['PTS'][(X_lasso['PTS'] >= percentile_80) & (X_lasso['PTS'] <= percentile_100)]"
   ]
  },
  {
   "cell_type": "code",
   "execution_count": 39,
   "metadata": {},
   "outputs": [],
   "source": [
    "high_pts_index = high_pts.index"
   ]
  },
  {
   "cell_type": "code",
   "execution_count": 40,
   "metadata": {},
   "outputs": [],
   "source": [
    "y_high_pts = y.loc[high_pts_index]"
   ]
  },
  {
   "cell_type": "code",
   "execution_count": 46,
   "metadata": {},
   "outputs": [],
   "source": [
    "X_high_pts = X_lasso.loc[high_pts_index]"
   ]
  },
  {
   "cell_type": "code",
   "execution_count": 48,
   "metadata": {},
   "outputs": [],
   "source": [
    "high_pts_predictions = final_model.predict(X_high_pts)"
   ]
  },
  {
   "cell_type": "code",
   "execution_count": 74,
   "metadata": {},
   "outputs": [
    {
     "data": {
      "text/plain": [
       "5.501941255696821"
      ]
     },
     "execution_count": 74,
     "metadata": {},
     "output_type": "execute_result"
    }
   ],
   "source": [
    "mae_high = mean_absolute_error(y_high_pts, high_pts_predictions)\n",
    "mae_high"
   ]
  },
  {
   "cell_type": "code",
   "execution_count": 75,
   "metadata": {},
   "outputs": [
    {
     "data": {
      "text/plain": [
       "0.42578875668594174"
      ]
     },
     "execution_count": 75,
     "metadata": {},
     "output_type": "execute_result"
    }
   ],
   "source": [
    "r2_high = r2_score(y_high_pts, high_pts_predictions)\n",
    "r2_high"
   ]
  },
  {
   "cell_type": "markdown",
   "metadata": {},
   "source": [
    "This is not too surprising because the more points players tend to score, the more variance there is likely to be. However, it is instructive-- when looking at scoring in the top 20% of outcomes, the mean absolute error increases and the amount of variance in the target that the model can explain decreases. Before doing too much interpretation, I want to see how the model performs on low scoring performances and mid scoring performances as well."
   ]
  },
  {
   "cell_type": "markdown",
   "metadata": {},
   "source": [
    "### 3b. Performance on Low Points Outcomes"
   ]
  },
  {
   "cell_type": "markdown",
   "metadata": {},
   "source": [
    "The next area I look into is how the model performs differently on low points values. I use the bottom 20th percentile of points outcomes as a cutoff."
   ]
  },
  {
   "cell_type": "code",
   "execution_count": 52,
   "metadata": {},
   "outputs": [],
   "source": [
    "percentile_0 = X_lasso['PTS'].quantile(0.0)\n",
    "percentile_20 = X_lasso['PTS'].quantile(0.2)"
   ]
  },
  {
   "cell_type": "code",
   "execution_count": 53,
   "metadata": {},
   "outputs": [],
   "source": [
    "low_pts = X_lasso['PTS'][(X_lasso['PTS'] >= percentile_0) & (X_lasso['PTS'] <= percentile_20)]"
   ]
  },
  {
   "cell_type": "code",
   "execution_count": 54,
   "metadata": {},
   "outputs": [],
   "source": [
    "low_pts_index = low_pts.index"
   ]
  },
  {
   "cell_type": "code",
   "execution_count": 55,
   "metadata": {},
   "outputs": [],
   "source": [
    "y_low_pts = y.loc[low_pts_index]"
   ]
  },
  {
   "cell_type": "code",
   "execution_count": 56,
   "metadata": {},
   "outputs": [],
   "source": [
    "X_low_pts = X_lasso.loc[low_pts_index]"
   ]
  },
  {
   "cell_type": "code",
   "execution_count": 57,
   "metadata": {},
   "outputs": [],
   "source": [
    "low_pts_predictions = final_model.predict(X_low_pts)"
   ]
  },
  {
   "cell_type": "code",
   "execution_count": 76,
   "metadata": {},
   "outputs": [
    {
     "data": {
      "text/plain": [
       "3.392194390369756"
      ]
     },
     "execution_count": 76,
     "metadata": {},
     "output_type": "execute_result"
    }
   ],
   "source": [
    "mae_low = mean_absolute_error(y_low_pts, low_pts_predictions)\n",
    "mae_low"
   ]
  },
  {
   "cell_type": "code",
   "execution_count": 77,
   "metadata": {},
   "outputs": [
    {
     "data": {
      "text/plain": [
       "0.2499184528536439"
      ]
     },
     "execution_count": 77,
     "metadata": {},
     "output_type": "execute_result"
    }
   ],
   "source": [
    "r2_low = r2_score(y_low_pts, low_pts_predictions)\n",
    "r2_low"
   ]
  },
  {
   "cell_type": "markdown",
   "metadata": {},
   "source": [
    "Once again, the results are not too surprising in the sense that the mean absolute error was lower for lower scoring performances. Again, I want to see all of the subsets before interpreting results."
   ]
  },
  {
   "cell_type": "markdown",
   "metadata": {},
   "source": [
    "### 3c. Performance on Mid Points Outcomes"
   ]
  },
  {
   "cell_type": "code",
   "execution_count": 60,
   "metadata": {},
   "outputs": [],
   "source": [
    "mid_pts = X_lasso['PTS'][(X_lasso['PTS'] > percentile_20) & (X_lasso['PTS'] < percentile_80)]"
   ]
  },
  {
   "cell_type": "code",
   "execution_count": 61,
   "metadata": {},
   "outputs": [],
   "source": [
    "mid_pts_index = mid_pts.index"
   ]
  },
  {
   "cell_type": "code",
   "execution_count": 67,
   "metadata": {},
   "outputs": [],
   "source": [
    "y_mid_pts = y.loc[mid_pts_index]"
   ]
  },
  {
   "cell_type": "code",
   "execution_count": 68,
   "metadata": {},
   "outputs": [],
   "source": [
    "X_mid_pts = X_lasso.loc[mid_pts_index]"
   ]
  },
  {
   "cell_type": "code",
   "execution_count": 69,
   "metadata": {},
   "outputs": [],
   "source": [
    "mid_pts_predictions = final_model.predict(X_mid_pts)"
   ]
  },
  {
   "cell_type": "code",
   "execution_count": 71,
   "metadata": {},
   "outputs": [
    {
     "data": {
      "text/plain": [
       "4.365206657317364"
      ]
     },
     "execution_count": 71,
     "metadata": {},
     "output_type": "execute_result"
    }
   ],
   "source": [
    "mean_absolute_error(y_mid_pts, mid_pts_predictions)"
   ]
  },
  {
   "cell_type": "code",
   "execution_count": 73,
   "metadata": {},
   "outputs": [
    {
     "data": {
      "text/plain": [
       "0.3650875157569128"
      ]
     },
     "execution_count": 73,
     "metadata": {},
     "output_type": "execute_result"
    }
   ],
   "source": [
    "r2_score(y_mid_pts, mid_pts_predictions)"
   ]
  },
  {
   "cell_type": "markdown",
   "metadata": {},
   "source": [
    "The results for mean absolute error are not surprising here as well. It is interesting that the r2 for each subset is lower than the r2 for the entire data set, often by a substantial amount. This makes sense as well, though, because the cut offs for how I defined the subset could be splitting the data in a way that hurts model performance. In general, the biggest trend here is that the model tends to have a lower mean absolute error for lower scoring outcomes than it does for higher scoring outcomes. This could potentially help gamblers by focusing on lines for low or mid scoring players.\n",
    "\n",
    "After subsetting the data by points, I want to see how the model performs over the course of a given season."
   ]
  },
  {
   "cell_type": "markdown",
   "metadata": {},
   "source": [
    "### 3d. Evaluating Errors Over Time"
   ]
  },
  {
   "cell_type": "markdown",
   "metadata": {},
   "source": [
    "One final subset I want to take a look at is how the model handles errors over time. I create columns for predictions and absolute errors and then take the median absolute error by month. My expectation is that the model would perform worst at the beginning of the season because the rolling and expanding averages would be the least stable early on."
   ]
  },
  {
   "cell_type": "code",
   "execution_count": 79,
   "metadata": {},
   "outputs": [
    {
     "name": "stderr",
     "output_type": "stream",
     "text": [
      "C:\\Users\\Hendricks\\AppData\\Local\\Temp\\ipykernel_11904\\562231813.py:1: SettingWithCopyWarning: \n",
      "A value is trying to be set on a copy of a slice from a DataFrame.\n",
      "Try using .loc[row_indexer,col_indexer] = value instead\n",
      "\n",
      "See the caveats in the documentation: https://pandas.pydata.org/pandas-docs/stable/user_guide/indexing.html#returning-a-view-versus-a-copy\n",
      "  X_lasso['predictions'] = final_model.predict(X_lasso)\n"
     ]
    }
   ],
   "source": [
    "X_lasso['predictions'] = final_model.predict(X_lasso)"
   ]
  },
  {
   "cell_type": "code",
   "execution_count": 81,
   "metadata": {},
   "outputs": [
    {
     "name": "stderr",
     "output_type": "stream",
     "text": [
      "C:\\Users\\Hendricks\\AppData\\Local\\Temp\\ipykernel_11904\\4063047997.py:1: SettingWithCopyWarning: \n",
      "A value is trying to be set on a copy of a slice from a DataFrame.\n",
      "Try using .loc[row_indexer,col_indexer] = value instead\n",
      "\n",
      "See the caveats in the documentation: https://pandas.pydata.org/pandas-docs/stable/user_guide/indexing.html#returning-a-view-versus-a-copy\n",
      "  X_lasso['errors'] = abs(y - X_lasso['predictions'])\n"
     ]
    }
   ],
   "source": [
    "X_lasso['errors'] = abs(y - X_lasso['predictions'])"
   ]
  },
  {
   "cell_type": "code",
   "execution_count": 106,
   "metadata": {},
   "outputs": [
    {
     "name": "stderr",
     "output_type": "stream",
     "text": [
      "C:\\Users\\Hendricks\\AppData\\Local\\Temp\\ipykernel_11904\\2895958754.py:1: SettingWithCopyWarning: \n",
      "A value is trying to be set on a copy of a slice from a DataFrame.\n",
      "Try using .loc[row_indexer,col_indexer] = value instead\n",
      "\n",
      "See the caveats in the documentation: https://pandas.pydata.org/pandas-docs/stable/user_guide/indexing.html#returning-a-view-versus-a-copy\n",
      "  X_lasso['game_date'] = pd.to_datetime(df['GAME_DATE'])\n"
     ]
    }
   ],
   "source": [
    "X_lasso['game_date'] = pd.to_datetime(df['GAME_DATE'])"
   ]
  },
  {
   "cell_type": "code",
   "execution_count": 122,
   "metadata": {},
   "outputs": [],
   "source": [
    "errors_series = X_lasso.groupby(X_lasso['game_date'].dt.month)['errors'].median()"
   ]
  },
  {
   "cell_type": "code",
   "execution_count": 123,
   "metadata": {},
   "outputs": [
    {
     "data": {
      "text/plain": [
       "game_date\n",
       "1     3.541990\n",
       "2     3.567158\n",
       "3     3.556216\n",
       "4     3.717529\n",
       "5     3.695218\n",
       "7     3.669437\n",
       "8     3.889038\n",
       "10    3.387429\n",
       "11    3.450751\n",
       "12    3.468807\n",
       "Name: errors, dtype: float64"
      ]
     },
     "execution_count": 123,
     "metadata": {},
     "output_type": "execute_result"
    }
   ],
   "source": [
    "errors_series"
   ]
  },
  {
   "cell_type": "code",
   "execution_count": 129,
   "metadata": {},
   "outputs": [],
   "source": [
    "reordered_index = errors_series.reindex([10, 11, 12, 1, 2, 3, 4, 5, 7, 8])"
   ]
  },
  {
   "cell_type": "code",
   "execution_count": 130,
   "metadata": {},
   "outputs": [
    {
     "data": {
      "text/plain": [
       "game_date\n",
       "10    3.387429\n",
       "11    3.450751\n",
       "12    3.468807\n",
       "1     3.541990\n",
       "2     3.567158\n",
       "3     3.556216\n",
       "4     3.717529\n",
       "5     3.695218\n",
       "7     3.669437\n",
       "8     3.889038\n",
       "Name: errors, dtype: float64"
      ]
     },
     "execution_count": 130,
     "metadata": {},
     "output_type": "execute_result"
    }
   ],
   "source": [
    "reordered_index"
   ]
  },
  {
   "cell_type": "code",
   "execution_count": 140,
   "metadata": {
    "scrolled": false
   },
   "outputs": [
    {
     "name": "stderr",
     "output_type": "stream",
     "text": [
      "C:\\Users\\Hendricks\\anaconda3\\envs\\capstone-env\\lib\\site-packages\\seaborn\\_oldcore.py:1498: FutureWarning: is_categorical_dtype is deprecated and will be removed in a future version. Use isinstance(dtype, CategoricalDtype) instead\n",
      "  if pd.api.types.is_categorical_dtype(vector):\n",
      "C:\\Users\\Hendricks\\anaconda3\\envs\\capstone-env\\lib\\site-packages\\seaborn\\_oldcore.py:1498: FutureWarning: is_categorical_dtype is deprecated and will be removed in a future version. Use isinstance(dtype, CategoricalDtype) instead\n",
      "  if pd.api.types.is_categorical_dtype(vector):\n",
      "C:\\Users\\Hendricks\\anaconda3\\envs\\capstone-env\\lib\\site-packages\\seaborn\\_oldcore.py:1119: FutureWarning: use_inf_as_na option is deprecated and will be removed in a future version. Convert inf values to NaN before operating instead.\n",
      "  with pd.option_context('mode.use_inf_as_na', True):\n",
      "C:\\Users\\Hendricks\\anaconda3\\envs\\capstone-env\\lib\\site-packages\\seaborn\\_oldcore.py:1119: FutureWarning: use_inf_as_na option is deprecated and will be removed in a future version. Convert inf values to NaN before operating instead.\n",
      "  with pd.option_context('mode.use_inf_as_na', True):\n"
     ]
    },
    {
     "data": {
      "image/png": "[encoded data removed]",
      "text/plain": [
       "<Figure size 400x400 with 1 Axes>"
      ]
     },
     "metadata": {},
     "output_type": "display_data"
    }
   ],
   "source": [
    "sns.set(style=\"darkgrid\")\n",
    "plt.figure(figsize=(4, 4))\n",
    "sns.lineplot(x = range(1, 11), y = reordered_index.values)\n",
    "plt.xlabel('Month')\n",
    "plt.xticks(range(1, 11), ['Oct', 'Nov', 'Dec', 'Jan', 'Feb', 'Mar', 'Apr', 'May', 'Jul', 'Aug'])\n",
    "plt.ylabel('Errors')\n",
    "plt.ylim(2, 5)\n",
    "plt.title('Errors by Month Time Series Plot')\n",
    "plt.show()"
   ]
  },
  {
   "cell_type": "markdown",
   "metadata": {},
   "source": [
    "Unexpectedly, the error for the model is actually the lowest at the start of the season and gets slightly higher as the season goes along, although generally the error is fairly stable throughout the season. This could be because teams tend to be healthiest at the start of the year; as games accumulate, injuries accumulate as well and change the context for performance. I also notice that by using the median error instead of the mean, the average error drops substantially from about 4.4 to about 3.5. This suggests that the mean average error may be inflated by extremely wrong predictions because the mean is more sensitive to outliers than the median is. From a gambling perspective, it would make more sense to look at the median because it does not matter if a prediction is a little bit wrong or very wrong-- a win is a win and a loss is a loss. Using the median suggests that the model could be used to place bets when the prediction is 3.5 points above or below the line; based on what I learned subsetting by points, that may have to be adjusted up or down depending upon how many points the player usually scores.\n",
    "\n",
    "\n",
    "July and August have the highest errors, which makes sense because those games all come from the season that was interrupted by the COVID-19 pandemic. With a smaller sample, it makes sense that the model performs worse.  I make one final plot to visualize the error by month without those irregular months."
   ]
  },
  {
   "cell_type": "code",
   "execution_count": 142,
   "metadata": {},
   "outputs": [
    {
     "name": "stderr",
     "output_type": "stream",
     "text": [
      "C:\\Users\\Hendricks\\anaconda3\\envs\\capstone-env\\lib\\site-packages\\seaborn\\_oldcore.py:1498: FutureWarning: is_categorical_dtype is deprecated and will be removed in a future version. Use isinstance(dtype, CategoricalDtype) instead\n",
      "  if pd.api.types.is_categorical_dtype(vector):\n",
      "C:\\Users\\Hendricks\\anaconda3\\envs\\capstone-env\\lib\\site-packages\\seaborn\\_oldcore.py:1498: FutureWarning: is_categorical_dtype is deprecated and will be removed in a future version. Use isinstance(dtype, CategoricalDtype) instead\n",
      "  if pd.api.types.is_categorical_dtype(vector):\n",
      "C:\\Users\\Hendricks\\anaconda3\\envs\\capstone-env\\lib\\site-packages\\seaborn\\_oldcore.py:1119: FutureWarning: use_inf_as_na option is deprecated and will be removed in a future version. Convert inf values to NaN before operating instead.\n",
      "  with pd.option_context('mode.use_inf_as_na', True):\n",
      "C:\\Users\\Hendricks\\anaconda3\\envs\\capstone-env\\lib\\site-packages\\seaborn\\_oldcore.py:1119: FutureWarning: use_inf_as_na option is deprecated and will be removed in a future version. Convert inf values to NaN before operating instead.\n",
      "  with pd.option_context('mode.use_inf_as_na', True):\n"
     ]
    },
    {
     "data": {
      "image/png": "[encoded data removed]",
      "text/plain": [
       "<Figure size 400x400 with 1 Axes>"
      ]
     },
     "metadata": {},
     "output_type": "display_data"
    }
   ],
   "source": [
    "sns.set(style=\"darkgrid\")\n",
    "plt.figure(figsize=(4, 4))\n",
    "sns.lineplot(x = range(1, 8), y = reordered_index[:7].values)\n",
    "plt.xlabel('Month')\n",
    "plt.xticks(range(1, 8), ['Oct', 'Nov', 'Dec', 'Jan', 'Feb', 'Mar', 'Apr'])\n",
    "plt.ylabel('Errors')\n",
    "plt.ylim(2, 5)\n",
    "plt.title('Errors by Month Time Series Plot')\n",
    "plt.show()"
   ]
  },
  {
   "cell_type": "markdown",
   "metadata": {},
   "source": [
    "## 4. Final Thoughts and Next Steps"
   ]
  },
  {
   "cell_type": "markdown",
   "metadata": {},
   "source": [
    "One major takeaway from this project is to be able to describe the level of uncertainty that exists when making predictions about player scoring. Using publicly available data and not taking player availability into account, it is possible to account for a little over half of the variation in night to night scoring variation. It is possible to predict a player's points in the upcoming game with a mean average error of around 4.4 points and a median average error of around 3.5 points. The error is higher for players who score more and lower for players who score less, and the error stays relatively stable throughout the season. Simply knowing that context helps create a more informed approach to wagering on single-game player scoring outcomes because it allows gamblers to approach the inherent uncertainty with more certainty.\n",
    "\n",
    "I have five major next steps for the project. First, I would want to further tune the LSTM neural network that I tried at the end of the project to see if it could handle the time-series part of the data better. Second, I would want to try a rolling window split instead of a sequential split to see if that could improve model performance. Third, I would want to add betting lines to see if that could help the model make predictions and to add a classification component to the project to see how often the model's predictions are correct in terms of identifying if the outcome was above or below the line. Fourth, I would want to add an end to end pipeline so that the model can seamlessly handle live data and make predictions for the upcoming season. Finally, I would want to deploy the model so that people can see the predictions and results.\n",
    "\n",
    "Overall, I learned so much from doing this project, and I hope that it contributes even in some small way to support those tens of millions of sports gamblers in the USA in making wiser wagers."
   ]
  }
 ],
 "metadata": {
  "kernelspec": {
   "display_name": "capstone-env",
   "language": "python",
   "name": "capstone-env"
  },
  "language_info": {
   "codemirror_mode": {
    "name": "ipython",
    "version": 3
   },
   "file_extension": ".py",
   "mimetype": "text/x-python",
   "name": "python",
   "nbconvert_exporter": "python",
   "pygments_lexer": "ipython3",
   "version": "3.10.13"
  }
 },
 "nbformat": 4,
 "nbformat_minor": 4
}
