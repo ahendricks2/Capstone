{
 "cells": [
  {
   "cell_type": "markdown",
   "metadata": {},
   "source": [
    "# Data Preprocessing"
   ]
  },
  {
   "cell_type": "markdown",
   "metadata": {},
   "source": [
    "Now that I have collected the data, in this notebook, I proceed to clean it."
   ]
  },
  {
   "cell_type": "markdown",
   "metadata": {},
   "source": [
    "## Cleaning Player Box Score Data"
   ]
  },
  {
   "cell_type": "code",
   "execution_count": 1,
   "metadata": {},
   "outputs": [],
   "source": [
    "import pandas as pd\n",
    "import numpy as np\n",
    "import matplotlib.pyplot as plt\n",
    "%matplotlib inline\n",
    "import seaborn as sns"
   ]
  },
  {
   "cell_type": "code",
   "execution_count": 2,
   "metadata": {},
   "outputs": [],
   "source": [
    "player_box_df = pd.read_csv('./Data/player_box_scores.csv')"
   ]
  },
  {
   "cell_type": "code",
   "execution_count": 3,
   "metadata": {},
   "outputs": [
    {
     "data": {
      "text/plain": [
       "(201805, 188)"
      ]
     },
     "execution_count": 3,
     "metadata": {},
     "output_type": "execute_result"
    }
   ],
   "source": [
    "player_box_df.shape"
   ]
  },
  {
   "cell_type": "code",
   "execution_count": 4,
   "metadata": {},
   "outputs": [
    {
     "data": {
      "text/html": [
       "<div>\n",
       "<style scoped>\n",
       "    .dataframe tbody tr th:only-of-type {\n",
       "        vertical-align: middle;\n",
       "    }\n",
       "\n",
       "    .dataframe tbody tr th {\n",
       "        vertical-align: top;\n",
       "    }\n",
       "\n",
       "    .dataframe thead th {\n",
       "        text-align: right;\n",
       "    }\n",
       "</style>\n",
       "<table border=\"1\" class=\"dataframe\">\n",
       "  <thead>\n",
       "    <tr style=\"text-align: right;\">\n",
       "      <th></th>\n",
       "      <th>SEASON_ID</th>\n",
       "      <th>PLAYER_ID</th>\n",
       "      <th>PLAYER_NAME</th>\n",
       "      <th>TEAM_ID</th>\n",
       "      <th>TEAM_ABBREVIATION</th>\n",
       "      <th>TEAM_NAME</th>\n",
       "      <th>GAME_ID</th>\n",
       "      <th>GAME_DATE</th>\n",
       "      <th>MATCHUP</th>\n",
       "      <th>WL</th>\n",
       "      <th>...</th>\n",
       "      <th>PCT_PFD_RANK</th>\n",
       "      <th>PCT_PF_RANK</th>\n",
       "      <th>PCT_PTS</th>\n",
       "      <th>PCT_PTS_RANK</th>\n",
       "      <th>PCT_REB</th>\n",
       "      <th>PCT_REB_RANK</th>\n",
       "      <th>PCT_STL</th>\n",
       "      <th>PCT_STL_RANK</th>\n",
       "      <th>PCT_TOV</th>\n",
       "      <th>PCT_TOV_RANK</th>\n",
       "    </tr>\n",
       "  </thead>\n",
       "  <tbody>\n",
       "    <tr>\n",
       "      <th>0</th>\n",
       "      <td>22015</td>\n",
       "      <td>1626162</td>\n",
       "      <td>Kelly Oubre Jr.</td>\n",
       "      <td>1610612764</td>\n",
       "      <td>WAS</td>\n",
       "      <td>Washington Wizards</td>\n",
       "      <td>21501221</td>\n",
       "      <td>2016-04-13</td>\n",
       "      <td>WAS vs. ATL</td>\n",
       "      <td>W</td>\n",
       "      <td>...</td>\n",
       "      <td>9233</td>\n",
       "      <td>14795</td>\n",
       "      <td>0.113</td>\n",
       "      <td>18901</td>\n",
       "      <td>0.103</td>\n",
       "      <td>18752</td>\n",
       "      <td>0.000</td>\n",
       "      <td>12313</td>\n",
       "      <td>0.167</td>\n",
       "      <td>13279</td>\n",
       "    </tr>\n",
       "    <tr>\n",
       "      <th>1</th>\n",
       "      <td>22015</td>\n",
       "      <td>202397</td>\n",
       "      <td>Ish Smith</td>\n",
       "      <td>1610612755</td>\n",
       "      <td>PHI</td>\n",
       "      <td>Philadelphia 76ers</td>\n",
       "      <td>21501222</td>\n",
       "      <td>2016-04-13</td>\n",
       "      <td>PHI @ CHI</td>\n",
       "      <td>L</td>\n",
       "      <td>...</td>\n",
       "      <td>17321</td>\n",
       "      <td>18077</td>\n",
       "      <td>0.127</td>\n",
       "      <td>17860</td>\n",
       "      <td>0.185</td>\n",
       "      <td>12326</td>\n",
       "      <td>0.000</td>\n",
       "      <td>12313</td>\n",
       "      <td>0.273</td>\n",
       "      <td>18957</td>\n",
       "    </tr>\n",
       "    <tr>\n",
       "      <th>2</th>\n",
       "      <td>22015</td>\n",
       "      <td>201166</td>\n",
       "      <td>Aaron Brooks</td>\n",
       "      <td>1610612741</td>\n",
       "      <td>CHI</td>\n",
       "      <td>Chicago Bulls</td>\n",
       "      <td>21501222</td>\n",
       "      <td>2016-04-13</td>\n",
       "      <td>CHI vs. PHI</td>\n",
       "      <td>W</td>\n",
       "      <td>...</td>\n",
       "      <td>18762</td>\n",
       "      <td>23985</td>\n",
       "      <td>0.000</td>\n",
       "      <td>23226</td>\n",
       "      <td>0.000</td>\n",
       "      <td>23167</td>\n",
       "      <td>0.000</td>\n",
       "      <td>12313</td>\n",
       "      <td>0.000</td>\n",
       "      <td>1</td>\n",
       "    </tr>\n",
       "    <tr>\n",
       "      <th>3</th>\n",
       "      <td>22015</td>\n",
       "      <td>203503</td>\n",
       "      <td>Tony Snell</td>\n",
       "      <td>1610612741</td>\n",
       "      <td>CHI</td>\n",
       "      <td>Chicago Bulls</td>\n",
       "      <td>21501222</td>\n",
       "      <td>2016-04-13</td>\n",
       "      <td>CHI vs. PHI</td>\n",
       "      <td>W</td>\n",
       "      <td>...</td>\n",
       "      <td>18745</td>\n",
       "      <td>6900</td>\n",
       "      <td>0.118</td>\n",
       "      <td>18513</td>\n",
       "      <td>0.135</td>\n",
       "      <td>16236</td>\n",
       "      <td>0.000</td>\n",
       "      <td>12313</td>\n",
       "      <td>0.067</td>\n",
       "      <td>9212</td>\n",
       "    </tr>\n",
       "    <tr>\n",
       "      <th>4</th>\n",
       "      <td>22015</td>\n",
       "      <td>203924</td>\n",
       "      <td>Jerami Grant</td>\n",
       "      <td>1610612755</td>\n",
       "      <td>PHI</td>\n",
       "      <td>Philadelphia 76ers</td>\n",
       "      <td>21501222</td>\n",
       "      <td>2016-04-13</td>\n",
       "      <td>PHI @ CHI</td>\n",
       "      <td>L</td>\n",
       "      <td>...</td>\n",
       "      <td>3572</td>\n",
       "      <td>10896</td>\n",
       "      <td>0.244</td>\n",
       "      <td>7484</td>\n",
       "      <td>0.240</td>\n",
       "      <td>8775</td>\n",
       "      <td>0.143</td>\n",
       "      <td>11077</td>\n",
       "      <td>0.111</td>\n",
       "      <td>10569</td>\n",
       "    </tr>\n",
       "  </tbody>\n",
       "</table>\n",
       "<p>5 rows × 188 columns</p>\n",
       "</div>"
      ],
      "text/plain": [
       "   SEASON_ID  PLAYER_ID      PLAYER_NAME     TEAM_ID TEAM_ABBREVIATION  \\\n",
       "0      22015    1626162  Kelly Oubre Jr.  1610612764               WAS   \n",
       "1      22015     202397        Ish Smith  1610612755               PHI   \n",
       "2      22015     201166     Aaron Brooks  1610612741               CHI   \n",
       "3      22015     203503       Tony Snell  1610612741               CHI   \n",
       "4      22015     203924     Jerami Grant  1610612755               PHI   \n",
       "\n",
       "            TEAM_NAME   GAME_ID   GAME_DATE      MATCHUP WL  ...  \\\n",
       "0  Washington Wizards  21501221  2016-04-13  WAS vs. ATL  W  ...   \n",
       "1  Philadelphia 76ers  21501222  2016-04-13    PHI @ CHI  L  ...   \n",
       "2       Chicago Bulls  21501222  2016-04-13  CHI vs. PHI  W  ...   \n",
       "3       Chicago Bulls  21501222  2016-04-13  CHI vs. PHI  W  ...   \n",
       "4  Philadelphia 76ers  21501222  2016-04-13    PHI @ CHI  L  ...   \n",
       "\n",
       "   PCT_PFD_RANK  PCT_PF_RANK  PCT_PTS  PCT_PTS_RANK  PCT_REB  PCT_REB_RANK  \\\n",
       "0          9233        14795    0.113         18901    0.103         18752   \n",
       "1         17321        18077    0.127         17860    0.185         12326   \n",
       "2         18762        23985    0.000         23226    0.000         23167   \n",
       "3         18745         6900    0.118         18513    0.135         16236   \n",
       "4          3572        10896    0.244          7484    0.240          8775   \n",
       "\n",
       "   PCT_STL  PCT_STL_RANK  PCT_TOV  PCT_TOV_RANK  \n",
       "0    0.000         12313    0.167         13279  \n",
       "1    0.000         12313    0.273         18957  \n",
       "2    0.000         12313    0.000             1  \n",
       "3    0.000         12313    0.067          9212  \n",
       "4    0.143         11077    0.111         10569  \n",
       "\n",
       "[5 rows x 188 columns]"
      ]
     },
     "execution_count": 4,
     "metadata": {},
     "output_type": "execute_result"
    }
   ],
   "source": [
    "player_box_df.head()"
   ]
  },
  {
   "cell_type": "markdown",
   "metadata": {},
   "source": [
    "I have 188 columns in this dataframe. First, I want to explore what is going on in all of those columns."
   ]
  },
  {
   "cell_type": "code",
   "execution_count": 5,
   "metadata": {},
   "outputs": [],
   "source": [
    "column_list = player_box_df.columns.tolist()"
   ]
  },
  {
   "cell_type": "code",
   "execution_count": 6,
   "metadata": {},
   "outputs": [
    {
     "data": {
      "text/plain": [
       "['SEASON_ID',\n",
       " 'PLAYER_ID',\n",
       " 'PLAYER_NAME',\n",
       " 'TEAM_ID',\n",
       " 'TEAM_ABBREVIATION',\n",
       " 'TEAM_NAME',\n",
       " 'GAME_ID',\n",
       " 'GAME_DATE',\n",
       " 'MATCHUP',\n",
       " 'WL',\n",
       " 'MIN',\n",
       " 'FGM',\n",
       " 'FGA',\n",
       " 'FG_PCT',\n",
       " 'FG3M',\n",
       " 'FG3A',\n",
       " 'FG3_PCT',\n",
       " 'FTM',\n",
       " 'FTA',\n",
       " 'FT_PCT',\n",
       " 'OREB',\n",
       " 'DREB',\n",
       " 'REB',\n",
       " 'AST',\n",
       " 'STL',\n",
       " 'BLK',\n",
       " 'TOV',\n",
       " 'PF',\n",
       " 'PTS',\n",
       " 'PLUS_MINUS',\n",
       " 'FANTASY_PTS',\n",
       " 'VIDEO_AVAILABLE',\n",
       " 'PLAYER_GAME_ID',\n",
       " 'AST_PCT',\n",
       " 'AST_PCT_RANK',\n",
       " 'AST_RATIO',\n",
       " 'AST_RATIO_RANK',\n",
       " 'AST_TO',\n",
       " 'AST_TO_RANK',\n",
       " 'AVAILABLE_FLAG',\n",
       " 'DEF_RATING',\n",
       " 'DEF_RATING_RANK',\n",
       " 'DREB_PCT',\n",
       " 'DREB_PCT_RANK',\n",
       " 'EFG_PCT',\n",
       " 'EFG_PCT_RANK',\n",
       " 'E_DEF_RATING',\n",
       " 'E_DEF_RATING_RANK',\n",
       " 'E_NET_RATING',\n",
       " 'E_NET_RATING_RANK',\n",
       " 'E_OFF_RATING',\n",
       " 'E_OFF_RATING_RANK',\n",
       " 'E_PACE',\n",
       " 'E_PACE_RANK',\n",
       " 'E_TOV_PCT',\n",
       " 'E_TOV_PCT_RANK',\n",
       " 'E_USG_PCT',\n",
       " 'E_USG_PCT_RANK',\n",
       " 'FGA_PG',\n",
       " 'FGA_PG_RANK',\n",
       " 'FGA_RANK',\n",
       " 'FGM_PG',\n",
       " 'FGM_PG_RANK',\n",
       " 'FGM_RANK',\n",
       " 'FG_PCT_RANK',\n",
       " 'GP_RANK',\n",
       " 'L_RANK',\n",
       " 'MIN_RANK',\n",
       " 'NET_RATING',\n",
       " 'NET_RATING_RANK',\n",
       " 'NICKNAME',\n",
       " 'OFF_RATING',\n",
       " 'OFF_RATING_RANK',\n",
       " 'OREB_PCT',\n",
       " 'OREB_PCT_RANK',\n",
       " 'PACE',\n",
       " 'PACE_PER40',\n",
       " 'PACE_RANK',\n",
       " 'PIE',\n",
       " 'PIE_RANK',\n",
       " 'POSS',\n",
       " 'REB_PCT',\n",
       " 'REB_PCT_RANK',\n",
       " 'SEASON_YEAR',\n",
       " 'TM_TOV_PCT',\n",
       " 'TM_TOV_PCT_RANK',\n",
       " 'TS_PCT',\n",
       " 'TS_PCT_RANK',\n",
       " 'USG_PCT',\n",
       " 'USG_PCT_RANK',\n",
       " 'W_PCT_RANK',\n",
       " 'W_RANK',\n",
       " 'sp_work_DEF_RATING',\n",
       " 'sp_work_DEF_RATING_RANK',\n",
       " 'sp_work_NET_RATING',\n",
       " 'sp_work_NET_RATING_RANK',\n",
       " 'sp_work_OFF_RATING',\n",
       " 'sp_work_OFF_RATING_RANK',\n",
       " 'sp_work_PACE',\n",
       " 'sp_work_PACE_RANK',\n",
       " 'BLKA',\n",
       " 'BLKA_RANK',\n",
       " 'BLK_RANK',\n",
       " 'NBA_FANTASY_PTS',\n",
       " 'NBA_FANTASY_PTS_RANK',\n",
       " 'OPP_PTS_2ND_CHANCE',\n",
       " 'OPP_PTS_2ND_CHANCE_RANK',\n",
       " 'OPP_PTS_FB',\n",
       " 'OPP_PTS_FB_RANK',\n",
       " 'OPP_PTS_OFF_TOV',\n",
       " 'OPP_PTS_OFF_TOV_RANK',\n",
       " 'OPP_PTS_PAINT',\n",
       " 'OPP_PTS_PAINT_RANK',\n",
       " 'PFD',\n",
       " 'PFD_RANK',\n",
       " 'PF_RANK',\n",
       " 'PTS_2ND_CHANCE',\n",
       " 'PTS_2ND_CHANCE_RANK',\n",
       " 'PTS_FB',\n",
       " 'PTS_FB_RANK',\n",
       " 'PTS_OFF_TOV',\n",
       " 'PTS_OFF_TOV_RANK',\n",
       " 'PTS_PAINT',\n",
       " 'PTS_PAINT_RANK',\n",
       " 'PCT_AST_2PM',\n",
       " 'PCT_AST_2PM_RANK',\n",
       " 'PCT_AST_3PM',\n",
       " 'PCT_AST_3PM_RANK',\n",
       " 'PCT_AST_FGM',\n",
       " 'PCT_AST_FGM_RANK',\n",
       " 'PCT_FGA_2PT',\n",
       " 'PCT_FGA_2PT_RANK',\n",
       " 'PCT_FGA_3PT',\n",
       " 'PCT_FGA_3PT_RANK',\n",
       " 'PCT_PTS_2PT',\n",
       " 'PCT_PTS_2PT_MR',\n",
       " 'PCT_PTS_2PT_MR_RANK',\n",
       " 'PCT_PTS_2PT_RANK',\n",
       " 'PCT_PTS_3PT',\n",
       " 'PCT_PTS_3PT_RANK',\n",
       " 'PCT_PTS_FB',\n",
       " 'PCT_PTS_FB_RANK',\n",
       " 'PCT_PTS_FT',\n",
       " 'PCT_PTS_FT_RANK',\n",
       " 'PCT_PTS_OFF_TOV',\n",
       " 'PCT_PTS_OFF_TOV_RANK',\n",
       " 'PCT_PTS_PAINT',\n",
       " 'PCT_PTS_PAINT_RANK',\n",
       " 'PCT_UAST_2PM',\n",
       " 'PCT_UAST_2PM_RANK',\n",
       " 'PCT_UAST_3PM',\n",
       " 'PCT_UAST_3PM_RANK',\n",
       " 'PCT_UAST_FGM',\n",
       " 'PCT_UAST_FGM_RANK',\n",
       " 'PCT_AST',\n",
       " 'PCT_AST_RANK',\n",
       " 'PCT_BLK',\n",
       " 'PCT_BLKA',\n",
       " 'PCT_BLKA_RANK',\n",
       " 'PCT_BLK_RANK',\n",
       " 'PCT_DREB',\n",
       " 'PCT_DREB_RANK',\n",
       " 'PCT_FG3A',\n",
       " 'PCT_FG3A_RANK',\n",
       " 'PCT_FG3M',\n",
       " 'PCT_FG3M_RANK',\n",
       " 'PCT_FGA',\n",
       " 'PCT_FGA_RANK',\n",
       " 'PCT_FGM',\n",
       " 'PCT_FGM_RANK',\n",
       " 'PCT_FTA',\n",
       " 'PCT_FTA_RANK',\n",
       " 'PCT_FTM',\n",
       " 'PCT_FTM_RANK',\n",
       " 'PCT_OREB',\n",
       " 'PCT_OREB_RANK',\n",
       " 'PCT_PF',\n",
       " 'PCT_PFD',\n",
       " 'PCT_PFD_RANK',\n",
       " 'PCT_PF_RANK',\n",
       " 'PCT_PTS',\n",
       " 'PCT_PTS_RANK',\n",
       " 'PCT_REB',\n",
       " 'PCT_REB_RANK',\n",
       " 'PCT_STL',\n",
       " 'PCT_STL_RANK',\n",
       " 'PCT_TOV',\n",
       " 'PCT_TOV_RANK']"
      ]
     },
     "execution_count": 6,
     "metadata": {},
     "output_type": "execute_result"
    }
   ],
   "source": [
    "column_list"
   ]
  },
  {
   "cell_type": "code",
   "execution_count": 7,
   "metadata": {},
   "outputs": [
    {
     "data": {
      "text/plain": [
       "0    13060\n",
       "1    13060\n",
       "2    13060\n",
       "3    13060\n",
       "4     5356\n",
       "Name: PCT_OREB_RANK, dtype: int64"
      ]
     },
     "execution_count": 7,
     "metadata": {},
     "output_type": "execute_result"
    }
   ],
   "source": [
    "player_box_df['PCT_OREB_RANK'].head()"
   ]
  },
  {
   "cell_type": "markdown",
   "metadata": {},
   "source": [
    "Several of the statistics have a 'rank' feature attached to the feature itself. I don't think this is going to be helpful because it is a less precise version of the same statistic, simply showing where the player ranked among all players in that statistic for that season. I am going to drop all of the features that end in rank to get rid of those unnecessary features."
   ]
  },
  {
   "cell_type": "code",
   "execution_count": 8,
   "metadata": {},
   "outputs": [],
   "source": [
    "columns_to_drop = [col for col in player_box_df.columns if col.endswith('RANK')]"
   ]
  },
  {
   "cell_type": "code",
   "execution_count": 9,
   "metadata": {},
   "outputs": [],
   "source": [
    "player_box_df.drop(columns=columns_to_drop, inplace=True)"
   ]
  },
  {
   "cell_type": "code",
   "execution_count": 10,
   "metadata": {},
   "outputs": [
    {
     "data": {
      "text/plain": [
       "(201805, 108)"
      ]
     },
     "execution_count": 10,
     "metadata": {},
     "output_type": "execute_result"
    }
   ],
   "source": [
    "player_box_df.shape"
   ]
  },
  {
   "cell_type": "markdown",
   "metadata": {},
   "source": [
    "Dropping the rank columns removes 80 columns from the dataframe. Next, I check for null values."
   ]
  },
  {
   "cell_type": "code",
   "execution_count": 11,
   "metadata": {},
   "outputs": [
    {
     "data": {
      "text/plain": [
       "['FG_PCT', 'FG3_PCT', 'FT_PCT', 'AVAILABLE_FLAG']"
      ]
     },
     "execution_count": 11,
     "metadata": {},
     "output_type": "execute_result"
    }
   ],
   "source": [
    "columns_with_null_values = player_box_df.columns[player_box_df.isna().any()].tolist()\n",
    "columns_with_null_values"
   ]
  },
  {
   "cell_type": "code",
   "execution_count": 12,
   "metadata": {},
   "outputs": [
    {
     "data": {
      "text/html": [
       "<div>\n",
       "<style scoped>\n",
       "    .dataframe tbody tr th:only-of-type {\n",
       "        vertical-align: middle;\n",
       "    }\n",
       "\n",
       "    .dataframe tbody tr th {\n",
       "        vertical-align: top;\n",
       "    }\n",
       "\n",
       "    .dataframe thead th {\n",
       "        text-align: right;\n",
       "    }\n",
       "</style>\n",
       "<table border=\"1\" class=\"dataframe\">\n",
       "  <thead>\n",
       "    <tr style=\"text-align: right;\">\n",
       "      <th></th>\n",
       "      <th>SEASON_ID</th>\n",
       "      <th>PLAYER_ID</th>\n",
       "      <th>PLAYER_NAME</th>\n",
       "      <th>TEAM_ID</th>\n",
       "      <th>TEAM_ABBREVIATION</th>\n",
       "      <th>TEAM_NAME</th>\n",
       "      <th>GAME_ID</th>\n",
       "      <th>GAME_DATE</th>\n",
       "      <th>MATCHUP</th>\n",
       "      <th>WL</th>\n",
       "      <th>...</th>\n",
       "      <th>PCT_FGM</th>\n",
       "      <th>PCT_FTA</th>\n",
       "      <th>PCT_FTM</th>\n",
       "      <th>PCT_OREB</th>\n",
       "      <th>PCT_PF</th>\n",
       "      <th>PCT_PFD</th>\n",
       "      <th>PCT_PTS</th>\n",
       "      <th>PCT_REB</th>\n",
       "      <th>PCT_STL</th>\n",
       "      <th>PCT_TOV</th>\n",
       "    </tr>\n",
       "  </thead>\n",
       "  <tbody>\n",
       "    <tr>\n",
       "      <th>20105</th>\n",
       "      <td>22015</td>\n",
       "      <td>201588</td>\n",
       "      <td>George Hill</td>\n",
       "      <td>1610612754</td>\n",
       "      <td>IND</td>\n",
       "      <td>Indiana Pacers</td>\n",
       "      <td>21500276</td>\n",
       "      <td>2015-12-02</td>\n",
       "      <td>IND @ LAC</td>\n",
       "      <td>W</td>\n",
       "      <td>...</td>\n",
       "      <td>0.000</td>\n",
       "      <td>0.194</td>\n",
       "      <td>0.192</td>\n",
       "      <td>0.0</td>\n",
       "      <td>0.143</td>\n",
       "      <td>0.280</td>\n",
       "      <td>0.070</td>\n",
       "      <td>0.114</td>\n",
       "      <td>0.000</td>\n",
       "      <td>0.231</td>\n",
       "    </tr>\n",
       "    <tr>\n",
       "      <th>20106</th>\n",
       "      <td>22015</td>\n",
       "      <td>201941</td>\n",
       "      <td>Jordan Hill</td>\n",
       "      <td>1610612754</td>\n",
       "      <td>IND</td>\n",
       "      <td>Indiana Pacers</td>\n",
       "      <td>21500276</td>\n",
       "      <td>2015-12-02</td>\n",
       "      <td>IND @ LAC</td>\n",
       "      <td>W</td>\n",
       "      <td>...</td>\n",
       "      <td>0.308</td>\n",
       "      <td>0.300</td>\n",
       "      <td>0.278</td>\n",
       "      <td>0.4</td>\n",
       "      <td>0.333</td>\n",
       "      <td>0.250</td>\n",
       "      <td>0.277</td>\n",
       "      <td>0.364</td>\n",
       "      <td>0.000</td>\n",
       "      <td>0.200</td>\n",
       "    </tr>\n",
       "    <tr>\n",
       "      <th>20150</th>\n",
       "      <td>22015</td>\n",
       "      <td>101145</td>\n",
       "      <td>Monta Ellis</td>\n",
       "      <td>1610612754</td>\n",
       "      <td>IND</td>\n",
       "      <td>Indiana Pacers</td>\n",
       "      <td>21500276</td>\n",
       "      <td>2015-12-02</td>\n",
       "      <td>IND @ LAC</td>\n",
       "      <td>W</td>\n",
       "      <td>...</td>\n",
       "      <td>0.182</td>\n",
       "      <td>0.061</td>\n",
       "      <td>0.077</td>\n",
       "      <td>0.0</td>\n",
       "      <td>0.063</td>\n",
       "      <td>0.038</td>\n",
       "      <td>0.135</td>\n",
       "      <td>0.118</td>\n",
       "      <td>0.286</td>\n",
       "      <td>0.100</td>\n",
       "    </tr>\n",
       "    <tr>\n",
       "      <th>20151</th>\n",
       "      <td>22015</td>\n",
       "      <td>201155</td>\n",
       "      <td>Rodney Stuckey</td>\n",
       "      <td>1610612754</td>\n",
       "      <td>IND</td>\n",
       "      <td>Indiana Pacers</td>\n",
       "      <td>21500276</td>\n",
       "      <td>2015-12-02</td>\n",
       "      <td>IND @ LAC</td>\n",
       "      <td>W</td>\n",
       "      <td>...</td>\n",
       "      <td>0.250</td>\n",
       "      <td>0.273</td>\n",
       "      <td>0.316</td>\n",
       "      <td>0.0</td>\n",
       "      <td>0.143</td>\n",
       "      <td>0.200</td>\n",
       "      <td>0.250</td>\n",
       "      <td>0.179</td>\n",
       "      <td>0.250</td>\n",
       "      <td>0.000</td>\n",
       "    </tr>\n",
       "    <tr>\n",
       "      <th>20152</th>\n",
       "      <td>22015</td>\n",
       "      <td>203143</td>\n",
       "      <td>Pablo Prigioni</td>\n",
       "      <td>1610612746</td>\n",
       "      <td>LAC</td>\n",
       "      <td>LA Clippers</td>\n",
       "      <td>21500276</td>\n",
       "      <td>2015-12-02</td>\n",
       "      <td>LAC vs. IND</td>\n",
       "      <td>L</td>\n",
       "      <td>...</td>\n",
       "      <td>0.111</td>\n",
       "      <td>0.333</td>\n",
       "      <td>0.400</td>\n",
       "      <td>0.0</td>\n",
       "      <td>0.167</td>\n",
       "      <td>0.333</td>\n",
       "      <td>0.167</td>\n",
       "      <td>0.100</td>\n",
       "      <td>0.500</td>\n",
       "      <td>0.000</td>\n",
       "    </tr>\n",
       "  </tbody>\n",
       "</table>\n",
       "<p>5 rows × 108 columns</p>\n",
       "</div>"
      ],
      "text/plain": [
       "       SEASON_ID  PLAYER_ID     PLAYER_NAME     TEAM_ID TEAM_ABBREVIATION  \\\n",
       "20105      22015     201588     George Hill  1610612754               IND   \n",
       "20106      22015     201941     Jordan Hill  1610612754               IND   \n",
       "20150      22015     101145     Monta Ellis  1610612754               IND   \n",
       "20151      22015     201155  Rodney Stuckey  1610612754               IND   \n",
       "20152      22015     203143  Pablo Prigioni  1610612746               LAC   \n",
       "\n",
       "            TEAM_NAME   GAME_ID   GAME_DATE      MATCHUP WL  ...  PCT_FGM  \\\n",
       "20105  Indiana Pacers  21500276  2015-12-02    IND @ LAC  W  ...    0.000   \n",
       "20106  Indiana Pacers  21500276  2015-12-02    IND @ LAC  W  ...    0.308   \n",
       "20150  Indiana Pacers  21500276  2015-12-02    IND @ LAC  W  ...    0.182   \n",
       "20151  Indiana Pacers  21500276  2015-12-02    IND @ LAC  W  ...    0.250   \n",
       "20152     LA Clippers  21500276  2015-12-02  LAC vs. IND  L  ...    0.111   \n",
       "\n",
       "       PCT_FTA  PCT_FTM  PCT_OREB  PCT_PF  PCT_PFD  PCT_PTS  PCT_REB  PCT_STL  \\\n",
       "20105    0.194    0.192       0.0   0.143    0.280    0.070    0.114    0.000   \n",
       "20106    0.300    0.278       0.4   0.333    0.250    0.277    0.364    0.000   \n",
       "20150    0.061    0.077       0.0   0.063    0.038    0.135    0.118    0.286   \n",
       "20151    0.273    0.316       0.0   0.143    0.200    0.250    0.179    0.250   \n",
       "20152    0.333    0.400       0.0   0.167    0.333    0.167    0.100    0.500   \n",
       "\n",
       "       PCT_TOV  \n",
       "20105    0.231  \n",
       "20106    0.200  \n",
       "20150    0.100  \n",
       "20151    0.000  \n",
       "20152    0.000  \n",
       "\n",
       "[5 rows x 108 columns]"
      ]
     },
     "execution_count": 12,
     "metadata": {},
     "output_type": "execute_result"
    }
   ],
   "source": [
    "player_box_df[pd.isna(player_box_df['AVAILABLE_FLAG'])].head()"
   ]
  },
  {
   "cell_type": "code",
   "execution_count": 13,
   "metadata": {},
   "outputs": [
    {
     "data": {
      "text/plain": [
       "41"
      ]
     },
     "execution_count": 13,
     "metadata": {},
     "output_type": "execute_result"
    }
   ],
   "source": [
    "player_box_df['AVAILABLE_FLAG'].isna().sum()"
   ]
  },
  {
   "cell_type": "markdown",
   "metadata": {},
   "source": [
    "The available_flag column has many null values and will not help predict points, so I get rid of it."
   ]
  },
  {
   "cell_type": "code",
   "execution_count": 14,
   "metadata": {},
   "outputs": [],
   "source": [
    "player_box_df.drop(['AVAILABLE_FLAG'],axis=1,inplace=True)"
   ]
  },
  {
   "cell_type": "code",
   "execution_count": 15,
   "metadata": {},
   "outputs": [
    {
     "data": {
      "text/plain": [
       "(201805, 107)"
      ]
     },
     "execution_count": 15,
     "metadata": {},
     "output_type": "execute_result"
    }
   ],
   "source": [
    "player_box_df.shape"
   ]
  },
  {
   "cell_type": "code",
   "execution_count": 16,
   "metadata": {},
   "outputs": [
    {
     "data": {
      "text/html": [
       "<div>\n",
       "<style scoped>\n",
       "    .dataframe tbody tr th:only-of-type {\n",
       "        vertical-align: middle;\n",
       "    }\n",
       "\n",
       "    .dataframe tbody tr th {\n",
       "        vertical-align: top;\n",
       "    }\n",
       "\n",
       "    .dataframe thead th {\n",
       "        text-align: right;\n",
       "    }\n",
       "</style>\n",
       "<table border=\"1\" class=\"dataframe\">\n",
       "  <thead>\n",
       "    <tr style=\"text-align: right;\">\n",
       "      <th></th>\n",
       "      <th>SEASON_ID</th>\n",
       "      <th>PLAYER_ID</th>\n",
       "      <th>PLAYER_NAME</th>\n",
       "      <th>TEAM_ID</th>\n",
       "      <th>TEAM_ABBREVIATION</th>\n",
       "      <th>TEAM_NAME</th>\n",
       "      <th>GAME_ID</th>\n",
       "      <th>GAME_DATE</th>\n",
       "      <th>MATCHUP</th>\n",
       "      <th>WL</th>\n",
       "      <th>...</th>\n",
       "      <th>PCT_FGM</th>\n",
       "      <th>PCT_FTA</th>\n",
       "      <th>PCT_FTM</th>\n",
       "      <th>PCT_OREB</th>\n",
       "      <th>PCT_PF</th>\n",
       "      <th>PCT_PFD</th>\n",
       "      <th>PCT_PTS</th>\n",
       "      <th>PCT_REB</th>\n",
       "      <th>PCT_STL</th>\n",
       "      <th>PCT_TOV</th>\n",
       "    </tr>\n",
       "  </thead>\n",
       "  <tbody>\n",
       "    <tr>\n",
       "      <th>2</th>\n",
       "      <td>22015</td>\n",
       "      <td>201166</td>\n",
       "      <td>Aaron Brooks</td>\n",
       "      <td>1610612741</td>\n",
       "      <td>CHI</td>\n",
       "      <td>Chicago Bulls</td>\n",
       "      <td>21501222</td>\n",
       "      <td>2016-04-13</td>\n",
       "      <td>CHI vs. PHI</td>\n",
       "      <td>W</td>\n",
       "      <td>...</td>\n",
       "      <td>0.0</td>\n",
       "      <td>0.0</td>\n",
       "      <td>0.0</td>\n",
       "      <td>0.0</td>\n",
       "      <td>0.5</td>\n",
       "      <td>0.0</td>\n",
       "      <td>0.0</td>\n",
       "      <td>0.000</td>\n",
       "      <td>0.0</td>\n",
       "      <td>0.0</td>\n",
       "    </tr>\n",
       "    <tr>\n",
       "      <th>83</th>\n",
       "      <td>22015</td>\n",
       "      <td>2365</td>\n",
       "      <td>Chris Andersen</td>\n",
       "      <td>1610612763</td>\n",
       "      <td>MEM</td>\n",
       "      <td>Memphis Grizzlies</td>\n",
       "      <td>21501227</td>\n",
       "      <td>2016-04-13</td>\n",
       "      <td>MEM @ GSW</td>\n",
       "      <td>L</td>\n",
       "      <td>...</td>\n",
       "      <td>0.0</td>\n",
       "      <td>0.0</td>\n",
       "      <td>0.0</td>\n",
       "      <td>0.0</td>\n",
       "      <td>0.0</td>\n",
       "      <td>0.0</td>\n",
       "      <td>0.0</td>\n",
       "      <td>0.143</td>\n",
       "      <td>0.0</td>\n",
       "      <td>0.0</td>\n",
       "    </tr>\n",
       "    <tr>\n",
       "      <th>129</th>\n",
       "      <td>22015</td>\n",
       "      <td>202684</td>\n",
       "      <td>Tristan Thompson</td>\n",
       "      <td>1610612739</td>\n",
       "      <td>CLE</td>\n",
       "      <td>Cleveland Cavaliers</td>\n",
       "      <td>21501220</td>\n",
       "      <td>2016-04-13</td>\n",
       "      <td>CLE vs. DET</td>\n",
       "      <td>L</td>\n",
       "      <td>...</td>\n",
       "      <td>0.0</td>\n",
       "      <td>0.0</td>\n",
       "      <td>0.0</td>\n",
       "      <td>0.0</td>\n",
       "      <td>1.0</td>\n",
       "      <td>0.0</td>\n",
       "      <td>0.0</td>\n",
       "      <td>0.000</td>\n",
       "      <td>0.0</td>\n",
       "      <td>0.0</td>\n",
       "    </tr>\n",
       "    <tr>\n",
       "      <th>164</th>\n",
       "      <td>22015</td>\n",
       "      <td>203527</td>\n",
       "      <td>Ryan Kelly</td>\n",
       "      <td>1610612747</td>\n",
       "      <td>LAL</td>\n",
       "      <td>Los Angeles Lakers</td>\n",
       "      <td>21501228</td>\n",
       "      <td>2016-04-13</td>\n",
       "      <td>LAL vs. UTA</td>\n",
       "      <td>W</td>\n",
       "      <td>...</td>\n",
       "      <td>0.0</td>\n",
       "      <td>0.0</td>\n",
       "      <td>0.0</td>\n",
       "      <td>0.0</td>\n",
       "      <td>0.0</td>\n",
       "      <td>0.0</td>\n",
       "      <td>0.0</td>\n",
       "      <td>0.000</td>\n",
       "      <td>0.0</td>\n",
       "      <td>0.0</td>\n",
       "    </tr>\n",
       "    <tr>\n",
       "      <th>237</th>\n",
       "      <td>22015</td>\n",
       "      <td>203939</td>\n",
       "      <td>Dwight Powell</td>\n",
       "      <td>1610612742</td>\n",
       "      <td>DAL</td>\n",
       "      <td>Dallas Mavericks</td>\n",
       "      <td>21501223</td>\n",
       "      <td>2016-04-13</td>\n",
       "      <td>DAL vs. SAS</td>\n",
       "      <td>L</td>\n",
       "      <td>...</td>\n",
       "      <td>0.0</td>\n",
       "      <td>0.0</td>\n",
       "      <td>0.0</td>\n",
       "      <td>0.0</td>\n",
       "      <td>0.0</td>\n",
       "      <td>0.0</td>\n",
       "      <td>0.0</td>\n",
       "      <td>0.000</td>\n",
       "      <td>1.0</td>\n",
       "      <td>0.0</td>\n",
       "    </tr>\n",
       "  </tbody>\n",
       "</table>\n",
       "<p>5 rows × 107 columns</p>\n",
       "</div>"
      ],
      "text/plain": [
       "     SEASON_ID  PLAYER_ID       PLAYER_NAME     TEAM_ID TEAM_ABBREVIATION  \\\n",
       "2        22015     201166      Aaron Brooks  1610612741               CHI   \n",
       "83       22015       2365    Chris Andersen  1610612763               MEM   \n",
       "129      22015     202684  Tristan Thompson  1610612739               CLE   \n",
       "164      22015     203527        Ryan Kelly  1610612747               LAL   \n",
       "237      22015     203939     Dwight Powell  1610612742               DAL   \n",
       "\n",
       "               TEAM_NAME   GAME_ID   GAME_DATE      MATCHUP WL  ...  PCT_FGM  \\\n",
       "2          Chicago Bulls  21501222  2016-04-13  CHI vs. PHI  W  ...      0.0   \n",
       "83     Memphis Grizzlies  21501227  2016-04-13    MEM @ GSW  L  ...      0.0   \n",
       "129  Cleveland Cavaliers  21501220  2016-04-13  CLE vs. DET  L  ...      0.0   \n",
       "164   Los Angeles Lakers  21501228  2016-04-13  LAL vs. UTA  W  ...      0.0   \n",
       "237     Dallas Mavericks  21501223  2016-04-13  DAL vs. SAS  L  ...      0.0   \n",
       "\n",
       "     PCT_FTA  PCT_FTM  PCT_OREB  PCT_PF  PCT_PFD  PCT_PTS  PCT_REB  PCT_STL  \\\n",
       "2        0.0      0.0       0.0     0.5      0.0      0.0    0.000      0.0   \n",
       "83       0.0      0.0       0.0     0.0      0.0      0.0    0.143      0.0   \n",
       "129      0.0      0.0       0.0     1.0      0.0      0.0    0.000      0.0   \n",
       "164      0.0      0.0       0.0     0.0      0.0      0.0    0.000      0.0   \n",
       "237      0.0      0.0       0.0     0.0      0.0      0.0    0.000      1.0   \n",
       "\n",
       "     PCT_TOV  \n",
       "2        0.0  \n",
       "83       0.0  \n",
       "129      0.0  \n",
       "164      0.0  \n",
       "237      0.0  \n",
       "\n",
       "[5 rows x 107 columns]"
      ]
     },
     "execution_count": 16,
     "metadata": {},
     "output_type": "execute_result"
    }
   ],
   "source": [
    "player_box_df[pd.isna(player_box_df['FG_PCT'])].head()"
   ]
  },
  {
   "cell_type": "markdown",
   "metadata": {},
   "source": [
    "For the three percentage-based columns, if a player attempts 0 shots in that shot category, the percentage is stored as NaN. I replace these Nan values with 0 because the player scored 0 points off of shots from those distances, even if they didn't attempt to because they took 0 shots."
   ]
  },
  {
   "cell_type": "code",
   "execution_count": 17,
   "metadata": {},
   "outputs": [],
   "source": [
    "player_box_df.fillna(0,inplace=True)"
   ]
  },
  {
   "cell_type": "code",
   "execution_count": 18,
   "metadata": {},
   "outputs": [
    {
     "data": {
      "text/plain": [
       "[]"
      ]
     },
     "execution_count": 18,
     "metadata": {},
     "output_type": "execute_result"
    }
   ],
   "source": [
    "columns_with_null_values = player_box_df.columns[player_box_df.isna().any()].tolist()\n",
    "columns_with_null_values"
   ]
  },
  {
   "cell_type": "markdown",
   "metadata": {},
   "source": [
    "There are a few other features that do not provide information about player performance, so I drop those as well."
   ]
  },
  {
   "cell_type": "code",
   "execution_count": 19,
   "metadata": {},
   "outputs": [],
   "source": [
    "columns_to_drop = ['FANTASY_PTS','VIDEO_AVAILABLE','NICKNAME','NBA_FANTASY_PTS']"
   ]
  },
  {
   "cell_type": "code",
   "execution_count": 20,
   "metadata": {},
   "outputs": [],
   "source": [
    "player_box_df.drop(columns=columns_to_drop, inplace=True)"
   ]
  },
  {
   "cell_type": "code",
   "execution_count": 21,
   "metadata": {},
   "outputs": [
    {
     "data": {
      "text/plain": [
       "(201805, 103)"
      ]
     },
     "execution_count": 21,
     "metadata": {},
     "output_type": "execute_result"
    }
   ],
   "source": [
    "player_box_df.shape"
   ]
  },
  {
   "cell_type": "markdown",
   "metadata": {},
   "source": [
    "The player box score data has no more null values, and I have gotten rid of irrelevant columns. Now it's time for team box scores."
   ]
  },
  {
   "cell_type": "markdown",
   "metadata": {},
   "source": [
    "## Cleaning Team Box Score Data"
   ]
  },
  {
   "cell_type": "code",
   "execution_count": 22,
   "metadata": {},
   "outputs": [],
   "source": [
    "team_box_df = pd.read_csv('./Data/team_box_scores.csv')"
   ]
  },
  {
   "cell_type": "code",
   "execution_count": 23,
   "metadata": {},
   "outputs": [
    {
     "data": {
      "text/plain": [
       "(19038, 148)"
      ]
     },
     "execution_count": 23,
     "metadata": {},
     "output_type": "execute_result"
    }
   ],
   "source": [
    "team_box_df.shape"
   ]
  },
  {
   "cell_type": "code",
   "execution_count": 24,
   "metadata": {},
   "outputs": [
    {
     "data": {
      "text/html": [
       "<div>\n",
       "<style scoped>\n",
       "    .dataframe tbody tr th:only-of-type {\n",
       "        vertical-align: middle;\n",
       "    }\n",
       "\n",
       "    .dataframe tbody tr th {\n",
       "        vertical-align: top;\n",
       "    }\n",
       "\n",
       "    .dataframe thead th {\n",
       "        text-align: right;\n",
       "    }\n",
       "</style>\n",
       "<table border=\"1\" class=\"dataframe\">\n",
       "  <thead>\n",
       "    <tr style=\"text-align: right;\">\n",
       "      <th></th>\n",
       "      <th>SEASON_YEAR</th>\n",
       "      <th>TEAM_ID</th>\n",
       "      <th>TEAM_ABBREVIATION</th>\n",
       "      <th>TEAM_NAME</th>\n",
       "      <th>GAME_ID</th>\n",
       "      <th>GAME_DATE</th>\n",
       "      <th>MATCHUP</th>\n",
       "      <th>WL</th>\n",
       "      <th>MIN</th>\n",
       "      <th>FGM</th>\n",
       "      <th>...</th>\n",
       "      <th>PCT_PTS_OFF_TOV</th>\n",
       "      <th>PCT_PTS_OFF_TOV_RANK</th>\n",
       "      <th>PCT_PTS_PAINT</th>\n",
       "      <th>PCT_PTS_PAINT_RANK</th>\n",
       "      <th>PCT_UAST_2PM</th>\n",
       "      <th>PCT_UAST_2PM_RANK</th>\n",
       "      <th>PCT_UAST_3PM</th>\n",
       "      <th>PCT_UAST_3PM_RANK</th>\n",
       "      <th>PCT_UAST_FGM</th>\n",
       "      <th>PCT_UAST_FGM_RANK</th>\n",
       "    </tr>\n",
       "  </thead>\n",
       "  <tbody>\n",
       "    <tr>\n",
       "      <th>0</th>\n",
       "      <td>2015-16</td>\n",
       "      <td>1610612762</td>\n",
       "      <td>UTA</td>\n",
       "      <td>Utah Jazz</td>\n",
       "      <td>21501228</td>\n",
       "      <td>2016-04-13T00:00:00</td>\n",
       "      <td>UTA @ LAL</td>\n",
       "      <td>L</td>\n",
       "      <td>48.0</td>\n",
       "      <td>39</td>\n",
       "      <td>...</td>\n",
       "      <td>0.135</td>\n",
       "      <td>1546</td>\n",
       "      <td>0.563</td>\n",
       "      <td>127</td>\n",
       "      <td>0.367</td>\n",
       "      <td>2102</td>\n",
       "      <td>0.111</td>\n",
       "      <td>1405</td>\n",
       "      <td>0.308</td>\n",
       "      <td>2109</td>\n",
       "    </tr>\n",
       "    <tr>\n",
       "      <th>1</th>\n",
       "      <td>2015-16</td>\n",
       "      <td>1610612754</td>\n",
       "      <td>IND</td>\n",
       "      <td>Indiana Pacers</td>\n",
       "      <td>21501225</td>\n",
       "      <td>2016-04-13T00:00:00</td>\n",
       "      <td>IND @ MIL</td>\n",
       "      <td>W</td>\n",
       "      <td>48.0</td>\n",
       "      <td>39</td>\n",
       "      <td>...</td>\n",
       "      <td>0.165</td>\n",
       "      <td>1074</td>\n",
       "      <td>0.536</td>\n",
       "      <td>210</td>\n",
       "      <td>0.393</td>\n",
       "      <td>1956</td>\n",
       "      <td>0.000</td>\n",
       "      <td>1715</td>\n",
       "      <td>0.282</td>\n",
       "      <td>2230</td>\n",
       "    </tr>\n",
       "    <tr>\n",
       "      <th>2</th>\n",
       "      <td>2015-16</td>\n",
       "      <td>1610612737</td>\n",
       "      <td>ATL</td>\n",
       "      <td>Atlanta Hawks</td>\n",
       "      <td>21501221</td>\n",
       "      <td>2016-04-13T00:00:00</td>\n",
       "      <td>ATL @ WAS</td>\n",
       "      <td>L</td>\n",
       "      <td>48.0</td>\n",
       "      <td>32</td>\n",
       "      <td>...</td>\n",
       "      <td>0.133</td>\n",
       "      <td>1603</td>\n",
       "      <td>0.327</td>\n",
       "      <td>2131</td>\n",
       "      <td>0.429</td>\n",
       "      <td>1703</td>\n",
       "      <td>0.091</td>\n",
       "      <td>1572</td>\n",
       "      <td>0.313</td>\n",
       "      <td>2088</td>\n",
       "    </tr>\n",
       "    <tr>\n",
       "      <th>3</th>\n",
       "      <td>2015-16</td>\n",
       "      <td>1610612759</td>\n",
       "      <td>SAS</td>\n",
       "      <td>San Antonio Spurs</td>\n",
       "      <td>21501223</td>\n",
       "      <td>2016-04-13T00:00:00</td>\n",
       "      <td>SAS @ DAL</td>\n",
       "      <td>W</td>\n",
       "      <td>48.0</td>\n",
       "      <td>35</td>\n",
       "      <td>...</td>\n",
       "      <td>0.146</td>\n",
       "      <td>1376</td>\n",
       "      <td>0.438</td>\n",
       "      <td>1001</td>\n",
       "      <td>0.379</td>\n",
       "      <td>2037</td>\n",
       "      <td>0.000</td>\n",
       "      <td>1715</td>\n",
       "      <td>0.314</td>\n",
       "      <td>2078</td>\n",
       "    </tr>\n",
       "    <tr>\n",
       "      <th>4</th>\n",
       "      <td>2015-16</td>\n",
       "      <td>1610612746</td>\n",
       "      <td>LAC</td>\n",
       "      <td>LA Clippers</td>\n",
       "      <td>21501229</td>\n",
       "      <td>2016-04-13T00:00:00</td>\n",
       "      <td>LAC @ PHX</td>\n",
       "      <td>L</td>\n",
       "      <td>48.0</td>\n",
       "      <td>43</td>\n",
       "      <td>...</td>\n",
       "      <td>0.105</td>\n",
       "      <td>2016</td>\n",
       "      <td>0.438</td>\n",
       "      <td>990</td>\n",
       "      <td>0.588</td>\n",
       "      <td>487</td>\n",
       "      <td>0.000</td>\n",
       "      <td>1715</td>\n",
       "      <td>0.465</td>\n",
       "      <td>763</td>\n",
       "    </tr>\n",
       "  </tbody>\n",
       "</table>\n",
       "<p>5 rows × 148 columns</p>\n",
       "</div>"
      ],
      "text/plain": [
       "  SEASON_YEAR     TEAM_ID TEAM_ABBREVIATION          TEAM_NAME   GAME_ID  \\\n",
       "0     2015-16  1610612762               UTA          Utah Jazz  21501228   \n",
       "1     2015-16  1610612754               IND     Indiana Pacers  21501225   \n",
       "2     2015-16  1610612737               ATL      Atlanta Hawks  21501221   \n",
       "3     2015-16  1610612759               SAS  San Antonio Spurs  21501223   \n",
       "4     2015-16  1610612746               LAC        LA Clippers  21501229   \n",
       "\n",
       "             GAME_DATE    MATCHUP WL   MIN  FGM  ...  PCT_PTS_OFF_TOV  \\\n",
       "0  2016-04-13T00:00:00  UTA @ LAL  L  48.0   39  ...            0.135   \n",
       "1  2016-04-13T00:00:00  IND @ MIL  W  48.0   39  ...            0.165   \n",
       "2  2016-04-13T00:00:00  ATL @ WAS  L  48.0   32  ...            0.133   \n",
       "3  2016-04-13T00:00:00  SAS @ DAL  W  48.0   35  ...            0.146   \n",
       "4  2016-04-13T00:00:00  LAC @ PHX  L  48.0   43  ...            0.105   \n",
       "\n",
       "   PCT_PTS_OFF_TOV_RANK  PCT_PTS_PAINT  PCT_PTS_PAINT_RANK  PCT_UAST_2PM  \\\n",
       "0                  1546          0.563                 127         0.367   \n",
       "1                  1074          0.536                 210         0.393   \n",
       "2                  1603          0.327                2131         0.429   \n",
       "3                  1376          0.438                1001         0.379   \n",
       "4                  2016          0.438                 990         0.588   \n",
       "\n",
       "   PCT_UAST_2PM_RANK  PCT_UAST_3PM  PCT_UAST_3PM_RANK  PCT_UAST_FGM  \\\n",
       "0               2102         0.111               1405         0.308   \n",
       "1               1956         0.000               1715         0.282   \n",
       "2               1703         0.091               1572         0.313   \n",
       "3               2037         0.000               1715         0.314   \n",
       "4                487         0.000               1715         0.465   \n",
       "\n",
       "   PCT_UAST_FGM_RANK  \n",
       "0               2109  \n",
       "1               2230  \n",
       "2               2088  \n",
       "3               2078  \n",
       "4                763  \n",
       "\n",
       "[5 rows x 148 columns]"
      ]
     },
     "execution_count": 24,
     "metadata": {},
     "output_type": "execute_result"
    }
   ],
   "source": [
    "team_box_df.head()"
   ]
  },
  {
   "cell_type": "markdown",
   "metadata": {},
   "source": [
    "Just like with the player box scores, the team box scores have over 100 columns. I use a list to look at all of the columns."
   ]
  },
  {
   "cell_type": "code",
   "execution_count": 25,
   "metadata": {},
   "outputs": [
    {
     "data": {
      "text/plain": [
       "['SEASON_YEAR',\n",
       " 'TEAM_ID',\n",
       " 'TEAM_ABBREVIATION',\n",
       " 'TEAM_NAME',\n",
       " 'GAME_ID',\n",
       " 'GAME_DATE',\n",
       " 'MATCHUP',\n",
       " 'WL',\n",
       " 'MIN',\n",
       " 'FGM',\n",
       " 'FGA',\n",
       " 'FG_PCT',\n",
       " 'FG3M',\n",
       " 'FG3A',\n",
       " 'FG3_PCT',\n",
       " 'FTM',\n",
       " 'FTA',\n",
       " 'FT_PCT',\n",
       " 'OREB',\n",
       " 'DREB',\n",
       " 'REB',\n",
       " 'AST',\n",
       " 'TOV',\n",
       " 'STL',\n",
       " 'BLK',\n",
       " 'BLKA',\n",
       " 'PF',\n",
       " 'PFD',\n",
       " 'PTS',\n",
       " 'PLUS_MINUS',\n",
       " 'GP_RANK',\n",
       " 'W_RANK',\n",
       " 'L_RANK',\n",
       " 'W_PCT_RANK',\n",
       " 'MIN_RANK',\n",
       " 'FGM_RANK',\n",
       " 'FGA_RANK',\n",
       " 'FG_PCT_RANK',\n",
       " 'FG3M_RANK',\n",
       " 'FG3A_RANK',\n",
       " 'FG3_PCT_RANK',\n",
       " 'FTM_RANK',\n",
       " 'FTA_RANK',\n",
       " 'FT_PCT_RANK',\n",
       " 'OREB_RANK',\n",
       " 'DREB_RANK',\n",
       " 'REB_RANK',\n",
       " 'AST_RANK',\n",
       " 'TOV_RANK',\n",
       " 'STL_RANK',\n",
       " 'BLK_RANK',\n",
       " 'BLKA_RANK',\n",
       " 'PF_RANK',\n",
       " 'PFD_RANK',\n",
       " 'PTS_RANK',\n",
       " 'PLUS_MINUS_RANK',\n",
       " 'AVAILABLE_FLAG',\n",
       " 'TEAM_GAME_ID',\n",
       " 'AST_PCT',\n",
       " 'AST_PCT_RANK',\n",
       " 'AST_RATIO',\n",
       " 'AST_RATIO_RANK',\n",
       " 'AST_TO',\n",
       " 'AST_TO_RANK',\n",
       " 'DEF_RATING',\n",
       " 'DEF_RATING_RANK',\n",
       " 'DREB_PCT',\n",
       " 'DREB_PCT_RANK',\n",
       " 'EFG_PCT',\n",
       " 'EFG_PCT_RANK',\n",
       " 'E_DEF_RATING',\n",
       " 'E_NET_RATING',\n",
       " 'E_OFF_RATING',\n",
       " 'E_PACE',\n",
       " 'NET_RATING',\n",
       " 'NET_RATING_RANK',\n",
       " 'OFF_RATING',\n",
       " 'OFF_RATING_RANK',\n",
       " 'OREB_PCT',\n",
       " 'OREB_PCT_RANK',\n",
       " 'PACE',\n",
       " 'PACE_PER40',\n",
       " 'PACE_RANK',\n",
       " 'PIE',\n",
       " 'PIE_RANK',\n",
       " 'POSS',\n",
       " 'REB_PCT',\n",
       " 'REB_PCT_RANK',\n",
       " 'TM_TOV_PCT',\n",
       " 'TM_TOV_PCT_RANK',\n",
       " 'TS_PCT',\n",
       " 'TS_PCT_RANK',\n",
       " 'FTA_RATE',\n",
       " 'FTA_RATE_RANK',\n",
       " 'OPP_EFG_PCT',\n",
       " 'OPP_EFG_PCT_RANK',\n",
       " 'OPP_FTA_RATE',\n",
       " 'OPP_FTA_RATE_RANK',\n",
       " 'OPP_OREB_PCT',\n",
       " 'OPP_OREB_PCT_RANK',\n",
       " 'OPP_TOV_PCT',\n",
       " 'OPP_TOV_PCT_RANK',\n",
       " 'OPP_PTS_2ND_CHANCE',\n",
       " 'OPP_PTS_2ND_CHANCE_RANK',\n",
       " 'OPP_PTS_FB',\n",
       " 'OPP_PTS_FB_RANK',\n",
       " 'OPP_PTS_OFF_TOV',\n",
       " 'OPP_PTS_OFF_TOV_RANK',\n",
       " 'OPP_PTS_PAINT',\n",
       " 'OPP_PTS_PAINT_RANK',\n",
       " 'PTS_2ND_CHANCE',\n",
       " 'PTS_2ND_CHANCE_RANK',\n",
       " 'PTS_FB',\n",
       " 'PTS_FB_RANK',\n",
       " 'PTS_OFF_TOV',\n",
       " 'PTS_OFF_TOV_RANK',\n",
       " 'PTS_PAINT',\n",
       " 'PTS_PAINT_RANK',\n",
       " 'PCT_AST_2PM',\n",
       " 'PCT_AST_2PM_RANK',\n",
       " 'PCT_AST_3PM',\n",
       " 'PCT_AST_3PM_RANK',\n",
       " 'PCT_AST_FGM',\n",
       " 'PCT_AST_FGM_RANK',\n",
       " 'PCT_FGA_2PT',\n",
       " 'PCT_FGA_2PT_RANK',\n",
       " 'PCT_FGA_3PT',\n",
       " 'PCT_FGA_3PT_RANK',\n",
       " 'PCT_PTS_2PT',\n",
       " 'PCT_PTS_2PT_MR',\n",
       " 'PCT_PTS_2PT_MR_RANK',\n",
       " 'PCT_PTS_2PT_RANK',\n",
       " 'PCT_PTS_3PT',\n",
       " 'PCT_PTS_3PT_RANK',\n",
       " 'PCT_PTS_FB',\n",
       " 'PCT_PTS_FB_RANK',\n",
       " 'PCT_PTS_FT',\n",
       " 'PCT_PTS_FT_RANK',\n",
       " 'PCT_PTS_OFF_TOV',\n",
       " 'PCT_PTS_OFF_TOV_RANK',\n",
       " 'PCT_PTS_PAINT',\n",
       " 'PCT_PTS_PAINT_RANK',\n",
       " 'PCT_UAST_2PM',\n",
       " 'PCT_UAST_2PM_RANK',\n",
       " 'PCT_UAST_3PM',\n",
       " 'PCT_UAST_3PM_RANK',\n",
       " 'PCT_UAST_FGM',\n",
       " 'PCT_UAST_FGM_RANK']"
      ]
     },
     "execution_count": 25,
     "metadata": {},
     "output_type": "execute_result"
    }
   ],
   "source": [
    "column_list = team_box_df.columns.tolist()\n",
    "column_list"
   ]
  },
  {
   "cell_type": "markdown",
   "metadata": {},
   "source": [
    "Just like with the player box scores, the team box scores also contain several rank columns to drop. Available flag is present here as well, and I drop that. I don't see any other categories that need to get dropped, so the next step will be checking for NaN values. Later, I am going to have to change the column names because some of them are the same as the player columns."
   ]
  },
  {
   "cell_type": "code",
   "execution_count": 26,
   "metadata": {},
   "outputs": [],
   "source": [
    "columns_to_drop = [col for col in team_box_df.columns if col.endswith('RANK')]\n",
    "team_box_df.drop(columns=columns_to_drop, inplace=True)"
   ]
  },
  {
   "cell_type": "code",
   "execution_count": 27,
   "metadata": {},
   "outputs": [
    {
     "data": {
      "text/plain": [
       "(19038, 80)"
      ]
     },
     "execution_count": 27,
     "metadata": {},
     "output_type": "execute_result"
    }
   ],
   "source": [
    "team_box_df.shape"
   ]
  },
  {
   "cell_type": "code",
   "execution_count": 28,
   "metadata": {},
   "outputs": [],
   "source": [
    "team_box_df.drop(columns='AVAILABLE_FLAG',inplace=True)"
   ]
  },
  {
   "cell_type": "code",
   "execution_count": 29,
   "metadata": {},
   "outputs": [
    {
     "data": {
      "text/plain": [
       "(19038, 79)"
      ]
     },
     "execution_count": 29,
     "metadata": {},
     "output_type": "execute_result"
    }
   ],
   "source": [
    "team_box_df.shape"
   ]
  },
  {
   "cell_type": "code",
   "execution_count": 30,
   "metadata": {},
   "outputs": [
    {
     "data": {
      "text/plain": [
       "[]"
      ]
     },
     "execution_count": 30,
     "metadata": {},
     "output_type": "execute_result"
    }
   ],
   "source": [
    "columns_with_null_values = team_box_df.columns[team_box_df.isna().any()].tolist()\n",
    "columns_with_null_values"
   ]
  },
  {
   "cell_type": "markdown",
   "metadata": {},
   "source": [
    "Excellent! There are no null values. I do need to label the columns so that they are clear in relation to the player box score data columns, though."
   ]
  },
  {
   "cell_type": "code",
   "execution_count": 31,
   "metadata": {},
   "outputs": [],
   "source": [
    "team_box_df.columns = team_box_df.columns[:7].tolist() + ['TEAM_' + column for column in team_box_df.columns[7:]]"
   ]
  },
  {
   "cell_type": "code",
   "execution_count": 32,
   "metadata": {},
   "outputs": [
    {
     "data": {
      "text/plain": [
       "Index(['SEASON_YEAR', 'TEAM_ID', 'TEAM_ABBREVIATION', 'TEAM_NAME', 'GAME_ID',\n",
       "       'GAME_DATE', 'MATCHUP', 'TEAM_WL', 'TEAM_MIN', 'TEAM_FGM', 'TEAM_FGA',\n",
       "       'TEAM_FG_PCT', 'TEAM_FG3M', 'TEAM_FG3A', 'TEAM_FG3_PCT', 'TEAM_FTM',\n",
       "       'TEAM_FTA', 'TEAM_FT_PCT', 'TEAM_OREB', 'TEAM_DREB', 'TEAM_REB',\n",
       "       'TEAM_AST', 'TEAM_TOV', 'TEAM_STL', 'TEAM_BLK', 'TEAM_BLKA', 'TEAM_PF',\n",
       "       'TEAM_PFD', 'TEAM_PTS', 'TEAM_PLUS_MINUS', 'TEAM_TEAM_GAME_ID',\n",
       "       'TEAM_AST_PCT', 'TEAM_AST_RATIO', 'TEAM_AST_TO', 'TEAM_DEF_RATING',\n",
       "       'TEAM_DREB_PCT', 'TEAM_EFG_PCT', 'TEAM_E_DEF_RATING',\n",
       "       'TEAM_E_NET_RATING', 'TEAM_E_OFF_RATING', 'TEAM_E_PACE',\n",
       "       'TEAM_NET_RATING', 'TEAM_OFF_RATING', 'TEAM_OREB_PCT', 'TEAM_PACE',\n",
       "       'TEAM_PACE_PER40', 'TEAM_PIE', 'TEAM_POSS', 'TEAM_REB_PCT',\n",
       "       'TEAM_TM_TOV_PCT', 'TEAM_TS_PCT', 'TEAM_FTA_RATE', 'TEAM_OPP_EFG_PCT',\n",
       "       'TEAM_OPP_FTA_RATE', 'TEAM_OPP_OREB_PCT', 'TEAM_OPP_TOV_PCT',\n",
       "       'TEAM_OPP_PTS_2ND_CHANCE', 'TEAM_OPP_PTS_FB', 'TEAM_OPP_PTS_OFF_TOV',\n",
       "       'TEAM_OPP_PTS_PAINT', 'TEAM_PTS_2ND_CHANCE', 'TEAM_PTS_FB',\n",
       "       'TEAM_PTS_OFF_TOV', 'TEAM_PTS_PAINT', 'TEAM_PCT_AST_2PM',\n",
       "       'TEAM_PCT_AST_3PM', 'TEAM_PCT_AST_FGM', 'TEAM_PCT_FGA_2PT',\n",
       "       'TEAM_PCT_FGA_3PT', 'TEAM_PCT_PTS_2PT', 'TEAM_PCT_PTS_2PT_MR',\n",
       "       'TEAM_PCT_PTS_3PT', 'TEAM_PCT_PTS_FB', 'TEAM_PCT_PTS_FT',\n",
       "       'TEAM_PCT_PTS_OFF_TOV', 'TEAM_PCT_PTS_PAINT', 'TEAM_PCT_UAST_2PM',\n",
       "       'TEAM_PCT_UAST_3PM', 'TEAM_PCT_UAST_FGM'],\n",
       "      dtype='object')"
      ]
     },
     "execution_count": 32,
     "metadata": {},
     "output_type": "execute_result"
    }
   ],
   "source": [
    "team_box_df.columns"
   ]
  },
  {
   "cell_type": "code",
   "execution_count": 33,
   "metadata": {},
   "outputs": [],
   "source": [
    "team_box_df['TEAM_GAME_ID'] = team_box_df['TEAM_TEAM_GAME_ID'].astype(str)\n",
    "team_box_df.drop(columns='TEAM_TEAM_GAME_ID',inplace=True)"
   ]
  },
  {
   "cell_type": "code",
   "execution_count": 34,
   "metadata": {},
   "outputs": [
    {
     "data": {
      "text/plain": [
       "2457     16106127370021500001\n",
       "2425     16106127370021500019\n",
       "2415     16106127370021500026\n",
       "2377     16106127370021500039\n",
       "2343     16106127370021500055\n",
       "                 ...         \n",
       "16727    16106127660022201148\n",
       "16702    16106127660022201163\n",
       "16679    16106127660022201176\n",
       "16618    16106127660022201202\n",
       "16599    16106127660022201218\n",
       "Name: TEAM_GAME_ID, Length: 19038, dtype: object"
      ]
     },
     "execution_count": 34,
     "metadata": {},
     "output_type": "execute_result"
    }
   ],
   "source": [
    "team_box_df['TEAM_GAME_ID'].sort_values()"
   ]
  },
  {
   "cell_type": "markdown",
   "metadata": {},
   "source": [
    "There is a double zero in the 11 and 12 digits place in all of these IDs. The same pattern is not present in the player_box_df. I address the discrepancy to merge them."
   ]
  },
  {
   "cell_type": "code",
   "execution_count": 35,
   "metadata": {},
   "outputs": [],
   "source": [
    "team_box_df['TEAM_GAME_ID'] = team_box_df['TEAM_GAME_ID'].str[:10] + team_box_df['TEAM_GAME_ID'].str[12:]"
   ]
  },
  {
   "cell_type": "markdown",
   "metadata": {},
   "source": [
    "## Cleaning Player Index Bios"
   ]
  },
  {
   "cell_type": "code",
   "execution_count": 36,
   "metadata": {},
   "outputs": [],
   "source": [
    "player_bio_df = pd.read_csv('./Data/player_bios.csv')"
   ]
  },
  {
   "cell_type": "code",
   "execution_count": 37,
   "metadata": {},
   "outputs": [
    {
     "data": {
      "text/plain": [
       "(4245, 24)"
      ]
     },
     "execution_count": 37,
     "metadata": {},
     "output_type": "execute_result"
    }
   ],
   "source": [
    "player_bio_df.shape"
   ]
  },
  {
   "cell_type": "code",
   "execution_count": 38,
   "metadata": {},
   "outputs": [
    {
     "data": {
      "text/html": [
       "<div>\n",
       "<style scoped>\n",
       "    .dataframe tbody tr th:only-of-type {\n",
       "        vertical-align: middle;\n",
       "    }\n",
       "\n",
       "    .dataframe tbody tr th {\n",
       "        vertical-align: top;\n",
       "    }\n",
       "\n",
       "    .dataframe thead th {\n",
       "        text-align: right;\n",
       "    }\n",
       "</style>\n",
       "<table border=\"1\" class=\"dataframe\">\n",
       "  <thead>\n",
       "    <tr style=\"text-align: right;\">\n",
       "      <th></th>\n",
       "      <th>PLAYER_ID</th>\n",
       "      <th>PLAYER_NAME</th>\n",
       "      <th>TEAM_ID</th>\n",
       "      <th>TEAM_ABBREVIATION</th>\n",
       "      <th>AGE</th>\n",
       "      <th>PLAYER_HEIGHT</th>\n",
       "      <th>PLAYER_HEIGHT_INCHES</th>\n",
       "      <th>PLAYER_WEIGHT</th>\n",
       "      <th>COLLEGE</th>\n",
       "      <th>COUNTRY</th>\n",
       "      <th>...</th>\n",
       "      <th>PTS</th>\n",
       "      <th>REB</th>\n",
       "      <th>AST</th>\n",
       "      <th>NET_RATING</th>\n",
       "      <th>OREB_PCT</th>\n",
       "      <th>DREB_PCT</th>\n",
       "      <th>USG_PCT</th>\n",
       "      <th>TS_PCT</th>\n",
       "      <th>AST_PCT</th>\n",
       "      <th>SEASON_ID</th>\n",
       "    </tr>\n",
       "  </thead>\n",
       "  <tbody>\n",
       "    <tr>\n",
       "      <th>0</th>\n",
       "      <td>201166</td>\n",
       "      <td>Aaron Brooks</td>\n",
       "      <td>1610612741</td>\n",
       "      <td>CHI</td>\n",
       "      <td>31.0</td>\n",
       "      <td>6-0</td>\n",
       "      <td>72</td>\n",
       "      <td>161</td>\n",
       "      <td>Oregon</td>\n",
       "      <td>USA</td>\n",
       "      <td>...</td>\n",
       "      <td>7.1</td>\n",
       "      <td>1.5</td>\n",
       "      <td>2.6</td>\n",
       "      <td>0.0</td>\n",
       "      <td>0.018</td>\n",
       "      <td>0.068</td>\n",
       "      <td>0.225</td>\n",
       "      <td>0.494</td>\n",
       "      <td>0.265</td>\n",
       "      <td>2015-16</td>\n",
       "    </tr>\n",
       "    <tr>\n",
       "      <th>1</th>\n",
       "      <td>203932</td>\n",
       "      <td>Aaron Gordon</td>\n",
       "      <td>1610612753</td>\n",
       "      <td>ORL</td>\n",
       "      <td>20.0</td>\n",
       "      <td>6-9</td>\n",
       "      <td>81</td>\n",
       "      <td>220</td>\n",
       "      <td>Arizona</td>\n",
       "      <td>USA</td>\n",
       "      <td>...</td>\n",
       "      <td>9.2</td>\n",
       "      <td>6.5</td>\n",
       "      <td>1.6</td>\n",
       "      <td>-1.4</td>\n",
       "      <td>0.080</td>\n",
       "      <td>0.189</td>\n",
       "      <td>0.169</td>\n",
       "      <td>0.541</td>\n",
       "      <td>0.103</td>\n",
       "      <td>2015-16</td>\n",
       "    </tr>\n",
       "    <tr>\n",
       "      <th>2</th>\n",
       "      <td>1626151</td>\n",
       "      <td>Aaron Harrison</td>\n",
       "      <td>1610612766</td>\n",
       "      <td>CHA</td>\n",
       "      <td>21.0</td>\n",
       "      <td>6-6</td>\n",
       "      <td>78</td>\n",
       "      <td>210</td>\n",
       "      <td>Kentucky</td>\n",
       "      <td>USA</td>\n",
       "      <td>...</td>\n",
       "      <td>0.9</td>\n",
       "      <td>0.7</td>\n",
       "      <td>0.1</td>\n",
       "      <td>-3.4</td>\n",
       "      <td>0.045</td>\n",
       "      <td>0.112</td>\n",
       "      <td>0.132</td>\n",
       "      <td>0.371</td>\n",
       "      <td>0.033</td>\n",
       "      <td>2015-16</td>\n",
       "    </tr>\n",
       "    <tr>\n",
       "      <th>3</th>\n",
       "      <td>203940</td>\n",
       "      <td>Adreian Payne</td>\n",
       "      <td>1610612750</td>\n",
       "      <td>MIN</td>\n",
       "      <td>25.0</td>\n",
       "      <td>6-10</td>\n",
       "      <td>82</td>\n",
       "      <td>237</td>\n",
       "      <td>Michigan State</td>\n",
       "      <td>USA</td>\n",
       "      <td>...</td>\n",
       "      <td>2.5</td>\n",
       "      <td>2.1</td>\n",
       "      <td>0.6</td>\n",
       "      <td>-12.0</td>\n",
       "      <td>0.044</td>\n",
       "      <td>0.198</td>\n",
       "      <td>0.175</td>\n",
       "      <td>0.422</td>\n",
       "      <td>0.093</td>\n",
       "      <td>2015-16</td>\n",
       "    </tr>\n",
       "    <tr>\n",
       "      <th>4</th>\n",
       "      <td>201143</td>\n",
       "      <td>Al Horford</td>\n",
       "      <td>1610612737</td>\n",
       "      <td>ATL</td>\n",
       "      <td>30.0</td>\n",
       "      <td>6-10</td>\n",
       "      <td>82</td>\n",
       "      <td>245</td>\n",
       "      <td>Florida</td>\n",
       "      <td>Dominican Republic</td>\n",
       "      <td>...</td>\n",
       "      <td>15.2</td>\n",
       "      <td>7.3</td>\n",
       "      <td>3.2</td>\n",
       "      <td>4.2</td>\n",
       "      <td>0.056</td>\n",
       "      <td>0.158</td>\n",
       "      <td>0.202</td>\n",
       "      <td>0.565</td>\n",
       "      <td>0.165</td>\n",
       "      <td>2015-16</td>\n",
       "    </tr>\n",
       "  </tbody>\n",
       "</table>\n",
       "<p>5 rows × 24 columns</p>\n",
       "</div>"
      ],
      "text/plain": [
       "   PLAYER_ID     PLAYER_NAME     TEAM_ID TEAM_ABBREVIATION   AGE  \\\n",
       "0     201166    Aaron Brooks  1610612741               CHI  31.0   \n",
       "1     203932    Aaron Gordon  1610612753               ORL  20.0   \n",
       "2    1626151  Aaron Harrison  1610612766               CHA  21.0   \n",
       "3     203940   Adreian Payne  1610612750               MIN  25.0   \n",
       "4     201143      Al Horford  1610612737               ATL  30.0   \n",
       "\n",
       "  PLAYER_HEIGHT  PLAYER_HEIGHT_INCHES  PLAYER_WEIGHT         COLLEGE  \\\n",
       "0           6-0                    72            161          Oregon   \n",
       "1           6-9                    81            220         Arizona   \n",
       "2           6-6                    78            210        Kentucky   \n",
       "3          6-10                    82            237  Michigan State   \n",
       "4          6-10                    82            245         Florida   \n",
       "\n",
       "              COUNTRY  ...   PTS  REB  AST  NET_RATING  OREB_PCT  DREB_PCT  \\\n",
       "0                 USA  ...   7.1  1.5  2.6         0.0     0.018     0.068   \n",
       "1                 USA  ...   9.2  6.5  1.6        -1.4     0.080     0.189   \n",
       "2                 USA  ...   0.9  0.7  0.1        -3.4     0.045     0.112   \n",
       "3                 USA  ...   2.5  2.1  0.6       -12.0     0.044     0.198   \n",
       "4  Dominican Republic  ...  15.2  7.3  3.2         4.2     0.056     0.158   \n",
       "\n",
       "   USG_PCT  TS_PCT  AST_PCT  SEASON_ID  \n",
       "0    0.225   0.494    0.265    2015-16  \n",
       "1    0.169   0.541    0.103    2015-16  \n",
       "2    0.132   0.371    0.033    2015-16  \n",
       "3    0.175   0.422    0.093    2015-16  \n",
       "4    0.202   0.565    0.165    2015-16  \n",
       "\n",
       "[5 rows x 24 columns]"
      ]
     },
     "execution_count": 38,
     "metadata": {},
     "output_type": "execute_result"
    }
   ],
   "source": [
    "player_bio_df.head()"
   ]
  },
  {
   "cell_type": "code",
   "execution_count": 39,
   "metadata": {},
   "outputs": [
    {
     "data": {
      "text/plain": [
       "['PLAYER_ID',\n",
       " 'PLAYER_NAME',\n",
       " 'TEAM_ID',\n",
       " 'TEAM_ABBREVIATION',\n",
       " 'AGE',\n",
       " 'PLAYER_HEIGHT',\n",
       " 'PLAYER_HEIGHT_INCHES',\n",
       " 'PLAYER_WEIGHT',\n",
       " 'COLLEGE',\n",
       " 'COUNTRY',\n",
       " 'DRAFT_YEAR',\n",
       " 'DRAFT_ROUND',\n",
       " 'DRAFT_NUMBER',\n",
       " 'GP',\n",
       " 'PTS',\n",
       " 'REB',\n",
       " 'AST',\n",
       " 'NET_RATING',\n",
       " 'OREB_PCT',\n",
       " 'DREB_PCT',\n",
       " 'USG_PCT',\n",
       " 'TS_PCT',\n",
       " 'AST_PCT',\n",
       " 'SEASON_ID']"
      ]
     },
     "execution_count": 39,
     "metadata": {},
     "output_type": "execute_result"
    }
   ],
   "source": [
    "column_list = player_bio_df.columns.tolist()\n",
    "column_list"
   ]
  },
  {
   "cell_type": "code",
   "execution_count": 40,
   "metadata": {},
   "outputs": [
    {
     "data": {
      "text/html": [
       "<div>\n",
       "<style scoped>\n",
       "    .dataframe tbody tr th:only-of-type {\n",
       "        vertical-align: middle;\n",
       "    }\n",
       "\n",
       "    .dataframe tbody tr th {\n",
       "        vertical-align: top;\n",
       "    }\n",
       "\n",
       "    .dataframe thead th {\n",
       "        text-align: right;\n",
       "    }\n",
       "</style>\n",
       "<table border=\"1\" class=\"dataframe\">\n",
       "  <thead>\n",
       "    <tr style=\"text-align: right;\">\n",
       "      <th></th>\n",
       "      <th>PLAYER_HEIGHT</th>\n",
       "      <th>PLAYER_HEIGHT_INCHES</th>\n",
       "    </tr>\n",
       "  </thead>\n",
       "  <tbody>\n",
       "    <tr>\n",
       "      <th>0</th>\n",
       "      <td>6-0</td>\n",
       "      <td>72</td>\n",
       "    </tr>\n",
       "    <tr>\n",
       "      <th>1</th>\n",
       "      <td>6-9</td>\n",
       "      <td>81</td>\n",
       "    </tr>\n",
       "    <tr>\n",
       "      <th>2</th>\n",
       "      <td>6-6</td>\n",
       "      <td>78</td>\n",
       "    </tr>\n",
       "    <tr>\n",
       "      <th>3</th>\n",
       "      <td>6-10</td>\n",
       "      <td>82</td>\n",
       "    </tr>\n",
       "    <tr>\n",
       "      <th>4</th>\n",
       "      <td>6-10</td>\n",
       "      <td>82</td>\n",
       "    </tr>\n",
       "    <tr>\n",
       "      <th>...</th>\n",
       "      <td>...</td>\n",
       "      <td>...</td>\n",
       "    </tr>\n",
       "    <tr>\n",
       "      <th>4240</th>\n",
       "      <td>6-11</td>\n",
       "      <td>83</td>\n",
       "    </tr>\n",
       "    <tr>\n",
       "      <th>4241</th>\n",
       "      <td>6-5</td>\n",
       "      <td>77</td>\n",
       "    </tr>\n",
       "    <tr>\n",
       "      <th>4242</th>\n",
       "      <td>6-9</td>\n",
       "      <td>81</td>\n",
       "    </tr>\n",
       "    <tr>\n",
       "      <th>4243</th>\n",
       "      <td>6-9</td>\n",
       "      <td>81</td>\n",
       "    </tr>\n",
       "    <tr>\n",
       "      <th>4244</th>\n",
       "      <td>6-6</td>\n",
       "      <td>78</td>\n",
       "    </tr>\n",
       "  </tbody>\n",
       "</table>\n",
       "<p>4245 rows × 2 columns</p>\n",
       "</div>"
      ],
      "text/plain": [
       "     PLAYER_HEIGHT  PLAYER_HEIGHT_INCHES\n",
       "0              6-0                    72\n",
       "1              6-9                    81\n",
       "2              6-6                    78\n",
       "3             6-10                    82\n",
       "4             6-10                    82\n",
       "...            ...                   ...\n",
       "4240          6-11                    83\n",
       "4241           6-5                    77\n",
       "4242           6-9                    81\n",
       "4243           6-9                    81\n",
       "4244           6-6                    78\n",
       "\n",
       "[4245 rows x 2 columns]"
      ]
     },
     "execution_count": 40,
     "metadata": {},
     "output_type": "execute_result"
    }
   ],
   "source": [
    "player_bio_df[['PLAYER_HEIGHT','PLAYER_HEIGHT_INCHES']]"
   ]
  },
  {
   "cell_type": "code",
   "execution_count": 41,
   "metadata": {},
   "outputs": [
    {
     "data": {
      "text/plain": [
       "['COLLEGE', 'DRAFT_ROUND', 'DRAFT_NUMBER']"
      ]
     },
     "execution_count": 41,
     "metadata": {},
     "output_type": "execute_result"
    }
   ],
   "source": [
    "columns_with_null_values = player_bio_df.columns[player_bio_df.isna().any()].tolist()\n",
    "columns_with_null_values"
   ]
  },
  {
   "cell_type": "markdown",
   "metadata": {},
   "source": [
    "While it would be somewhat interesting to explore the predictive power of colleges on points scored, it is not necessary for my project, so I am going to drop it. I am also going to drop all of the columns with season averages, since a model would not have access to full season averages if it were making predictions in real time. I drop player height as well because of its redundancy with the height in inches columns. For the missing draft round and draft number, I replace those with zero to represent players who were undrafted."
   ]
  },
  {
   "cell_type": "code",
   "execution_count": 42,
   "metadata": {},
   "outputs": [],
   "source": [
    "cols_to_drop = ['COLLEGE', 'GP','PTS', 'REB', 'AST', 'NET_RATING', 'OREB_PCT', \n",
    "                'DREB_PCT', 'USG_PCT', 'TS_PCT', 'AST_PCT', 'PLAYER_HEIGHT']"
   ]
  },
  {
   "cell_type": "code",
   "execution_count": 43,
   "metadata": {},
   "outputs": [],
   "source": [
    "player_bio_df.drop(cols_to_drop,axis=1,inplace=True)"
   ]
  },
  {
   "cell_type": "code",
   "execution_count": 44,
   "metadata": {},
   "outputs": [
    {
     "data": {
      "text/plain": [
       "(4245, 12)"
      ]
     },
     "execution_count": 44,
     "metadata": {},
     "output_type": "execute_result"
    }
   ],
   "source": [
    "player_bio_df.shape"
   ]
  },
  {
   "cell_type": "code",
   "execution_count": 45,
   "metadata": {},
   "outputs": [
    {
     "data": {
      "text/html": [
       "<div>\n",
       "<style scoped>\n",
       "    .dataframe tbody tr th:only-of-type {\n",
       "        vertical-align: middle;\n",
       "    }\n",
       "\n",
       "    .dataframe tbody tr th {\n",
       "        vertical-align: top;\n",
       "    }\n",
       "\n",
       "    .dataframe thead th {\n",
       "        text-align: right;\n",
       "    }\n",
       "</style>\n",
       "<table border=\"1\" class=\"dataframe\">\n",
       "  <thead>\n",
       "    <tr style=\"text-align: right;\">\n",
       "      <th></th>\n",
       "      <th>PLAYER_ID</th>\n",
       "      <th>PLAYER_NAME</th>\n",
       "      <th>TEAM_ID</th>\n",
       "      <th>TEAM_ABBREVIATION</th>\n",
       "      <th>AGE</th>\n",
       "      <th>PLAYER_HEIGHT_INCHES</th>\n",
       "      <th>PLAYER_WEIGHT</th>\n",
       "      <th>COUNTRY</th>\n",
       "      <th>DRAFT_YEAR</th>\n",
       "      <th>DRAFT_ROUND</th>\n",
       "      <th>DRAFT_NUMBER</th>\n",
       "      <th>SEASON_ID</th>\n",
       "    </tr>\n",
       "  </thead>\n",
       "  <tbody>\n",
       "    <tr>\n",
       "      <th>425</th>\n",
       "      <td>204456</td>\n",
       "      <td>T.J. McConnell</td>\n",
       "      <td>1610612755</td>\n",
       "      <td>PHI</td>\n",
       "      <td>24.0</td>\n",
       "      <td>74</td>\n",
       "      <td>200</td>\n",
       "      <td>USA</td>\n",
       "      <td>2015</td>\n",
       "      <td>0</td>\n",
       "      <td>NaN</td>\n",
       "      <td>2015-16</td>\n",
       "    </tr>\n",
       "    <tr>\n",
       "      <th>472</th>\n",
       "      <td>204098</td>\n",
       "      <td>Xavier Munford</td>\n",
       "      <td>1610612763</td>\n",
       "      <td>MEM</td>\n",
       "      <td>24.0</td>\n",
       "      <td>75</td>\n",
       "      <td>180</td>\n",
       "      <td>USA</td>\n",
       "      <td>2014</td>\n",
       "      <td>NaN</td>\n",
       "      <td>NaN</td>\n",
       "      <td>2015-16</td>\n",
       "    </tr>\n",
       "    <tr>\n",
       "      <th>547</th>\n",
       "      <td>1626184</td>\n",
       "      <td>Chasson Randle</td>\n",
       "      <td>1610612752</td>\n",
       "      <td>NYK</td>\n",
       "      <td>24.0</td>\n",
       "      <td>74</td>\n",
       "      <td>185</td>\n",
       "      <td>USA</td>\n",
       "      <td>2015</td>\n",
       "      <td>NaN</td>\n",
       "      <td>NaN</td>\n",
       "      <td>2016-17</td>\n",
       "    </tr>\n",
       "    <tr>\n",
       "      <th>651</th>\n",
       "      <td>1627819</td>\n",
       "      <td>Isaiah Taylor</td>\n",
       "      <td>1610612745</td>\n",
       "      <td>HOU</td>\n",
       "      <td>22.0</td>\n",
       "      <td>75</td>\n",
       "      <td>170</td>\n",
       "      <td>USA</td>\n",
       "      <td>2016</td>\n",
       "      <td>NaN</td>\n",
       "      <td>NaN</td>\n",
       "      <td>2016-17</td>\n",
       "    </tr>\n",
       "    <tr>\n",
       "      <th>894</th>\n",
       "      <td>1627815</td>\n",
       "      <td>Sheldon Mac</td>\n",
       "      <td>1610612764</td>\n",
       "      <td>WAS</td>\n",
       "      <td>24.0</td>\n",
       "      <td>78</td>\n",
       "      <td>200</td>\n",
       "      <td>USA</td>\n",
       "      <td>2016</td>\n",
       "      <td>NaN</td>\n",
       "      <td>NaN</td>\n",
       "      <td>2016-17</td>\n",
       "    </tr>\n",
       "    <tr>\n",
       "      <th>...</th>\n",
       "      <td>...</td>\n",
       "      <td>...</td>\n",
       "      <td>...</td>\n",
       "      <td>...</td>\n",
       "      <td>...</td>\n",
       "      <td>...</td>\n",
       "      <td>...</td>\n",
       "      <td>...</td>\n",
       "      <td>...</td>\n",
       "      <td>...</td>\n",
       "      <td>...</td>\n",
       "      <td>...</td>\n",
       "    </tr>\n",
       "    <tr>\n",
       "      <th>3631</th>\n",
       "      <td>204456</td>\n",
       "      <td>T.J. McConnell</td>\n",
       "      <td>1610612754</td>\n",
       "      <td>IND</td>\n",
       "      <td>30.0</td>\n",
       "      <td>73</td>\n",
       "      <td>190</td>\n",
       "      <td>USA</td>\n",
       "      <td>2015</td>\n",
       "      <td>0</td>\n",
       "      <td>NaN</td>\n",
       "      <td>2021-22</td>\n",
       "    </tr>\n",
       "    <tr>\n",
       "      <th>3687</th>\n",
       "      <td>1627782</td>\n",
       "      <td>Wayne Selden</td>\n",
       "      <td>1610612752</td>\n",
       "      <td>NYK</td>\n",
       "      <td>27.0</td>\n",
       "      <td>76</td>\n",
       "      <td>232</td>\n",
       "      <td>USA</td>\n",
       "      <td>2016</td>\n",
       "      <td>NaN</td>\n",
       "      <td>NaN</td>\n",
       "      <td>2021-22</td>\n",
       "    </tr>\n",
       "    <tr>\n",
       "      <th>3882</th>\n",
       "      <td>1629312</td>\n",
       "      <td>Haywood Highsmith</td>\n",
       "      <td>1610612748</td>\n",
       "      <td>MIA</td>\n",
       "      <td>26.0</td>\n",
       "      <td>77</td>\n",
       "      <td>220</td>\n",
       "      <td>USA</td>\n",
       "      <td>2018</td>\n",
       "      <td>NaN</td>\n",
       "      <td>NaN</td>\n",
       "      <td>2022-23</td>\n",
       "    </tr>\n",
       "    <tr>\n",
       "      <th>4041</th>\n",
       "      <td>1629623</td>\n",
       "      <td>Lindell Wigginton</td>\n",
       "      <td>1610612749</td>\n",
       "      <td>MIL</td>\n",
       "      <td>25.0</td>\n",
       "      <td>73</td>\n",
       "      <td>189</td>\n",
       "      <td>Canada</td>\n",
       "      <td>2019</td>\n",
       "      <td>NaN</td>\n",
       "      <td>NaN</td>\n",
       "      <td>2022-23</td>\n",
       "    </tr>\n",
       "    <tr>\n",
       "      <th>4181</th>\n",
       "      <td>204456</td>\n",
       "      <td>T.J. McConnell</td>\n",
       "      <td>1610612754</td>\n",
       "      <td>IND</td>\n",
       "      <td>31.0</td>\n",
       "      <td>73</td>\n",
       "      <td>190</td>\n",
       "      <td>USA</td>\n",
       "      <td>2015</td>\n",
       "      <td>0</td>\n",
       "      <td>NaN</td>\n",
       "      <td>2022-23</td>\n",
       "    </tr>\n",
       "  </tbody>\n",
       "</table>\n",
       "<p>87 rows × 12 columns</p>\n",
       "</div>"
      ],
      "text/plain": [
       "      PLAYER_ID        PLAYER_NAME     TEAM_ID TEAM_ABBREVIATION   AGE  \\\n",
       "425      204456     T.J. McConnell  1610612755               PHI  24.0   \n",
       "472      204098     Xavier Munford  1610612763               MEM  24.0   \n",
       "547     1626184     Chasson Randle  1610612752               NYK  24.0   \n",
       "651     1627819      Isaiah Taylor  1610612745               HOU  22.0   \n",
       "894     1627815        Sheldon Mac  1610612764               WAS  24.0   \n",
       "...         ...                ...         ...               ...   ...   \n",
       "3631     204456     T.J. McConnell  1610612754               IND  30.0   \n",
       "3687    1627782       Wayne Selden  1610612752               NYK  27.0   \n",
       "3882    1629312  Haywood Highsmith  1610612748               MIA  26.0   \n",
       "4041    1629623  Lindell Wigginton  1610612749               MIL  25.0   \n",
       "4181     204456     T.J. McConnell  1610612754               IND  31.0   \n",
       "\n",
       "      PLAYER_HEIGHT_INCHES  PLAYER_WEIGHT COUNTRY DRAFT_YEAR DRAFT_ROUND  \\\n",
       "425                     74            200     USA       2015           0   \n",
       "472                     75            180     USA       2014         NaN   \n",
       "547                     74            185     USA       2015         NaN   \n",
       "651                     75            170     USA       2016         NaN   \n",
       "894                     78            200     USA       2016         NaN   \n",
       "...                    ...            ...     ...        ...         ...   \n",
       "3631                    73            190     USA       2015           0   \n",
       "3687                    76            232     USA       2016         NaN   \n",
       "3882                    77            220     USA       2018         NaN   \n",
       "4041                    73            189  Canada       2019         NaN   \n",
       "4181                    73            190     USA       2015           0   \n",
       "\n",
       "     DRAFT_NUMBER SEASON_ID  \n",
       "425           NaN   2015-16  \n",
       "472           NaN   2015-16  \n",
       "547           NaN   2016-17  \n",
       "651           NaN   2016-17  \n",
       "894           NaN   2016-17  \n",
       "...           ...       ...  \n",
       "3631          NaN   2021-22  \n",
       "3687          NaN   2021-22  \n",
       "3882          NaN   2022-23  \n",
       "4041          NaN   2022-23  \n",
       "4181          NaN   2022-23  \n",
       "\n",
       "[87 rows x 12 columns]"
      ]
     },
     "execution_count": 45,
     "metadata": {},
     "output_type": "execute_result"
    }
   ],
   "source": [
    "player_bio_df[player_bio_df.isna().any(axis=1)]"
   ]
  },
  {
   "cell_type": "markdown",
   "metadata": {},
   "source": [
    "As expected, the NaNs were for players who went undrafted. I replace the NaN values with zeroes to represent this numerically."
   ]
  },
  {
   "cell_type": "code",
   "execution_count": 46,
   "metadata": {},
   "outputs": [
    {
     "data": {
      "text/plain": [
       "DRAFT_ROUND  DRAFT_NUMBER\n",
       "Undrafted    Undrafted       921\n",
       "1            9               107\n",
       "             5               106\n",
       "             3               103\n",
       "             1               103\n",
       "                            ... \n",
       "2            57               13\n",
       "             54               13\n",
       "             53               13\n",
       "             59                6\n",
       "             30                3\n",
       "Name: count, Length: 63, dtype: int64"
      ]
     },
     "execution_count": 46,
     "metadata": {},
     "output_type": "execute_result"
    }
   ],
   "source": [
    "player_bio_df[['DRAFT_ROUND', 'DRAFT_NUMBER']].value_counts()"
   ]
  },
  {
   "cell_type": "markdown",
   "metadata": {},
   "source": [
    "The problem isn't just that there are null values. It's also that there is a string called undrafted. I am going to set that to 0 as well as both of them indicate undrafted players."
   ]
  },
  {
   "cell_type": "code",
   "execution_count": 47,
   "metadata": {},
   "outputs": [],
   "source": [
    "player_bio_df['DRAFT_ROUND'].fillna(0,inplace=True)"
   ]
  },
  {
   "cell_type": "code",
   "execution_count": 48,
   "metadata": {},
   "outputs": [],
   "source": [
    "player_bio_df['DRAFT_ROUND'] = player_bio_df['DRAFT_ROUND'].replace('Undrafted',0)"
   ]
  },
  {
   "cell_type": "code",
   "execution_count": 49,
   "metadata": {},
   "outputs": [],
   "source": [
    "player_bio_df['DRAFT_NUMBER'].fillna(0,inplace=True)"
   ]
  },
  {
   "cell_type": "code",
   "execution_count": 50,
   "metadata": {},
   "outputs": [],
   "source": [
    "player_bio_df['DRAFT_NUMBER'] = player_bio_df['DRAFT_NUMBER'].replace('Undrafted',0)"
   ]
  },
  {
   "cell_type": "code",
   "execution_count": 51,
   "metadata": {},
   "outputs": [
    {
     "data": {
      "text/plain": [
       "DRAFT_ROUND  DRAFT_NUMBER\n",
       "0            0               999\n",
       "1            9               107\n",
       "             5               106\n",
       "             1               103\n",
       "             3               103\n",
       "                            ... \n",
       "2            53               13\n",
       "             57               13\n",
       "0            0                 9\n",
       "2            59                6\n",
       "             30                3\n",
       "Name: count, Length: 64, dtype: int64"
      ]
     },
     "execution_count": 51,
     "metadata": {},
     "output_type": "execute_result"
    }
   ],
   "source": [
    "player_bio_df[['DRAFT_ROUND', 'DRAFT_NUMBER']].value_counts()"
   ]
  },
  {
   "cell_type": "code",
   "execution_count": 52,
   "metadata": {},
   "outputs": [
    {
     "data": {
      "text/html": [
       "<div>\n",
       "<style scoped>\n",
       "    .dataframe tbody tr th:only-of-type {\n",
       "        vertical-align: middle;\n",
       "    }\n",
       "\n",
       "    .dataframe tbody tr th {\n",
       "        vertical-align: top;\n",
       "    }\n",
       "\n",
       "    .dataframe thead th {\n",
       "        text-align: right;\n",
       "    }\n",
       "</style>\n",
       "<table border=\"1\" class=\"dataframe\">\n",
       "  <thead>\n",
       "    <tr style=\"text-align: right;\">\n",
       "      <th></th>\n",
       "      <th>PLAYER_ID</th>\n",
       "      <th>PLAYER_NAME</th>\n",
       "      <th>TEAM_ID</th>\n",
       "      <th>TEAM_ABBREVIATION</th>\n",
       "      <th>AGE</th>\n",
       "      <th>PLAYER_HEIGHT_INCHES</th>\n",
       "      <th>PLAYER_WEIGHT</th>\n",
       "      <th>COUNTRY</th>\n",
       "      <th>DRAFT_YEAR</th>\n",
       "      <th>DRAFT_ROUND</th>\n",
       "      <th>DRAFT_NUMBER</th>\n",
       "      <th>SEASON_ID</th>\n",
       "    </tr>\n",
       "  </thead>\n",
       "  <tbody>\n",
       "    <tr>\n",
       "      <th>0</th>\n",
       "      <td>201166</td>\n",
       "      <td>Aaron Brooks</td>\n",
       "      <td>1610612741</td>\n",
       "      <td>CHI</td>\n",
       "      <td>31.0</td>\n",
       "      <td>72</td>\n",
       "      <td>161</td>\n",
       "      <td>USA</td>\n",
       "      <td>2007</td>\n",
       "      <td>1</td>\n",
       "      <td>26</td>\n",
       "      <td>2015-16</td>\n",
       "    </tr>\n",
       "    <tr>\n",
       "      <th>1</th>\n",
       "      <td>203932</td>\n",
       "      <td>Aaron Gordon</td>\n",
       "      <td>1610612753</td>\n",
       "      <td>ORL</td>\n",
       "      <td>20.0</td>\n",
       "      <td>81</td>\n",
       "      <td>220</td>\n",
       "      <td>USA</td>\n",
       "      <td>2014</td>\n",
       "      <td>1</td>\n",
       "      <td>4</td>\n",
       "      <td>2015-16</td>\n",
       "    </tr>\n",
       "    <tr>\n",
       "      <th>2</th>\n",
       "      <td>1626151</td>\n",
       "      <td>Aaron Harrison</td>\n",
       "      <td>1610612766</td>\n",
       "      <td>CHA</td>\n",
       "      <td>21.0</td>\n",
       "      <td>78</td>\n",
       "      <td>210</td>\n",
       "      <td>USA</td>\n",
       "      <td>Undrafted</td>\n",
       "      <td>0</td>\n",
       "      <td>0</td>\n",
       "      <td>2015-16</td>\n",
       "    </tr>\n",
       "    <tr>\n",
       "      <th>3</th>\n",
       "      <td>203940</td>\n",
       "      <td>Adreian Payne</td>\n",
       "      <td>1610612750</td>\n",
       "      <td>MIN</td>\n",
       "      <td>25.0</td>\n",
       "      <td>82</td>\n",
       "      <td>237</td>\n",
       "      <td>USA</td>\n",
       "      <td>2014</td>\n",
       "      <td>1</td>\n",
       "      <td>15</td>\n",
       "      <td>2015-16</td>\n",
       "    </tr>\n",
       "    <tr>\n",
       "      <th>4</th>\n",
       "      <td>201143</td>\n",
       "      <td>Al Horford</td>\n",
       "      <td>1610612737</td>\n",
       "      <td>ATL</td>\n",
       "      <td>30.0</td>\n",
       "      <td>82</td>\n",
       "      <td>245</td>\n",
       "      <td>Dominican Republic</td>\n",
       "      <td>2007</td>\n",
       "      <td>1</td>\n",
       "      <td>3</td>\n",
       "      <td>2015-16</td>\n",
       "    </tr>\n",
       "  </tbody>\n",
       "</table>\n",
       "</div>"
      ],
      "text/plain": [
       "   PLAYER_ID     PLAYER_NAME     TEAM_ID TEAM_ABBREVIATION   AGE  \\\n",
       "0     201166    Aaron Brooks  1610612741               CHI  31.0   \n",
       "1     203932    Aaron Gordon  1610612753               ORL  20.0   \n",
       "2    1626151  Aaron Harrison  1610612766               CHA  21.0   \n",
       "3     203940   Adreian Payne  1610612750               MIN  25.0   \n",
       "4     201143      Al Horford  1610612737               ATL  30.0   \n",
       "\n",
       "   PLAYER_HEIGHT_INCHES  PLAYER_WEIGHT             COUNTRY DRAFT_YEAR  \\\n",
       "0                    72            161                 USA       2007   \n",
       "1                    81            220                 USA       2014   \n",
       "2                    78            210                 USA  Undrafted   \n",
       "3                    82            237                 USA       2014   \n",
       "4                    82            245  Dominican Republic       2007   \n",
       "\n",
       "  DRAFT_ROUND DRAFT_NUMBER SEASON_ID  \n",
       "0           1           26   2015-16  \n",
       "1           1            4   2015-16  \n",
       "2           0            0   2015-16  \n",
       "3           1           15   2015-16  \n",
       "4           1            3   2015-16  "
      ]
     },
     "execution_count": 52,
     "metadata": {},
     "output_type": "execute_result"
    }
   ],
   "source": [
    "player_bio_df.head()"
   ]
  },
  {
   "cell_type": "markdown",
   "metadata": {},
   "source": [
    "Draft Year has some Undrafted strings as well."
   ]
  },
  {
   "cell_type": "code",
   "execution_count": 53,
   "metadata": {},
   "outputs": [
    {
     "name": "stdout",
     "output_type": "stream",
     "text": [
      "<class 'pandas.core.frame.DataFrame'>\n",
      "RangeIndex: 4245 entries, 0 to 4244\n",
      "Data columns (total 12 columns):\n",
      " #   Column                Non-Null Count  Dtype  \n",
      "---  ------                --------------  -----  \n",
      " 0   PLAYER_ID             4245 non-null   int64  \n",
      " 1   PLAYER_NAME           4245 non-null   object \n",
      " 2   TEAM_ID               4245 non-null   int64  \n",
      " 3   TEAM_ABBREVIATION     4245 non-null   object \n",
      " 4   AGE                   4245 non-null   float64\n",
      " 5   PLAYER_HEIGHT_INCHES  4245 non-null   int64  \n",
      " 6   PLAYER_WEIGHT         4245 non-null   int64  \n",
      " 7   COUNTRY               4245 non-null   object \n",
      " 8   DRAFT_YEAR            4245 non-null   object \n",
      " 9   DRAFT_ROUND           4245 non-null   object \n",
      " 10  DRAFT_NUMBER          4245 non-null   object \n",
      " 11  SEASON_ID             4245 non-null   object \n",
      "dtypes: float64(1), int64(4), object(7)\n",
      "memory usage: 398.1+ KB\n"
     ]
    }
   ],
   "source": [
    "player_bio_df.info()"
   ]
  },
  {
   "cell_type": "code",
   "execution_count": 54,
   "metadata": {},
   "outputs": [],
   "source": [
    "player_bio_df['DRAFT_YEAR'] = player_bio_df['DRAFT_YEAR'].replace('Undrafted',0)"
   ]
  },
  {
   "cell_type": "code",
   "execution_count": 55,
   "metadata": {},
   "outputs": [],
   "source": [
    "player_bio_df[['DRAFT_YEAR','DRAFT_ROUND','DRAFT_NUMBER']] = player_bio_df[['DRAFT_YEAR','DRAFT_ROUND','DRAFT_NUMBER']].astype(int)"
   ]
  },
  {
   "cell_type": "code",
   "execution_count": 56,
   "metadata": {},
   "outputs": [
    {
     "name": "stdout",
     "output_type": "stream",
     "text": [
      "<class 'pandas.core.frame.DataFrame'>\n",
      "RangeIndex: 4245 entries, 0 to 4244\n",
      "Data columns (total 12 columns):\n",
      " #   Column                Non-Null Count  Dtype  \n",
      "---  ------                --------------  -----  \n",
      " 0   PLAYER_ID             4245 non-null   int64  \n",
      " 1   PLAYER_NAME           4245 non-null   object \n",
      " 2   TEAM_ID               4245 non-null   int64  \n",
      " 3   TEAM_ABBREVIATION     4245 non-null   object \n",
      " 4   AGE                   4245 non-null   float64\n",
      " 5   PLAYER_HEIGHT_INCHES  4245 non-null   int64  \n",
      " 6   PLAYER_WEIGHT         4245 non-null   int64  \n",
      " 7   COUNTRY               4245 non-null   object \n",
      " 8   DRAFT_YEAR            4245 non-null   int32  \n",
      " 9   DRAFT_ROUND           4245 non-null   int32  \n",
      " 10  DRAFT_NUMBER          4245 non-null   int32  \n",
      " 11  SEASON_ID             4245 non-null   object \n",
      "dtypes: float64(1), int32(3), int64(4), object(4)\n",
      "memory usage: 348.3+ KB\n"
     ]
    }
   ],
   "source": [
    "player_bio_df.info()"
   ]
  },
  {
   "cell_type": "code",
   "execution_count": 57,
   "metadata": {},
   "outputs": [
    {
     "data": {
      "text/plain": [
       "[]"
      ]
     },
     "execution_count": 57,
     "metadata": {},
     "output_type": "execute_result"
    }
   ],
   "source": [
    "columns_with_null_values = player_bio_df.columns[player_bio_df.isna().any()].tolist()\n",
    "columns_with_null_values"
   ]
  },
  {
   "cell_type": "code",
   "execution_count": 58,
   "metadata": {},
   "outputs": [
    {
     "data": {
      "text/html": [
       "<div>\n",
       "<style scoped>\n",
       "    .dataframe tbody tr th:only-of-type {\n",
       "        vertical-align: middle;\n",
       "    }\n",
       "\n",
       "    .dataframe tbody tr th {\n",
       "        vertical-align: top;\n",
       "    }\n",
       "\n",
       "    .dataframe thead th {\n",
       "        text-align: right;\n",
       "    }\n",
       "</style>\n",
       "<table border=\"1\" class=\"dataframe\">\n",
       "  <thead>\n",
       "    <tr style=\"text-align: right;\">\n",
       "      <th></th>\n",
       "      <th>PLAYER_ID</th>\n",
       "      <th>PLAYER_NAME</th>\n",
       "      <th>TEAM_ID</th>\n",
       "      <th>TEAM_ABBREVIATION</th>\n",
       "      <th>AGE</th>\n",
       "      <th>PLAYER_HEIGHT_INCHES</th>\n",
       "      <th>PLAYER_WEIGHT</th>\n",
       "      <th>COUNTRY</th>\n",
       "      <th>DRAFT_YEAR</th>\n",
       "      <th>DRAFT_ROUND</th>\n",
       "      <th>DRAFT_NUMBER</th>\n",
       "      <th>SEASON_ID</th>\n",
       "    </tr>\n",
       "  </thead>\n",
       "  <tbody>\n",
       "    <tr>\n",
       "      <th>0</th>\n",
       "      <td>201166</td>\n",
       "      <td>Aaron Brooks</td>\n",
       "      <td>1610612741</td>\n",
       "      <td>CHI</td>\n",
       "      <td>31.0</td>\n",
       "      <td>72</td>\n",
       "      <td>161</td>\n",
       "      <td>USA</td>\n",
       "      <td>2007</td>\n",
       "      <td>1</td>\n",
       "      <td>26</td>\n",
       "      <td>2015-16</td>\n",
       "    </tr>\n",
       "    <tr>\n",
       "      <th>1</th>\n",
       "      <td>203932</td>\n",
       "      <td>Aaron Gordon</td>\n",
       "      <td>1610612753</td>\n",
       "      <td>ORL</td>\n",
       "      <td>20.0</td>\n",
       "      <td>81</td>\n",
       "      <td>220</td>\n",
       "      <td>USA</td>\n",
       "      <td>2014</td>\n",
       "      <td>1</td>\n",
       "      <td>4</td>\n",
       "      <td>2015-16</td>\n",
       "    </tr>\n",
       "    <tr>\n",
       "      <th>2</th>\n",
       "      <td>1626151</td>\n",
       "      <td>Aaron Harrison</td>\n",
       "      <td>1610612766</td>\n",
       "      <td>CHA</td>\n",
       "      <td>21.0</td>\n",
       "      <td>78</td>\n",
       "      <td>210</td>\n",
       "      <td>USA</td>\n",
       "      <td>0</td>\n",
       "      <td>0</td>\n",
       "      <td>0</td>\n",
       "      <td>2015-16</td>\n",
       "    </tr>\n",
       "    <tr>\n",
       "      <th>3</th>\n",
       "      <td>203940</td>\n",
       "      <td>Adreian Payne</td>\n",
       "      <td>1610612750</td>\n",
       "      <td>MIN</td>\n",
       "      <td>25.0</td>\n",
       "      <td>82</td>\n",
       "      <td>237</td>\n",
       "      <td>USA</td>\n",
       "      <td>2014</td>\n",
       "      <td>1</td>\n",
       "      <td>15</td>\n",
       "      <td>2015-16</td>\n",
       "    </tr>\n",
       "    <tr>\n",
       "      <th>4</th>\n",
       "      <td>201143</td>\n",
       "      <td>Al Horford</td>\n",
       "      <td>1610612737</td>\n",
       "      <td>ATL</td>\n",
       "      <td>30.0</td>\n",
       "      <td>82</td>\n",
       "      <td>245</td>\n",
       "      <td>Dominican Republic</td>\n",
       "      <td>2007</td>\n",
       "      <td>1</td>\n",
       "      <td>3</td>\n",
       "      <td>2015-16</td>\n",
       "    </tr>\n",
       "    <tr>\n",
       "      <th>5</th>\n",
       "      <td>2744</td>\n",
       "      <td>Al Jefferson</td>\n",
       "      <td>1610612766</td>\n",
       "      <td>CHA</td>\n",
       "      <td>31.0</td>\n",
       "      <td>82</td>\n",
       "      <td>289</td>\n",
       "      <td>USA</td>\n",
       "      <td>2004</td>\n",
       "      <td>1</td>\n",
       "      <td>15</td>\n",
       "      <td>2015-16</td>\n",
       "    </tr>\n",
       "    <tr>\n",
       "      <th>6</th>\n",
       "      <td>202329</td>\n",
       "      <td>Al-Farouq Aminu</td>\n",
       "      <td>1610612757</td>\n",
       "      <td>POR</td>\n",
       "      <td>25.0</td>\n",
       "      <td>81</td>\n",
       "      <td>215</td>\n",
       "      <td>USA</td>\n",
       "      <td>2010</td>\n",
       "      <td>1</td>\n",
       "      <td>8</td>\n",
       "      <td>2015-16</td>\n",
       "    </tr>\n",
       "    <tr>\n",
       "      <th>7</th>\n",
       "      <td>101187</td>\n",
       "      <td>Alan Anderson</td>\n",
       "      <td>1610612764</td>\n",
       "      <td>WAS</td>\n",
       "      <td>33.0</td>\n",
       "      <td>78</td>\n",
       "      <td>220</td>\n",
       "      <td>USA</td>\n",
       "      <td>0</td>\n",
       "      <td>0</td>\n",
       "      <td>0</td>\n",
       "      <td>2015-16</td>\n",
       "    </tr>\n",
       "    <tr>\n",
       "      <th>8</th>\n",
       "      <td>1626210</td>\n",
       "      <td>Alan Williams</td>\n",
       "      <td>1610612756</td>\n",
       "      <td>PHX</td>\n",
       "      <td>23.0</td>\n",
       "      <td>80</td>\n",
       "      <td>260</td>\n",
       "      <td>USA</td>\n",
       "      <td>0</td>\n",
       "      <td>0</td>\n",
       "      <td>0</td>\n",
       "      <td>2015-16</td>\n",
       "    </tr>\n",
       "    <tr>\n",
       "      <th>9</th>\n",
       "      <td>202692</td>\n",
       "      <td>Alec Burks</td>\n",
       "      <td>1610612762</td>\n",
       "      <td>UTA</td>\n",
       "      <td>24.0</td>\n",
       "      <td>78</td>\n",
       "      <td>214</td>\n",
       "      <td>USA</td>\n",
       "      <td>2011</td>\n",
       "      <td>1</td>\n",
       "      <td>12</td>\n",
       "      <td>2015-16</td>\n",
       "    </tr>\n",
       "  </tbody>\n",
       "</table>\n",
       "</div>"
      ],
      "text/plain": [
       "   PLAYER_ID      PLAYER_NAME     TEAM_ID TEAM_ABBREVIATION   AGE  \\\n",
       "0     201166     Aaron Brooks  1610612741               CHI  31.0   \n",
       "1     203932     Aaron Gordon  1610612753               ORL  20.0   \n",
       "2    1626151   Aaron Harrison  1610612766               CHA  21.0   \n",
       "3     203940    Adreian Payne  1610612750               MIN  25.0   \n",
       "4     201143       Al Horford  1610612737               ATL  30.0   \n",
       "5       2744     Al Jefferson  1610612766               CHA  31.0   \n",
       "6     202329  Al-Farouq Aminu  1610612757               POR  25.0   \n",
       "7     101187    Alan Anderson  1610612764               WAS  33.0   \n",
       "8    1626210    Alan Williams  1610612756               PHX  23.0   \n",
       "9     202692       Alec Burks  1610612762               UTA  24.0   \n",
       "\n",
       "   PLAYER_HEIGHT_INCHES  PLAYER_WEIGHT             COUNTRY  DRAFT_YEAR  \\\n",
       "0                    72            161                 USA        2007   \n",
       "1                    81            220                 USA        2014   \n",
       "2                    78            210                 USA           0   \n",
       "3                    82            237                 USA        2014   \n",
       "4                    82            245  Dominican Republic        2007   \n",
       "5                    82            289                 USA        2004   \n",
       "6                    81            215                 USA        2010   \n",
       "7                    78            220                 USA           0   \n",
       "8                    80            260                 USA           0   \n",
       "9                    78            214                 USA        2011   \n",
       "\n",
       "   DRAFT_ROUND  DRAFT_NUMBER SEASON_ID  \n",
       "0            1            26   2015-16  \n",
       "1            1             4   2015-16  \n",
       "2            0             0   2015-16  \n",
       "3            1            15   2015-16  \n",
       "4            1             3   2015-16  \n",
       "5            1            15   2015-16  \n",
       "6            1             8   2015-16  \n",
       "7            0             0   2015-16  \n",
       "8            0             0   2015-16  \n",
       "9            1            12   2015-16  "
      ]
     },
     "execution_count": 58,
     "metadata": {},
     "output_type": "execute_result"
    }
   ],
   "source": [
    "player_bio_df.head(10)"
   ]
  },
  {
   "cell_type": "markdown",
   "metadata": {},
   "source": [
    "Everything looks good. I am going to create a new id that concatenates player and season id, labels the bio columns as such and then move on to merging the dataframes together."
   ]
  },
  {
   "cell_type": "code",
   "execution_count": 59,
   "metadata": {},
   "outputs": [],
   "source": [
    "player_bio_df['PLAYER_SEASON_ID'] = player_bio_df['PLAYER_ID'].astype(str) + player_bio_df['SEASON_ID'].astype(str)"
   ]
  },
  {
   "cell_type": "code",
   "execution_count": 60,
   "metadata": {},
   "outputs": [],
   "source": [
    "player_bio_df.columns = player_bio_df.columns[:4].tolist() + ['BIO_' + column for column in player_bio_df.columns[4:]]"
   ]
  },
  {
   "cell_type": "code",
   "execution_count": 61,
   "metadata": {},
   "outputs": [
    {
     "data": {
      "text/plain": [
       "Index(['PLAYER_ID', 'PLAYER_NAME', 'TEAM_ID', 'TEAM_ABBREVIATION', 'BIO_AGE',\n",
       "       'BIO_PLAYER_HEIGHT_INCHES', 'BIO_PLAYER_WEIGHT', 'BIO_COUNTRY',\n",
       "       'BIO_DRAFT_YEAR', 'BIO_DRAFT_ROUND', 'BIO_DRAFT_NUMBER',\n",
       "       'BIO_SEASON_ID', 'BIO_PLAYER_SEASON_ID'],\n",
       "      dtype='object')"
      ]
     },
     "execution_count": 61,
     "metadata": {},
     "output_type": "execute_result"
    }
   ],
   "source": [
    "player_bio_df.columns"
   ]
  },
  {
   "cell_type": "markdown",
   "metadata": {},
   "source": [
    "## Merging Data into a Single Dataframe"
   ]
  },
  {
   "cell_type": "markdown",
   "metadata": {},
   "source": [
    "First, I add a team game ID column to the player box score dataframe so that the merge can occur."
   ]
  },
  {
   "cell_type": "code",
   "execution_count": 62,
   "metadata": {},
   "outputs": [],
   "source": [
    "player_box_df['TEAM_GAME_ID'] = player_box_df['TEAM_ID'].astype(str) + player_box_df['GAME_ID'].astype(str)"
   ]
  },
  {
   "cell_type": "code",
   "execution_count": 64,
   "metadata": {},
   "outputs": [
    {
     "data": {
      "text/plain": [
       "0         2015-16\n",
       "1         2015-16\n",
       "2         2015-16\n",
       "3         2015-16\n",
       "4         2015-16\n",
       "           ...   \n",
       "201800    2022-23\n",
       "201801    2022-23\n",
       "201802    2022-23\n",
       "201803    2022-23\n",
       "201804    2022-23\n",
       "Name: SEASON_YEAR, Length: 201805, dtype: object"
      ]
     },
     "execution_count": 64,
     "metadata": {},
     "output_type": "execute_result"
    }
   ],
   "source": [
    "player_box_df['SEASON_YEAR']"
   ]
  },
  {
   "cell_type": "code",
   "execution_count": 65,
   "metadata": {},
   "outputs": [],
   "source": [
    "player_box_df['PLAYER_SEASON_ID'] = player_box_df['PLAYER_ID'].astype(str) +  player_box_df['SEASON_YEAR'].astype(str)"
   ]
  },
  {
   "cell_type": "code",
   "execution_count": 66,
   "metadata": {},
   "outputs": [
    {
     "data": {
      "text/plain": [
       "(201805, 105)"
      ]
     },
     "execution_count": 66,
     "metadata": {},
     "output_type": "execute_result"
    }
   ],
   "source": [
    "player_box_df.shape"
   ]
  },
  {
   "cell_type": "code",
   "execution_count": 71,
   "metadata": {},
   "outputs": [
    {
     "data": {
      "text/plain": [
       "['SEASON_ID',\n",
       " 'PLAYER_ID',\n",
       " 'PLAYER_NAME',\n",
       " 'TEAM_ID',\n",
       " 'TEAM_ABBREVIATION',\n",
       " 'TEAM_NAME',\n",
       " 'GAME_ID',\n",
       " 'GAME_DATE',\n",
       " 'MATCHUP',\n",
       " 'WL',\n",
       " 'MIN',\n",
       " 'FGM',\n",
       " 'FGA',\n",
       " 'FG_PCT',\n",
       " 'FG3M',\n",
       " 'FG3A',\n",
       " 'FG3_PCT',\n",
       " 'FTM',\n",
       " 'FTA',\n",
       " 'FT_PCT',\n",
       " 'OREB',\n",
       " 'DREB',\n",
       " 'REB',\n",
       " 'AST',\n",
       " 'STL',\n",
       " 'BLK',\n",
       " 'TOV',\n",
       " 'PF',\n",
       " 'PTS',\n",
       " 'PLUS_MINUS',\n",
       " 'PLAYER_GAME_ID',\n",
       " 'AST_PCT',\n",
       " 'AST_RATIO',\n",
       " 'AST_TO',\n",
       " 'DEF_RATING',\n",
       " 'DREB_PCT',\n",
       " 'EFG_PCT',\n",
       " 'E_DEF_RATING',\n",
       " 'E_NET_RATING',\n",
       " 'E_OFF_RATING',\n",
       " 'E_PACE',\n",
       " 'E_TOV_PCT',\n",
       " 'E_USG_PCT',\n",
       " 'FGA_PG',\n",
       " 'FGM_PG',\n",
       " 'NET_RATING',\n",
       " 'OFF_RATING',\n",
       " 'OREB_PCT',\n",
       " 'PACE',\n",
       " 'PACE_PER40',\n",
       " 'PIE',\n",
       " 'POSS',\n",
       " 'REB_PCT',\n",
       " 'SEASON_YEAR',\n",
       " 'TM_TOV_PCT',\n",
       " 'TS_PCT',\n",
       " 'USG_PCT',\n",
       " 'sp_work_DEF_RATING',\n",
       " 'sp_work_NET_RATING',\n",
       " 'sp_work_OFF_RATING',\n",
       " 'sp_work_PACE',\n",
       " 'BLKA',\n",
       " 'OPP_PTS_2ND_CHANCE',\n",
       " 'OPP_PTS_FB',\n",
       " 'OPP_PTS_OFF_TOV',\n",
       " 'OPP_PTS_PAINT',\n",
       " 'PFD',\n",
       " 'PTS_2ND_CHANCE',\n",
       " 'PTS_FB',\n",
       " 'PTS_OFF_TOV',\n",
       " 'PTS_PAINT',\n",
       " 'PCT_AST_2PM',\n",
       " 'PCT_AST_3PM',\n",
       " 'PCT_AST_FGM',\n",
       " 'PCT_FGA_2PT',\n",
       " 'PCT_FGA_3PT',\n",
       " 'PCT_PTS_2PT',\n",
       " 'PCT_PTS_2PT_MR',\n",
       " 'PCT_PTS_3PT',\n",
       " 'PCT_PTS_FB',\n",
       " 'PCT_PTS_FT',\n",
       " 'PCT_PTS_OFF_TOV',\n",
       " 'PCT_PTS_PAINT',\n",
       " 'PCT_UAST_2PM',\n",
       " 'PCT_UAST_3PM',\n",
       " 'PCT_UAST_FGM',\n",
       " 'PCT_AST',\n",
       " 'PCT_BLK',\n",
       " 'PCT_BLKA',\n",
       " 'PCT_DREB',\n",
       " 'PCT_FG3A',\n",
       " 'PCT_FG3M',\n",
       " 'PCT_FGA',\n",
       " 'PCT_FGM',\n",
       " 'PCT_FTA',\n",
       " 'PCT_FTM',\n",
       " 'PCT_OREB',\n",
       " 'PCT_PF',\n",
       " 'PCT_PFD',\n",
       " 'PCT_PTS',\n",
       " 'PCT_REB',\n",
       " 'PCT_STL',\n",
       " 'PCT_TOV',\n",
       " 'TEAM_GAME_ID',\n",
       " 'PLAYER_SEASON_ID']"
      ]
     },
     "execution_count": 71,
     "metadata": {},
     "output_type": "execute_result"
    }
   ],
   "source": [
    "cols = player_box_df.columns.tolist()\n",
    "cols"
   ]
  },
  {
   "cell_type": "markdown",
   "metadata": {},
   "source": [
    "First, I merge together the player box score df and the team box score df."
   ]
  },
  {
   "cell_type": "code",
   "execution_count": 68,
   "metadata": {},
   "outputs": [],
   "source": [
    "merged_df = pd.merge(player_box_df,team_box_df,on='TEAM_GAME_ID',how='left')"
   ]
  },
  {
   "cell_type": "code",
   "execution_count": 69,
   "metadata": {},
   "outputs": [
    {
     "data": {
      "text/plain": [
       "(201805, 183)"
      ]
     },
     "execution_count": 69,
     "metadata": {},
     "output_type": "execute_result"
    }
   ],
   "source": [
    "merged_df.shape"
   ]
  },
  {
   "cell_type": "markdown",
   "metadata": {},
   "source": [
    "Next, I merge together the merged df with the player bio df."
   ]
  },
  {
   "cell_type": "code",
   "execution_count": 76,
   "metadata": {},
   "outputs": [],
   "source": [
    "merged_df = pd.merge(merged_df,player_bio_df,left_on='PLAYER_SEASON_ID',right_on='BIO_PLAYER_SEASON_ID',how='left')"
   ]
  },
  {
   "cell_type": "code",
   "execution_count": 77,
   "metadata": {},
   "outputs": [
    {
     "data": {
      "text/plain": [
       "[]"
      ]
     },
     "execution_count": 77,
     "metadata": {},
     "output_type": "execute_result"
    }
   ],
   "source": [
    "columns_with_null_values = merged_df.columns[merged_df.isna().any()].tolist()\n",
    "columns_with_null_values"
   ]
  },
  {
   "cell_type": "code",
   "execution_count": 78,
   "metadata": {},
   "outputs": [
    {
     "data": {
      "text/plain": [
       "['SEASON_ID',\n",
       " 'PLAYER_ID_x',\n",
       " 'PLAYER_NAME_x',\n",
       " 'TEAM_ID_x',\n",
       " 'TEAM_ABBREVIATION_x',\n",
       " 'TEAM_NAME_x',\n",
       " 'GAME_ID_x',\n",
       " 'GAME_DATE_x',\n",
       " 'MATCHUP_x',\n",
       " 'WL',\n",
       " 'MIN',\n",
       " 'FGM',\n",
       " 'FGA',\n",
       " 'FG_PCT',\n",
       " 'FG3M',\n",
       " 'FG3A',\n",
       " 'FG3_PCT',\n",
       " 'FTM',\n",
       " 'FTA',\n",
       " 'FT_PCT',\n",
       " 'OREB',\n",
       " 'DREB',\n",
       " 'REB',\n",
       " 'AST',\n",
       " 'STL',\n",
       " 'BLK',\n",
       " 'TOV',\n",
       " 'PF',\n",
       " 'PTS',\n",
       " 'PLUS_MINUS',\n",
       " 'PLAYER_GAME_ID',\n",
       " 'AST_PCT',\n",
       " 'AST_RATIO',\n",
       " 'AST_TO',\n",
       " 'DEF_RATING',\n",
       " 'DREB_PCT',\n",
       " 'EFG_PCT',\n",
       " 'E_DEF_RATING',\n",
       " 'E_NET_RATING',\n",
       " 'E_OFF_RATING',\n",
       " 'E_PACE',\n",
       " 'E_TOV_PCT',\n",
       " 'E_USG_PCT',\n",
       " 'FGA_PG',\n",
       " 'FGM_PG',\n",
       " 'NET_RATING',\n",
       " 'OFF_RATING',\n",
       " 'OREB_PCT',\n",
       " 'PACE',\n",
       " 'PACE_PER40',\n",
       " 'PIE',\n",
       " 'POSS',\n",
       " 'REB_PCT',\n",
       " 'SEASON_YEAR_x',\n",
       " 'TM_TOV_PCT',\n",
       " 'TS_PCT',\n",
       " 'USG_PCT',\n",
       " 'sp_work_DEF_RATING',\n",
       " 'sp_work_NET_RATING',\n",
       " 'sp_work_OFF_RATING',\n",
       " 'sp_work_PACE',\n",
       " 'BLKA',\n",
       " 'OPP_PTS_2ND_CHANCE',\n",
       " 'OPP_PTS_FB',\n",
       " 'OPP_PTS_OFF_TOV',\n",
       " 'OPP_PTS_PAINT',\n",
       " 'PFD',\n",
       " 'PTS_2ND_CHANCE',\n",
       " 'PTS_FB',\n",
       " 'PTS_OFF_TOV',\n",
       " 'PTS_PAINT',\n",
       " 'PCT_AST_2PM',\n",
       " 'PCT_AST_3PM',\n",
       " 'PCT_AST_FGM',\n",
       " 'PCT_FGA_2PT',\n",
       " 'PCT_FGA_3PT',\n",
       " 'PCT_PTS_2PT',\n",
       " 'PCT_PTS_2PT_MR',\n",
       " 'PCT_PTS_3PT',\n",
       " 'PCT_PTS_FB',\n",
       " 'PCT_PTS_FT',\n",
       " 'PCT_PTS_OFF_TOV',\n",
       " 'PCT_PTS_PAINT',\n",
       " 'PCT_UAST_2PM',\n",
       " 'PCT_UAST_3PM',\n",
       " 'PCT_UAST_FGM',\n",
       " 'PCT_AST',\n",
       " 'PCT_BLK',\n",
       " 'PCT_BLKA',\n",
       " 'PCT_DREB',\n",
       " 'PCT_FG3A',\n",
       " 'PCT_FG3M',\n",
       " 'PCT_FGA',\n",
       " 'PCT_FGM',\n",
       " 'PCT_FTA',\n",
       " 'PCT_FTM',\n",
       " 'PCT_OREB',\n",
       " 'PCT_PF',\n",
       " 'PCT_PFD',\n",
       " 'PCT_PTS',\n",
       " 'PCT_REB',\n",
       " 'PCT_STL',\n",
       " 'PCT_TOV',\n",
       " 'TEAM_GAME_ID',\n",
       " 'PLAYER_SEASON_ID',\n",
       " 'SEASON_YEAR_y',\n",
       " 'TEAM_ID_y',\n",
       " 'TEAM_ABBREVIATION_y',\n",
       " 'TEAM_NAME_y',\n",
       " 'GAME_ID_y',\n",
       " 'GAME_DATE_y',\n",
       " 'MATCHUP_y',\n",
       " 'TEAM_WL',\n",
       " 'TEAM_MIN',\n",
       " 'TEAM_FGM',\n",
       " 'TEAM_FGA',\n",
       " 'TEAM_FG_PCT',\n",
       " 'TEAM_FG3M',\n",
       " 'TEAM_FG3A',\n",
       " 'TEAM_FG3_PCT',\n",
       " 'TEAM_FTM',\n",
       " 'TEAM_FTA',\n",
       " 'TEAM_FT_PCT',\n",
       " 'TEAM_OREB',\n",
       " 'TEAM_DREB',\n",
       " 'TEAM_REB',\n",
       " 'TEAM_AST',\n",
       " 'TEAM_TOV',\n",
       " 'TEAM_STL',\n",
       " 'TEAM_BLK',\n",
       " 'TEAM_BLKA',\n",
       " 'TEAM_PF',\n",
       " 'TEAM_PFD',\n",
       " 'TEAM_PTS',\n",
       " 'TEAM_PLUS_MINUS',\n",
       " 'TEAM_AST_PCT',\n",
       " 'TEAM_AST_RATIO',\n",
       " 'TEAM_AST_TO',\n",
       " 'TEAM_DEF_RATING',\n",
       " 'TEAM_DREB_PCT',\n",
       " 'TEAM_EFG_PCT',\n",
       " 'TEAM_E_DEF_RATING',\n",
       " 'TEAM_E_NET_RATING',\n",
       " 'TEAM_E_OFF_RATING',\n",
       " 'TEAM_E_PACE',\n",
       " 'TEAM_NET_RATING',\n",
       " 'TEAM_OFF_RATING',\n",
       " 'TEAM_OREB_PCT',\n",
       " 'TEAM_PACE',\n",
       " 'TEAM_PACE_PER40',\n",
       " 'TEAM_PIE',\n",
       " 'TEAM_POSS',\n",
       " 'TEAM_REB_PCT',\n",
       " 'TEAM_TM_TOV_PCT',\n",
       " 'TEAM_TS_PCT',\n",
       " 'TEAM_FTA_RATE',\n",
       " 'TEAM_OPP_EFG_PCT',\n",
       " 'TEAM_OPP_FTA_RATE',\n",
       " 'TEAM_OPP_OREB_PCT',\n",
       " 'TEAM_OPP_TOV_PCT',\n",
       " 'TEAM_OPP_PTS_2ND_CHANCE',\n",
       " 'TEAM_OPP_PTS_FB',\n",
       " 'TEAM_OPP_PTS_OFF_TOV',\n",
       " 'TEAM_OPP_PTS_PAINT',\n",
       " 'TEAM_PTS_2ND_CHANCE',\n",
       " 'TEAM_PTS_FB',\n",
       " 'TEAM_PTS_OFF_TOV',\n",
       " 'TEAM_PTS_PAINT',\n",
       " 'TEAM_PCT_AST_2PM',\n",
       " 'TEAM_PCT_AST_3PM',\n",
       " 'TEAM_PCT_AST_FGM',\n",
       " 'TEAM_PCT_FGA_2PT',\n",
       " 'TEAM_PCT_FGA_3PT',\n",
       " 'TEAM_PCT_PTS_2PT',\n",
       " 'TEAM_PCT_PTS_2PT_MR',\n",
       " 'TEAM_PCT_PTS_3PT',\n",
       " 'TEAM_PCT_PTS_FB',\n",
       " 'TEAM_PCT_PTS_FT',\n",
       " 'TEAM_PCT_PTS_OFF_TOV',\n",
       " 'TEAM_PCT_PTS_PAINT',\n",
       " 'TEAM_PCT_UAST_2PM',\n",
       " 'TEAM_PCT_UAST_3PM',\n",
       " 'TEAM_PCT_UAST_FGM',\n",
       " 'PLAYER_ID_y',\n",
       " 'PLAYER_NAME_y',\n",
       " 'TEAM_ID',\n",
       " 'TEAM_ABBREVIATION',\n",
       " 'BIO_AGE',\n",
       " 'BIO_PLAYER_HEIGHT_INCHES',\n",
       " 'BIO_PLAYER_WEIGHT',\n",
       " 'BIO_COUNTRY',\n",
       " 'BIO_DRAFT_YEAR',\n",
       " 'BIO_DRAFT_ROUND',\n",
       " 'BIO_DRAFT_NUMBER',\n",
       " 'BIO_SEASON_ID',\n",
       " 'BIO_PLAYER_SEASON_ID']"
      ]
     },
     "execution_count": 78,
     "metadata": {},
     "output_type": "execute_result"
    }
   ],
   "source": [
    "col_list = merged_df.columns.tolist()\n",
    "col_list"
   ]
  },
  {
   "cell_type": "markdown",
   "metadata": {},
   "source": [
    "A few columns got duplicated in the merge. I identify and remove them."
   ]
  },
  {
   "cell_type": "code",
   "execution_count": 79,
   "metadata": {},
   "outputs": [
    {
     "data": {
      "text/plain": [
       "['SEASON_YEAR_y',\n",
       " 'TEAM_ID_y',\n",
       " 'TEAM_ABBREVIATION_y',\n",
       " 'TEAM_NAME_y',\n",
       " 'GAME_ID_y',\n",
       " 'GAME_DATE_y',\n",
       " 'MATCHUP_y',\n",
       " 'PLAYER_ID_y',\n",
       " 'PLAYER_NAME_y']"
      ]
     },
     "execution_count": 79,
     "metadata": {},
     "output_type": "execute_result"
    }
   ],
   "source": [
    "duplicates = [col for col in merged_df.columns if col.endswith('y')]\n",
    "duplicates"
   ]
  },
  {
   "cell_type": "code",
   "execution_count": 80,
   "metadata": {},
   "outputs": [],
   "source": [
    "merged_df.drop(columns = duplicates,inplace=True)"
   ]
  },
  {
   "cell_type": "code",
   "execution_count": 81,
   "metadata": {},
   "outputs": [
    {
     "data": {
      "text/plain": [
       "(201805, 187)"
      ]
     },
     "execution_count": 81,
     "metadata": {},
     "output_type": "execute_result"
    }
   ],
   "source": [
    "merged_df.shape"
   ]
  },
  {
   "cell_type": "markdown",
   "metadata": {},
   "source": [
    "Now that the box score data is cleaned and merged, I export it to prepare for EDA and Modeling."
   ]
  },
  {
   "cell_type": "code",
   "execution_count": 82,
   "metadata": {},
   "outputs": [],
   "source": [
    "merged_df.to_csv('./Data/cleaned_and_merged_data.csv',index=False)"
   ]
  }
 ],
 "metadata": {
  "kernelspec": {
   "display_name": "capstone-env",
   "language": "python",
   "name": "capstone-env"
  },
  "language_info": {
   "codemirror_mode": {
    "name": "ipython",
    "version": 3
   },
   "file_extension": ".py",
   "mimetype": "text/x-python",
   "name": "python",
   "nbconvert_exporter": "python",
   "pygments_lexer": "ipython3",
   "version": "3.10.13"
  }
 },
 "nbformat": 4,
 "nbformat_minor": 4
}
