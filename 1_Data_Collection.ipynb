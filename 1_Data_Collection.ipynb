{
 "cells": [
  {
   "cell_type": "markdown",
   "metadata": {},
   "source": [
    "# Data Collection Notebook"
   ]
  },
  {
   "cell_type": "markdown",
   "metadata": {},
   "source": [
    "The goal of this project is to build a model to predict how many points a player will score in an NBA game. In this notebook,\n",
    "I start by creating a function to collect player and team data from NBA.com. I begin with player box score records from the 2015-16 season to the 2022-23 season. I use the 2015-16 season as a cut off because, while the league has changed significantly since then, teams had already adapted core features of modern basketball at that point: many power forwards were expected and able to shoot three point shots, for instance. \n",
    "\n",
    "In this notebook, I gather all of the data to train and test my models by web scraping nba.com.  I learned how to do this from the [this video](https://www.youtube.com/watch?v=o6Ih934hADU) from Dataquest and [this video](https://www.youtube.com/watch?v=IELK56jIsEo) from Learn with Jabe, and while I wrote my own code for my specific purpose, I adapted my approach from those videos. First, I start with box score data because that is the data set that contains the target variable. After gathering the box score data, I collect additional player and team data to use as features in my model."
   ]
  },
  {
   "cell_type": "markdown",
   "metadata": {},
   "source": [
    "## 1. Imports and Setup"
   ]
  },
  {
   "cell_type": "markdown",
   "metadata": {},
   "source": [
    "First, I import the packages that I am going to need for data collection, define the headers that will show NBA.com that it can permit my request to web scrape the data I need, and define the relevant seasons for my study."
   ]
  },
  {
   "cell_type": "code",
   "execution_count": 1,
   "metadata": {},
   "outputs": [],
   "source": [
    "import pandas as pd\n",
    "import requests\n",
    "import re\n",
    "from collections import defaultdict"
   ]
  },
  {
   "cell_type": "markdown",
   "metadata": {},
   "source": [
    "These headers come from the [Stack Overflow](https://stackoverflow.com/questions/59886998/what-headers-am-i-missing-to-scrape-the-nba-stats-data)."
   ]
  },
  {
   "cell_type": "code",
   "execution_count": 2,
   "metadata": {},
   "outputs": [],
   "source": [
    "headers= {'user-agent': 'Mozilla/5.0 (Windows NT 10.0; Win64; x64) AppleWebKit/537.36 (KHTML, like Gecko) Chrome/96.0.4664.110 Safari/537.36',\n",
    "          'Referer': 'https://www.nba.com/'}"
   ]
  },
  {
   "cell_type": "code",
   "execution_count": 3,
   "metadata": {},
   "outputs": [],
   "source": [
    "season_list = [\n",
    "    '2015-16',\n",
    "    '2016-17',\n",
    "    '2017-18',\n",
    "    '2018-19',\n",
    "    '2019-20',\n",
    "    '2020-21',\n",
    "    '2021-22',\n",
    "    '2022-23'\n",
    "]"
   ]
  },
  {
   "cell_type": "markdown",
   "metadata": {},
   "source": [
    "## 2. Data Collection"
   ]
  },
  {
   "cell_type": "markdown",
   "metadata": {},
   "source": [
    "In this part of the notebook, I build functions to pull statistics from all of the seasons that are relevant to my project. The first function takes a list of URLs from nba.com, iterates through each season, collects the data as dataframes, and then concatenates the dataframes for each season into a final dataframe. The second function merges related dataframes into a single dataframe which it exports to a CSV."
   ]
  },
  {
   "cell_type": "markdown",
   "metadata": {},
   "source": [
    "### 2a. Collecting Player Box Scores"
   ]
  },
  {
   "cell_type": "markdown",
   "metadata": {},
   "source": [
    "I start with player box scores, which contain metrics related to each player's performance in each game that was played, because this information will serve as the backbone of my project."
   ]
  },
  {
   "cell_type": "code",
   "execution_count": 4,
   "metadata": {},
   "outputs": [],
   "source": [
    "# These are the URLs for the box score data I need. The function I create will adjust the season using the above list.\n",
    "player_box_score_urls = [\n",
    "    {'player_box_scores_traditional':'https://stats.nba.com/stats/leaguegamelog?Counter=1000&DateFrom=&DateTo=&Direction=DESC&ISTRound=&LeagueID=00&PlayerOrTeam=P&Season=2022-23&SeasonType=Regular%20Season&Sorter=DATE'},\n",
    "    {'player_box_scores_advanced':'https://stats.nba.com/stats/playergamelogs?DateFrom=&DateTo=&GameSegment=&ISTRound=&LastNGames=0&LeagueID=00&Location=&MeasureType=Advanced&Month=0&OpponentTeamID=0&Outcome=&PORound=0&PaceAdjust=N&PerMode=Totals&Period=0&PlusMinus=N&Rank=N&Season=2023-24&SeasonSegment=&SeasonType=Regular%20Season&ShotClockRange=&VsConference=&VsDivision='},\n",
    "    {'player_box_scores_misc':'https://stats.nba.com/stats/playergamelogs?DateFrom=&DateTo=&GameSegment=&ISTRound=&LastNGames=0&LeagueID=00&Location=&MeasureType=Misc&Month=0&OpponentTeamID=0&Outcome=&PORound=0&PaceAdjust=N&PerMode=Totals&Period=0&PlusMinus=N&Rank=N&Season=2023-24&SeasonSegment=&SeasonType=Regular%20Season&ShotClockRange=&VsConference=&VsDivision='},\n",
    "    {'player_box_scores_scoring':'https://stats.nba.com/stats/playergamelogs?DateFrom=&DateTo=&GameSegment=&ISTRound=&LastNGames=0&LeagueID=00&Location=&MeasureType=Scoring&Month=0&OpponentTeamID=0&Outcome=&PORound=0&PaceAdjust=N&PerMode=Totals&Period=0&PlusMinus=N&Rank=N&Season=2023-24&SeasonSegment=&SeasonType=Regular%20Season&ShotClockRange=&VsConference=&VsDivision='},\n",
    "    {'player_box_scores_usage':'https://stats.nba.com/stats/playergamelogs?DateFrom=&DateTo=&GameSegment=&ISTRound=&LastNGames=0&LeagueID=00&Location=&MeasureType=Usage&Month=0&OpponentTeamID=0&Outcome=&PORound=0&PaceAdjust=N&PerMode=Totals&Period=0&PlusMinus=N&Rank=N&Season=2023-24&SeasonSegment=&SeasonType=Regular%20Season&ShotClockRange=&VsConference=&VsDivision='}\n",
    "]"
   ]
  },
  {
   "cell_type": "markdown",
   "metadata": {},
   "source": [
    "This function iterates through a list of URLs, iterates through each season from the season list to collect data from each one, concatenates the results, and then returns a dictionary with they names and dataframes as key-value pairs."
   ]
  },
  {
   "cell_type": "code",
   "execution_count": 5,
   "metadata": {},
   "outputs": [],
   "source": [
    "def collect_player_box_scores(url_list):\n",
    "    \n",
    "    default_dict = defaultdict(pd.DataFrame)\n",
    "    #This pattern allows the for loop to modify the URLs by season.\n",
    "    pattern = r'(Season=\\d{4}-\\d{2})'\n",
    "    \n",
    "    for dictionary in url_list:\n",
    "        for name, url in dictionary.items():\n",
    "            dfs = []\n",
    "            for season_id in season_list:\n",
    "                modified_url = re.sub(pattern, f'Season={season_id}', url)\n",
    "                response = requests.get(modified_url, headers=headers).json()\n",
    "                rows = response['resultSets'][0]['rowSet']\n",
    "                columns = response['resultSets'][0]['headers']\n",
    "                df = pd.DataFrame(rows, columns=columns)\n",
    "                df['PLAYER_GAME_ID'] = df['PLAYER_ID'].astype(str)+df['GAME_ID'].astype(str)\n",
    "                dfs.append(df)\n",
    "        \n",
    "        final_df = pd.concat(dfs, sort=False)\n",
    "        default_dict[name] = final_df\n",
    "        print(name + ' complete')\n",
    "    return default_dict"
   ]
  },
  {
   "cell_type": "code",
   "execution_count": 6,
   "metadata": {},
   "outputs": [
    {
     "name": "stdout",
     "output_type": "stream",
     "text": [
      "player_box_scores_traditional complete\n",
      "player_box_scores_advanced complete\n",
      "player_box_scores_misc complete\n",
      "player_box_scores_scoring complete\n",
      "player_box_scores_usage complete\n"
     ]
    }
   ],
   "source": [
    "player_box_scores_dict = collect_player_box_scores(player_box_score_urls)"
   ]
  },
  {
   "cell_type": "markdown",
   "metadata": {},
   "source": [
    "This second function merges the related dataframes together into a single dataframe and then exports them into a CSV. "
   ]
  },
  {
   "cell_type": "code",
   "execution_count": 7,
   "metadata": {},
   "outputs": [],
   "source": [
    "def merge_dfs(df_dict,identifier,csv_name):\n",
    "    \n",
    "    merged_df = pd.DataFrame()\n",
    "    \n",
    "    for name, df in df_dict.items():\n",
    "        if merged_df.empty:\n",
    "            merged_df = df\n",
    "            print(name + ' merge complete')\n",
    "        else:    \n",
    "            cols_to_use = df.columns.difference(merged_df.columns)\n",
    "            cols_to_use = cols_to_use.tolist()\n",
    "            cols_to_use.append(identifier)\n",
    "            merged_df = pd.merge(merged_df,df[cols_to_use],on=identifier)\n",
    "            merged_df.to_csv('./Data/'+csv_name+'.csv',index=False)\n",
    "            print(name + ' merge complete')\n",
    "    \n",
    "    return"
   ]
  },
  {
   "cell_type": "code",
   "execution_count": 8,
   "metadata": {},
   "outputs": [
    {
     "name": "stdout",
     "output_type": "stream",
     "text": [
      "player_box_scores_traditional merge complete\n",
      "player_box_scores_advanced merge complete\n",
      "player_box_scores_misc merge complete\n",
      "player_box_scores_scoring merge complete\n",
      "player_box_scores_usage merge complete\n"
     ]
    }
   ],
   "source": [
    "merge_dfs(player_box_scores_dict,'PLAYER_GAME_ID','player_box_scores')"
   ]
  },
  {
   "cell_type": "markdown",
   "metadata": {},
   "source": [
    "The CSV looks good. Moving forward, I continue to use this basic process with minor adjustments as needed. I no longer need the dictionary storing all of that data, so I delete it."
   ]
  },
  {
   "cell_type": "code",
   "execution_count": 9,
   "metadata": {},
   "outputs": [],
   "source": [
    "del player_box_scores_dict"
   ]
  },
  {
   "cell_type": "markdown",
   "metadata": {},
   "source": [
    "### 2b. Collecting Team Box Scores"
   ]
  },
  {
   "cell_type": "markdown",
   "metadata": {},
   "source": [
    "Next, I collect data related to the team's performance in each game. This is going to be important because team tendencies impact player scoring. For instance, the pace a team plays with, the frequency of fast breaks, and its shot profile could all be relevant to individual player scoring."
   ]
  },
  {
   "cell_type": "code",
   "execution_count": 10,
   "metadata": {},
   "outputs": [],
   "source": [
    "team_box_score_urls = [\n",
    "    {'team_box_scores_traditional':'https://stats.nba.com/stats/teamgamelogs?DateFrom=&DateTo=&GameSegment=&ISTRound=&LastNGames=0&LeagueID=00&Location=&MeasureType=Base&Month=0&OpponentTeamID=0&Outcome=&PORound=0&PaceAdjust=N&PerMode=Totals&Period=0&PlusMinus=N&Rank=N&Season=2023-24&SeasonSegment=&SeasonType=Regular%20Season&ShotClockRange=&VsConference=&VsDivision='},\n",
    "    {'team_box_scores_advanced':'https://stats.nba.com/stats/teamgamelogs?DateFrom=&DateTo=&GameSegment=&ISTRound=&LastNGames=0&LeagueID=00&Location=&MeasureType=Advanced&Month=0&OpponentTeamID=0&Outcome=&PORound=0&PaceAdjust=N&PerMode=Totals&Period=0&PlusMinus=N&Rank=N&Season=2023-24&SeasonSegment=&SeasonType=Regular%20Season&ShotClockRange=&VsConference=&VsDivision='},\n",
    "    {'team_box_scores_four_factors':'https://stats.nba.com/stats/teamgamelogs?DateFrom=&DateTo=&GameSegment=&ISTRound=&LastNGames=0&LeagueID=00&Location=&MeasureType=Four%20Factors&Month=0&OpponentTeamID=0&Outcome=&PORound=0&PaceAdjust=N&PerMode=Totals&Period=0&PlusMinus=N&Rank=N&Season=2023-24&SeasonSegment=&SeasonType=Regular%20Season&ShotClockRange=&VsConference=&VsDivision='},\n",
    "    {'team_box_scores_misc':'https://stats.nba.com/stats/teamgamelogs?DateFrom=&DateTo=&GameSegment=&ISTRound=&LastNGames=0&LeagueID=00&Location=&MeasureType=Misc&Month=0&OpponentTeamID=0&Outcome=&PORound=0&PaceAdjust=N&PerMode=Totals&Period=0&PlusMinus=N&Rank=N&Season=2023-24&SeasonSegment=&SeasonType=Regular%20Season&ShotClockRange=&VsConference=&VsDivision='},\n",
    "    {'team_box_scores_scoring':'https://stats.nba.com/stats/teamgamelogs?DateFrom=&DateTo=&GameSegment=&ISTRound=&LastNGames=0&LeagueID=00&Location=&MeasureType=Scoring&Month=0&OpponentTeamID=0&Outcome=&PORound=0&PaceAdjust=N&PerMode=Totals&Period=0&PlusMinus=N&Rank=N&Season=2023-24&SeasonSegment=&SeasonType=Regular%20Season&ShotClockRange=&VsConference=&VsDivision='}\n",
    "]"
   ]
  },
  {
   "cell_type": "markdown",
   "metadata": {},
   "source": [
    "I have to adjust the formula here because I want to create a team game id column rather than a player game id column."
   ]
  },
  {
   "cell_type": "code",
   "execution_count": 11,
   "metadata": {},
   "outputs": [],
   "source": [
    "def collect_team_box_scores(url_list):\n",
    "    \n",
    "    default_dict = defaultdict(pd.DataFrame)\n",
    "    pattern = r'(Season=\\d{4}-\\d{2})'\n",
    "    \n",
    "    for dictionary in url_list:\n",
    "        for name, url in dictionary.items():\n",
    "            dfs = []\n",
    "            for season_id in season_list:\n",
    "                modified_url = re.sub(pattern, f'Season={season_id}', url)\n",
    "                response = requests.get(modified_url, headers=headers).json()\n",
    "                rows = response['resultSets'][0]['rowSet']\n",
    "                columns = response['resultSets'][0]['headers']\n",
    "                df = pd.DataFrame(rows, columns=columns)\n",
    "                #I adjust the code slightly to reference team id instead of player id\n",
    "                df['TEAM_GAME_ID'] = df['TEAM_ID'].astype(str)+df['GAME_ID'].astype(str)\n",
    "                dfs.append(df)\n",
    "        \n",
    "        final_df = pd.concat(dfs, sort=False)\n",
    "        default_dict[name] = final_df\n",
    "        print(name + ' complete')\n",
    "    return default_dict"
   ]
  },
  {
   "cell_type": "code",
   "execution_count": 12,
   "metadata": {},
   "outputs": [
    {
     "name": "stdout",
     "output_type": "stream",
     "text": [
      "team_box_scores_traditional complete\n",
      "team_box_scores_advanced complete\n",
      "team_box_scores_four_factors complete\n",
      "team_box_scores_misc complete\n",
      "team_box_scores_scoring complete\n"
     ]
    }
   ],
   "source": [
    "team_box_scores_dict = collect_team_box_scores(team_box_score_urls)"
   ]
  },
  {
   "cell_type": "code",
   "execution_count": 13,
   "metadata": {},
   "outputs": [
    {
     "name": "stdout",
     "output_type": "stream",
     "text": [
      "team_box_scores_traditional merge complete\n",
      "team_box_scores_advanced merge complete\n",
      "team_box_scores_four_factors merge complete\n",
      "team_box_scores_misc merge complete\n",
      "team_box_scores_scoring merge complete\n"
     ]
    }
   ],
   "source": [
    "merge_dfs(team_box_scores_dict,'TEAM_GAME_ID','team_box_scores')"
   ]
  },
  {
   "cell_type": "code",
   "execution_count": 14,
   "metadata": {},
   "outputs": [],
   "source": [
    "del team_box_scores_dict"
   ]
  },
  {
   "cell_type": "markdown",
   "metadata": {},
   "source": [
    "With all the data collected, it's time to move on to preprocessing."
   ]
  },
  {
   "cell_type": "markdown",
   "metadata": {},
   "source": [
    "### 2c. Collecting Player Bios"
   ]
  },
  {
   "cell_type": "markdown",
   "metadata": {},
   "source": [
    "The final data set I collect for my analysis shows general information for each player, including their age, height, weight, and draft pick."
   ]
  },
  {
   "cell_type": "code",
   "execution_count": 26,
   "metadata": {},
   "outputs": [],
   "source": [
    "player_bios_urls = [\n",
    "    {'player_bios':'https://stats.nba.com/stats/leaguedashplayerbiostats?College=&Conference=&Country=&DateFrom=&DateTo=&Division=&DraftPick=&DraftYear=&GameScope=&GameSegment=&Height=&ISTRound=&LastNGames=0&LeagueID=00&Location=&Month=0&OpponentTeamID=0&Outcome=&PORound=0&PerMode=PerGame&Period=0&PlayerExperience=&PlayerPosition=&Season=2023-24&SeasonSegment=&SeasonType=Regular%20Season&ShotClockRange=&StarterBench=&TeamID=0&VsConference=&VsDivision=&Weight='}\n",
    "]"
   ]
  },
  {
   "cell_type": "markdown",
   "metadata": {},
   "source": [
    "I had to adjust the formula slightly again because there was no need to include a team id."
   ]
  },
  {
   "cell_type": "code",
   "execution_count": 30,
   "metadata": {},
   "outputs": [],
   "source": [
    "def collect(url_list):\n",
    "    \n",
    "    #There is no need to merge multiple dataframes so I do not include a default dictionary.\n",
    "    pattern = r'(Season=\\d{4}-\\d{2})'\n",
    "    \n",
    "    for dictionary in url_list:\n",
    "        for name, url in dictionary.items():\n",
    "            dfs = []\n",
    "            for season_id in season_list:\n",
    "                modified_url = re.sub(pattern, f'Season={season_id}', url)\n",
    "                response = requests.get(modified_url, headers=headers).json()\n",
    "                rows = response['resultSets'][0]['rowSet']\n",
    "                columns = response['resultSets'][0]['headers']\n",
    "                df = pd.DataFrame(rows, columns=columns)\n",
    "                #There is no need for game ids for this function, however, there is a need to add a season ID.\n",
    "                df['SEASON_ID'] = season_id\n",
    "                dfs.append(df)\n",
    "        \n",
    "        final_df = pd.concat(dfs, sort=False)\n",
    "        print(name + ' complete')\n",
    "    return final_df"
   ]
  },
  {
   "cell_type": "code",
   "execution_count": 31,
   "metadata": {},
   "outputs": [
    {
     "name": "stdout",
     "output_type": "stream",
     "text": [
      "player_bios complete\n"
     ]
    }
   ],
   "source": [
    "player_bios_df = collect(player_bios_urls)"
   ]
  },
  {
   "cell_type": "code",
   "execution_count": 32,
   "metadata": {},
   "outputs": [],
   "source": [
    "player_bios_df.to_csv('./Data/player_bios.csv',index=False)"
   ]
  },
  {
   "cell_type": "markdown",
   "metadata": {},
   "source": [
    "Now that I have all of the data I need, in the next notebook, I merge each of these data sets together and clean the results."
   ]
  }
 ],
 "metadata": {
  "kernelspec": {
   "display_name": "capstone-env",
   "language": "python",
   "name": "capstone-env"
  },
  "language_info": {
   "codemirror_mode": {
    "name": "ipython",
    "version": 3
   },
   "file_extension": ".py",
   "mimetype": "text/x-python",
   "name": "python",
   "nbconvert_exporter": "python",
   "pygments_lexer": "ipython3",
   "version": "3.10.13"
  }
 },
 "nbformat": 4,
 "nbformat_minor": 4
}
